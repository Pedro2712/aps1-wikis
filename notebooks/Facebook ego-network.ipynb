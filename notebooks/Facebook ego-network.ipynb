{
 "cells": [
  {
   "cell_type": "markdown",
   "id": "38ce4ced",
   "metadata": {},
   "source": [
    "### Importando as bibliotecas"
   ]
  },
  {
   "cell_type": "code",
   "execution_count": 1,
   "id": "19580da7",
   "metadata": {},
   "outputs": [
    {
     "data": {
      "text/html": [
       "\n",
       "    <script src=\"/files/netpixi.min.js\"></script>\n"
      ],
      "text/plain": [
       "<IPython.core.display.HTML object>"
      ]
     },
     "metadata": {},
     "output_type": "display_data"
    },
    {
     "name": "stderr",
     "output_type": "stream",
     "text": [
      "<frozen importlib._bootstrap>:914: ImportWarning: VendorImporter.find_spec() not found; falling back to find_module()\n",
      "<frozen importlib._bootstrap>:914: ImportWarning: VendorImporter.find_spec() not found; falling back to find_module()\n",
      "<frozen importlib._bootstrap>:914: ImportWarning: VendorImporter.find_spec() not found; falling back to find_module()\n"
     ]
    }
   ],
   "source": [
    "import netpixi\n",
    "from netpixi.integration.gt import Graph\n",
    "from netpixi.integration.gt import *\n",
    "import seaborn as sns\n",
    "from regression.integration.gt import *"
   ]
  },
  {
   "cell_type": "markdown",
   "id": "e1957f20",
   "metadata": {},
   "source": [
    "### Criando o grafo"
   ]
  },
  {
   "cell_type": "code",
   "execution_count": 2,
   "id": "8a5b350d",
   "metadata": {},
   "outputs": [],
   "source": [
    "g = Graph(directed=False) # não-dirigido\n",
    "\n",
    "with open('facebook_combined.txt', \"r\") as arquivo:\n",
    "    teste = arquivo.readline()\n",
    "    lista = []\n",
    "    while teste:\n",
    "        linha = teste.split()\n",
    "        node1 = linha[0]\n",
    "        node2 = linha[1]\n",
    "            \n",
    "        if node1 not in lista:\n",
    "            lista.append(node1)\n",
    "            g.add_vertex(node1)\n",
    "        \n",
    "        if node2 not in lista:\n",
    "            lista.append(node2)\n",
    "            g.add_vertex(node2)\n",
    "        \n",
    "        g.add_edge(node1, node2)\n",
    "        \n",
    "        teste = arquivo.readline()"
   ]
  },
  {
   "cell_type": "markdown",
   "id": "870b61ca",
   "metadata": {},
   "source": [
    "### Salvando o grafo"
   ]
  },
  {
   "cell_type": "code",
   "execution_count": 3,
   "id": "0fb35dc8",
   "metadata": {},
   "outputs": [],
   "source": [
    "gt_save(g, 'facebook.net.gz')"
   ]
  },
  {
   "cell_type": "markdown",
   "id": "96220586",
   "metadata": {},
   "source": [
    "### Compilando e renderizando o grafo"
   ]
  },
  {
   "cell_type": "code",
   "execution_count": 4,
   "id": "6df3db18",
   "metadata": {},
   "outputs": [
    {
     "data": {
      "text/html": [
       "\n",
       "        <div id=\"F3thBYN9FXofc3Xnr7yHLd\"></div>\n",
       "        <script>netpixi.render('F3thBYN9FXofc3Xnr7yHLd', 'facebook.net.gz', 1.7777777777777777, true, false, false);</script>\n",
       "    "
      ],
      "text/plain": [
       "<IPython.core.display.HTML object>"
      ]
     },
     "metadata": {},
     "output_type": "display_data"
    }
   ],
   "source": [
    "g = gt_load('facebook.net.gz')\n",
    "r = netpixi.render('facebook.net.gz')"
   ]
  },
  {
   "cell_type": "markdown",
   "id": "2a440a5d",
   "metadata": {},
   "source": [
    "### Melhorando visualmento o grafo"
   ]
  },
  {
   "cell_type": "code",
   "execution_count": 5,
   "id": "eec2b698",
   "metadata": {},
   "outputs": [
    {
     "data": {
      "text/html": [
       "\n",
       "        <div id=\"KXgx55Mct79Ys96RThFBRB\"></div>\n",
       "        <script>netpixi.call('KXgx55Mct79Ys96RThFBRB', 'F3thBYN9FXofc3Xnr7yHLd', 'changeGraph', 'eyJ0eXBlIjogInNldHRpbmdzIiwgInByb3BzIjogeyJncmFwaCI6IHsiY29sb3IiOiAxNjc3NzIxNX19fQo=');</script>\n",
       "    "
      ],
      "text/plain": [
       "<IPython.core.display.HTML object>"
      ]
     },
     "metadata": {},
     "output_type": "display_data"
    },
    {
     "data": {
      "text/html": [
       "\n",
       "        <div id=\"AXMFPJ3y6n3NajoQBdT95X\"></div>\n",
       "        <script>netpixi.call('AXMFPJ3y6n3NajoQBdT95X', 'F3thBYN9FXofc3Xnr7yHLd', 'changeGraph', 'eyJ0eXBlIjogInNldHRpbmdzIiwgInByb3BzIjogeyJ2ZXJ0ZXgiOiB7ImNvbG9yIjogMCwgInNpemUiOiAxMH19fQo=');</script>\n",
       "    "
      ],
      "text/plain": [
       "<IPython.core.display.HTML object>"
      ]
     },
     "metadata": {},
     "output_type": "display_data"
    },
    {
     "data": {
      "text/html": [
       "\n",
       "        <div id=\"7BWyqsb4R87RQriJug8tdN\"></div>\n",
       "        <script>netpixi.call('7BWyqsb4R87RQriJug8tdN', 'F3thBYN9FXofc3Xnr7yHLd', 'changeGraph', 'eyJpZCI6IDAsICJ0eXBlIjogInZlcnRleCIsICJwcm9wcyI6IHsiY29sb3IiOiAxNjcxMTY4MCwgInNpemUiOiAyMH19Cg==');</script>\n",
       "    "
      ],
      "text/plain": [
       "<IPython.core.display.HTML object>"
      ]
     },
     "metadata": {},
     "output_type": "display_data"
    },
    {
     "data": {
      "text/html": [
       "\n",
       "        <div id=\"CXi2LqdCsd72YWcBUyE82R\"></div>\n",
       "        <script>netpixi.call('CXi2LqdCsd72YWcBUyE82R', 'F3thBYN9FXofc3Xnr7yHLd', 'changeGraph', 'eyJpZCI6IDEsICJ0eXBlIjogInZlcnRleCIsICJwcm9wcyI6IHsiY29sb3IiOiAxNjcxMTY4MCwgInNpemUiOiAyMH19Cg==');</script>\n",
       "    "
      ],
      "text/plain": [
       "<IPython.core.display.HTML object>"
      ]
     },
     "metadata": {},
     "output_type": "display_data"
    },
    {
     "data": {
      "text/html": [
       "\n",
       "        <div id=\"PxqXcPuu7BjppnHyMA6osK\"></div>\n",
       "        <script>netpixi.call('PxqXcPuu7BjppnHyMA6osK', 'F3thBYN9FXofc3Xnr7yHLd', 'changeGraph', 'eyJ0eXBlIjogInNldHRpbmdzIiwgInByb3BzIjogeyJlZGdlIjogeyJjb2xvciI6IDAsICJ3aWR0aCI6IDEsICJjdXJ2ZTEiOiAxLCAiY3VydmUyIjogMX19fQo=');</script>\n",
       "    "
      ],
      "text/plain": [
       "<IPython.core.display.HTML object>"
      ]
     },
     "metadata": {},
     "output_type": "display_data"
    },
    {
     "data": {
      "text/html": [
       "\n",
       "        <div id=\"FRWjsBbtFeh3jKy2zYJjvy\"></div>\n",
       "        <script>netpixi.call('FRWjsBbtFeh3jKy2zYJjvy', 'F3thBYN9FXofc3Xnr7yHLd', 'changeGraph', 'eyJzb3VyY2UiOiAwLCAidGFyZ2V0IjogMSwgInR5cGUiOiAiZWRnZSIsICJwcm9wcyI6IHsiY29sb3IiOiAyNTUsICJ3aWR0aCI6IDJ9fQo=');</script>\n",
       "    "
      ],
      "text/plain": [
       "<IPython.core.display.HTML object>"
      ]
     },
     "metadata": {},
     "output_type": "display_data"
    }
   ],
   "source": [
    "# mudar a cor de fundo do grafo\n",
    "r.graph(color=0xffffff)\n",
    "\n",
    "# mudar a cor e o tamanho dos vértices\n",
    "r.vertex_default(color=0x000000, size=10)\n",
    "\n",
    "# mudar um vértice específico a partir de seu id\n",
    "r.vertex(0, color=0xff0000, size=20)\n",
    "r.vertex(1, color=0xff0000, size=20)\n",
    "\n",
    "# mudar a cor, a espessura e a curvatura das arestas\n",
    "r.edge_default(color=0x000000, width=1, curve1=1, curve2=1)\n",
    "\n",
    "# mudar uma aresta específica a partir dos ids de sua origem e destino\n",
    "r.edge(0, 1, color=0x0000ff, width=2)"
   ]
  },
  {
   "cell_type": "markdown",
   "id": "1bae4faa",
   "metadata": {},
   "source": [
    "### Análise exploratória do grafo"
   ]
  },
  {
   "cell_type": "code",
   "execution_count": 6,
   "id": "54cd26b6",
   "metadata": {},
   "outputs": [
    {
     "data": {
      "text/plain": [
       "4039"
      ]
     },
     "execution_count": 6,
     "metadata": {},
     "output_type": "execute_result"
    }
   ],
   "source": [
    "# Números de vértices\n",
    "\n",
    "n = g.num_vertices()\n",
    "n"
   ]
  },
  {
   "cell_type": "code",
   "execution_count": 7,
   "id": "8fe1561d",
   "metadata": {},
   "outputs": [
    {
     "data": {
      "text/plain": [
       "88234"
      ]
     },
     "execution_count": 7,
     "metadata": {},
     "output_type": "execute_result"
    }
   ],
   "source": [
    "# Número de arestas\n",
    "\n",
    "m = g.num_edges()\n",
    "m"
   ]
  },
  {
   "cell_type": "code",
   "execution_count": 8,
   "id": "803ae8e8",
   "metadata": {},
   "outputs": [
    {
     "data": {
      "text/plain": [
       "8154741"
      ]
     },
     "execution_count": 8,
     "metadata": {},
     "output_type": "execute_result"
    }
   ],
   "source": [
    "# Número máximo possível de arestas\n",
    "\n",
    "if g.is_directed():\n",
    "    max_edges = n * (n - 1)\n",
    "else:\n",
    "    max_edges = n * (n - 1) // 2\n",
    "max_edges"
   ]
  },
  {
   "cell_type": "code",
   "execution_count": 9,
   "id": "4197d6bd",
   "metadata": {
    "scrolled": true
   },
   "outputs": [
    {
     "data": {
      "text/plain": [
       "0.010819963503439287"
      ]
     },
     "execution_count": 9,
     "metadata": {},
     "output_type": "execute_result"
    }
   ],
   "source": [
    "# Densidade\n",
    "\n",
    "d = m / max_edges\n",
    "d"
   ]
  },
  {
   "cell_type": "code",
   "execution_count": 10,
   "id": "c4669356",
   "metadata": {},
   "outputs": [
    {
     "data": {
      "text/html": [
       "<div>\n",
       "<style scoped>\n",
       "    .dataframe tbody tr th:only-of-type {\n",
       "        vertical-align: middle;\n",
       "    }\n",
       "\n",
       "    .dataframe tbody tr th {\n",
       "        vertical-align: top;\n",
       "    }\n",
       "\n",
       "    .dataframe thead th {\n",
       "        text-align: right;\n",
       "    }\n",
       "</style>\n",
       "<table border=\"1\" class=\"dataframe\">\n",
       "  <thead>\n",
       "    <tr style=\"text-align: right;\">\n",
       "      <th></th>\n",
       "    </tr>\n",
       "    <tr>\n",
       "      <th>id</th>\n",
       "    </tr>\n",
       "  </thead>\n",
       "  <tbody>\n",
       "    <tr>\n",
       "      <th>0</th>\n",
       "    </tr>\n",
       "    <tr>\n",
       "      <th>1</th>\n",
       "    </tr>\n",
       "    <tr>\n",
       "      <th>2</th>\n",
       "    </tr>\n",
       "    <tr>\n",
       "      <th>3</th>\n",
       "    </tr>\n",
       "    <tr>\n",
       "      <th>4</th>\n",
       "    </tr>\n",
       "    <tr>\n",
       "      <th>...</th>\n",
       "    </tr>\n",
       "    <tr>\n",
       "      <th>4034</th>\n",
       "    </tr>\n",
       "    <tr>\n",
       "      <th>4035</th>\n",
       "    </tr>\n",
       "    <tr>\n",
       "      <th>4036</th>\n",
       "    </tr>\n",
       "    <tr>\n",
       "      <th>4037</th>\n",
       "    </tr>\n",
       "    <tr>\n",
       "      <th>4038</th>\n",
       "    </tr>\n",
       "  </tbody>\n",
       "</table>\n",
       "<p>4039 rows × 0 columns</p>\n",
       "</div>"
      ],
      "text/plain": [
       "Empty DataFrame\n",
       "Columns: []\n",
       "Index: [0, 1, 2, 3, 4, 5, 6, 7, 8, 9, 10, 11, 12, 13, 14, 15, 16, 17, 18, 19, 20, 21, 22, 23, 24, 25, 26, 27, 28, 29, 30, 31, 32, 33, 34, 35, 36, 37, 38, 39, 40, 41, 42, 43, 44, 45, 46, 47, 48, 49, 50, 51, 52, 53, 54, 55, 56, 57, 58, 59, 60, 61, 62, 63, 64, 65, 66, 67, 68, 69, 70, 71, 72, 73, 74, 75, 76, 77, 78, 79, 80, 81, 82, 83, 84, 85, 86, 87, 88, 89, 90, 91, 92, 93, 94, 95, 96, 97, 98, 99, ...]\n",
       "\n",
       "[4039 rows x 0 columns]"
      ]
     },
     "execution_count": 10,
     "metadata": {},
     "output_type": "execute_result"
    }
   ],
   "source": [
    "# Propriedades de cada vértice\n",
    "\n",
    "data = gt_data(g)"
   ]
  },
  {
   "cell_type": "code",
   "execution_count": 11,
   "id": "f8ebcccc",
   "metadata": {},
   "outputs": [
    {
     "data": {
      "text/html": [
       "<div>\n",
       "<style scoped>\n",
       "    .dataframe tbody tr th:only-of-type {\n",
       "        vertical-align: middle;\n",
       "    }\n",
       "\n",
       "    .dataframe tbody tr th {\n",
       "        vertical-align: top;\n",
       "    }\n",
       "\n",
       "    .dataframe thead th {\n",
       "        text-align: right;\n",
       "    }\n",
       "</style>\n",
       "<table border=\"1\" class=\"dataframe\">\n",
       "  <thead>\n",
       "    <tr style=\"text-align: right;\">\n",
       "      <th></th>\n",
       "      <th>degree</th>\n",
       "    </tr>\n",
       "    <tr>\n",
       "      <th>id</th>\n",
       "      <th></th>\n",
       "    </tr>\n",
       "  </thead>\n",
       "  <tbody>\n",
       "    <tr>\n",
       "      <th>0</th>\n",
       "      <td>347</td>\n",
       "    </tr>\n",
       "    <tr>\n",
       "      <th>1</th>\n",
       "      <td>17</td>\n",
       "    </tr>\n",
       "    <tr>\n",
       "      <th>2</th>\n",
       "      <td>10</td>\n",
       "    </tr>\n",
       "    <tr>\n",
       "      <th>3</th>\n",
       "      <td>17</td>\n",
       "    </tr>\n",
       "    <tr>\n",
       "      <th>4</th>\n",
       "      <td>10</td>\n",
       "    </tr>\n",
       "    <tr>\n",
       "      <th>...</th>\n",
       "      <td>...</td>\n",
       "    </tr>\n",
       "    <tr>\n",
       "      <th>4034</th>\n",
       "      <td>2</td>\n",
       "    </tr>\n",
       "    <tr>\n",
       "      <th>4035</th>\n",
       "      <td>1</td>\n",
       "    </tr>\n",
       "    <tr>\n",
       "      <th>4036</th>\n",
       "      <td>2</td>\n",
       "    </tr>\n",
       "    <tr>\n",
       "      <th>4037</th>\n",
       "      <td>4</td>\n",
       "    </tr>\n",
       "    <tr>\n",
       "      <th>4038</th>\n",
       "      <td>9</td>\n",
       "    </tr>\n",
       "  </tbody>\n",
       "</table>\n",
       "<p>4039 rows × 1 columns</p>\n",
       "</div>"
      ],
      "text/plain": [
       "      degree\n",
       "id          \n",
       "0        347\n",
       "1         17\n",
       "2         10\n",
       "3         17\n",
       "4         10\n",
       "...      ...\n",
       "4034       2\n",
       "4035       1\n",
       "4036       2\n",
       "4037       4\n",
       "4038       9\n",
       "\n",
       "[4039 rows x 1 columns]"
      ]
     },
     "execution_count": 11,
     "metadata": {},
     "output_type": "execute_result"
    }
   ],
   "source": [
    "# Degree\n",
    "\n",
    "degrees = []\n",
    "for v in g.all_vertices():\n",
    "    degrees.append(v.total_degree())\n",
    "    \n",
    "data['degree'] = degrees\n",
    "data"
   ]
  },
  {
   "cell_type": "code",
   "execution_count": 12,
   "id": "b94da58b",
   "metadata": {
    "scrolled": false
   },
   "outputs": [
    {
     "data": {
      "text/plain": [
       "count    4039.000000\n",
       "mean       43.691013\n",
       "std        52.420605\n",
       "min         1.000000\n",
       "25%        11.000000\n",
       "50%        25.000000\n",
       "75%        57.000000\n",
       "max      1045.000000\n",
       "Name: degree, dtype: float64"
      ]
     },
     "execution_count": 12,
     "metadata": {},
     "output_type": "execute_result"
    },
    {
     "data": {
      "image/png": "[encoded data removed]",
      "text/plain": [
       "<Figure size 640x480 with 1 Axes>"
      ]
     },
     "metadata": {},
     "output_type": "display_data"
    }
   ],
   "source": [
    "# Histograma do degree\n",
    "\n",
    "sns.histplot(data['degree'])\n",
    "data['degree'].describe()"
   ]
  },
  {
   "cell_type": "markdown",
   "id": "6dda6ccd",
   "metadata": {},
   "source": [
    "### Limpando o grafo"
   ]
  },
  {
   "cell_type": "code",
   "execution_count": null,
   "id": "1fdeffb2",
   "metadata": {},
   "outputs": [],
   "source": [
    "g = gt_clean(g)\n",
    "m = gt_draw.sfdp_layout(g)\n",
    "gt_move(g, m)\n",
    "gt_save(g, 'facebook.net.gz')\n",
    "netpixi.render('facebook.net.gz', infinite=True);g = gt_clean(g)\n",
    "m = gt_draw.sfdp_layout(g)\n",
    "gt_move(g, m)\n",
    "gt_save(g, 'facebook.net.gz')\n",
    "netpixi.render('facebook.net.gz', infinite=True);"
   ]
  },
  {
   "cell_type": "code",
   "execution_count": null,
   "id": "56fadddf",
   "metadata": {},
   "outputs": [],
   "source": []
  }
 ],
 "metadata": {
  "kernelspec": {
   "display_name": "Python 3 (ipykernel)",
   "language": "python",
   "name": "python3"
  },
  "language_info": {
   "codemirror_mode": {
    "name": "ipython",
    "version": 3
   },
   "file_extension": ".py",
   "mimetype": "text/x-python",
   "name": "python",
   "nbconvert_exporter": "python",
   "pygments_lexer": "ipython3",
   "version": "3.10.10"
  }
 },
 "nbformat": 4,
 "nbformat_minor": 5
}
