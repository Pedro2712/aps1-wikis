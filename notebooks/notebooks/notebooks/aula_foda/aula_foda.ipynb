{
 "cells": [
  {
   "cell_type": "markdown",
   "id": "b967056d",
   "metadata": {},
   "source": [
    "Nomes do grupo: \n",
    "\n",
    "Pedro Henrique Britto Aragão Andrade, Giancarlo Varone Ruggiero, Ricardo Ribeiro Rodrigues, Willian Kenzo, Pedro Altobelli\n",
    "\n",
    "Dataset:\n",
    "\n",
    "https://www.kaggle.com/datasets/martj42/international-football-results-from-1872-to-2017"
   ]
  },
  {
   "cell_type": "code",
   "execution_count": null,
   "id": "f118f202",
   "metadata": {},
   "outputs": [],
   "source": [
    "import netpixi\n",
    "from netpixi.integration.gt import Graph\n",
    "from netpixi.integration.gt import *\n",
    "import seaborn as sns\n",
    "from regression.integration.gt import *\n",
    "\n",
    "import cpnet\n",
    "\n",
    "from graph_tool import spectral"
   ]
  },
  {
   "cell_type": "code",
   "execution_count": null,
   "id": "c1e8a10b",
   "metadata": {},
   "outputs": [],
   "source": [
    "g = Graph(directed=False) # não-dirigido\n",
    "g.add_vp('is_team')\n",
    "\n",
    "with open('goalscorers.csv', \"r\") as arquivo:\n",
    "    arquivo.readline()\n",
    "    for line in arquivo:\n",
    "        partida= line.split(\",\")\n",
    "        gol_contra= partida[6]\n",
    "        \n",
    "        if gol_contra==\"TRUE\":\n",
    "            continue\n",
    "        \n",
    "        time_casa= partida[1]\n",
    "        time_visitante= partida[2]\n",
    "        time_marcou= partida[3]\n",
    "        jogador= partida[4]\n",
    "        \n",
    "        if not g.has_vertex(jogador):\n",
    "            v = g.add_vertex(jogador)\n",
    "            v['is_team'] = False \n",
    "            \n",
    "        \n",
    "        leva_gol= time_visitante\n",
    "        if time_marcou == time_visitante:\n",
    "            leva_gol= time_casa\n",
    "            \n",
    "        if not g.has_vertex(leva_gol):\n",
    "            v = g.add_vertex(leva_gol)\n",
    "            v['is_team'] = True \n",
    "            \n",
    "            \n",
    "        if not g.has_edge(jogador, leva_gol):\n",
    "            g.add_edge(jogador, leva_gol)"
   ]
  },
  {
   "cell_type": "code",
   "execution_count": null,
   "id": "8accafae",
   "metadata": {},
   "outputs": [],
   "source": [
    "gt_save(g, 'danone.net.gz')"
   ]
  },
  {
   "cell_type": "code",
   "execution_count": null,
   "id": "1946fca4",
   "metadata": {},
   "outputs": [],
   "source": [
    "g = gt_load('danone.net.gz')\n",
    "r = netpixi.render('danone.net.gz')"
   ]
  },
  {
   "cell_type": "code",
   "execution_count": null,
   "id": "da239e04",
   "metadata": {},
   "outputs": [],
   "source": [
    "# mudar a cor de fundo do grafo\n",
    "r.graph(color=0xffffff)\n",
    "\n",
    "# mudar a cor e o tamanho dos vértices\n",
    "r.vertex_default(color=0x000000, size=10)\n",
    "\n",
    "# mudar um vértice específico a partir de seu id\n",
    "r.vertex(0, color=0xff0000, size=20)\n",
    "r.vertex(1, color=0xff0000, size=20)\n",
    "\n",
    "# mudar a cor, a espessura e a curvatura das arestas\n",
    "r.edge_default(color=0x000000, width=1, curve1=0, curve2=0)"
   ]
  },
  {
   "cell_type": "code",
   "execution_count": null,
   "id": "1cebfbb9",
   "metadata": {},
   "outputs": [],
   "source": [
    "g = gt_clean(g)\n",
    "m = gt_draw.sfdp_layout(g)\n",
    "gt_move(g, m)\n",
    "gt_save(g, 'danone.net.gz')\n",
    "netpixi.render('danone.net.gz', infinite=True);"
   ]
  },
  {
   "cell_type": "code",
   "execution_count": null,
   "id": "d5039b47",
   "metadata": {},
   "outputs": [],
   "source": [
    "top = []\n",
    "\n",
    "for v in g.all_vertices():\n",
    "    if v['is_team'] == False:\n",
    "        top.append(v)\n",
    "\n",
    "m = gt_draw.bipartite_layout(g, top)\n",
    "gt_move(g, m)\n",
    "gt_save(g, 'exemplo.net.gz')\n",
    "r = netpixi.render('exemplo.net.gz')"
   ]
  }
 ],
 "metadata": {
  "kernelspec": {
   "display_name": "Python 3 (ipykernel)",
   "language": "python",
   "name": "python3"
  },
  "language_info": {
   "codemirror_mode": {
    "name": "ipython",
    "version": 3
   },
   "file_extension": ".py",
   "mimetype": "text/x-python",
   "name": "python",
   "nbconvert_exporter": "python",
   "pygments_lexer": "ipython3",
   "version": "3.10.10"
  }
 },
 "nbformat": 4,
 "nbformat_minor": 5
}
