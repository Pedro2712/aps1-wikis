{
 "cells": [
  {
   "cell_type": "markdown",
   "id": "38ce4ced",
   "metadata": {},
   "source": [
    "## Importando as bibliotecas"
   ]
  },
  {
   "cell_type": "code",
   "execution_count": null,
   "id": "19580da7",
   "metadata": {},
   "outputs": [],
   "source": [
    "import netpixi\n",
    "from netpixi.integration.gt import Graph\n",
    "from netpixi.integration.gt import *\n",
    "import seaborn as sns\n",
    "from regression.integration.gt import *\n",
    "\n",
    "import cpnet\n",
    "\n",
    "from graph_tool import spectral"
   ]
  },
  {
   "cell_type": "markdown",
   "id": "e1957f20",
   "metadata": {},
   "source": [
    "## Criando o grafo"
   ]
  },
  {
   "cell_type": "code",
   "execution_count": null,
   "id": "8a5b350d",
   "metadata": {},
   "outputs": [],
   "source": [
    "g = Graph(directed=False) # não-dirigido\n",
    "\n",
    "with open('david.txt', \"r\") as arquivo:\n",
    "    for teste in arquivo:\n",
    "        node1, node2 = teste.split()\n",
    "        \n",
    "        if not g.has_vertex(node1):\n",
    "            g.add_vertex(node1)\n",
    "        \n",
    "        if not g.has_vertex(node2):\n",
    "            g.add_vertex(node2)\n",
    "        \n",
    "        g.add_edge(node1, node2)"
   ]
  },
  {
   "cell_type": "markdown",
   "id": "870b61ca",
   "metadata": {},
   "source": [
    "## Salvando o grafo"
   ]
  },
  {
   "cell_type": "code",
   "execution_count": null,
   "id": "0fb35dc8",
   "metadata": {},
   "outputs": [],
   "source": [
    "gt_save(g, 'david.net.gz')"
   ]
  },
  {
   "cell_type": "markdown",
   "id": "96220586",
   "metadata": {},
   "source": [
    "## Compilando e renderizando o grafo"
   ]
  },
  {
   "cell_type": "code",
   "execution_count": null,
   "id": "6df3db18",
   "metadata": {},
   "outputs": [],
   "source": [
    "g = gt_load('david.net.gz')\n",
    "r = netpixi.render('david.net.gz')"
   ]
  },
  {
   "cell_type": "markdown",
   "id": "2a440a5d",
   "metadata": {},
   "source": [
    "## Melhorando visualmento o grafo"
   ]
  },
  {
   "cell_type": "code",
   "execution_count": null,
   "id": "eec2b698",
   "metadata": {},
   "outputs": [],
   "source": [
    "# mudar a cor de fundo do grafo\n",
    "r.graph(color=0xffffff)\n",
    "\n",
    "# mudar a cor e o tamanho dos vértices\n",
    "r.vertex_default(color=0x000000, size=10)\n",
    "\n",
    "# mudar um vértice específico a partir de seu id\n",
    "r.vertex(0, color=0xff0000, size=20)\n",
    "r.vertex(1, color=0xff0000, size=20)\n",
    "\n",
    "# mudar a cor, a espessura e a curvatura das arestas\n",
    "r.edge_default(color=0x000000, width=1, curve1=1, curve2=1)"
   ]
  },
  {
   "cell_type": "markdown",
   "id": "1bae4faa",
   "metadata": {},
   "source": [
    "## Análise exploratória do grafo"
   ]
  },
  {
   "cell_type": "code",
   "execution_count": null,
   "id": "54cd26b6",
   "metadata": {},
   "outputs": [],
   "source": [
    "# Números de vértices\n",
    "\n",
    "n = g.num_vertices()\n",
    "n"
   ]
  },
  {
   "cell_type": "code",
   "execution_count": null,
   "id": "8fe1561d",
   "metadata": {},
   "outputs": [],
   "source": [
    "# Número de arestas\n",
    "\n",
    "m = g.num_edges()\n",
    "m"
   ]
  },
  {
   "cell_type": "code",
   "execution_count": null,
   "id": "803ae8e8",
   "metadata": {},
   "outputs": [],
   "source": [
    "# Número máximo possível de arestas\n",
    "\n",
    "if g.is_directed():\n",
    "    max_edges = n * (n - 1)\n",
    "else:\n",
    "    max_edges = n * (n - 1) // 2\n",
    "max_edges"
   ]
  },
  {
   "cell_type": "code",
   "execution_count": null,
   "id": "4197d6bd",
   "metadata": {
    "scrolled": true
   },
   "outputs": [],
   "source": [
    "# Densidade\n",
    "\n",
    "d = m / max_edges\n",
    "d"
   ]
  },
  {
   "cell_type": "code",
   "execution_count": null,
   "id": "f8ebcccc",
   "metadata": {},
   "outputs": [],
   "source": [
    "# Propriedades de cada vértice\n",
    "\n",
    "data = gt_data(g)\n",
    "\n",
    "# Degree\n",
    "\n",
    "degrees = []\n",
    "for v in g.all_vertices():\n",
    "    degrees.append(v.total_degree())\n",
    "    \n",
    "data['degree'] = degrees\n",
    "data"
   ]
  },
  {
   "cell_type": "code",
   "execution_count": null,
   "id": "e8e92d96",
   "metadata": {},
   "outputs": [],
   "source": [
    "# Histograma do degree\n",
    "\n",
    "sns.histplot(data['degree']);"
   ]
  },
  {
   "cell_type": "markdown",
   "id": "6dda6ccd",
   "metadata": {},
   "source": [
    "## Limpando o grafo"
   ]
  },
  {
   "cell_type": "code",
   "execution_count": null,
   "id": "59b5656a",
   "metadata": {},
   "outputs": [],
   "source": [
    "g = gt_clean(g)\n",
    "m = gt_draw.sfdp_layout(g)\n",
    "gt_move(g, m)\n",
    "gt_save(g, 'david.net.gz')\n",
    "netpixi.render('david.net.gz', infinite=True);"
   ]
  }
 ],
 "metadata": {
  "kernelspec": {
   "display_name": "Python 3 (ipykernel)",
   "language": "python",
   "name": "python3"
  },
  "language_info": {
   "codemirror_mode": {
    "name": "ipython",
    "version": 3
   },
   "file_extension": ".py",
   "mimetype": "text/x-python",
   "name": "python",
   "nbconvert_exporter": "python",
   "pygments_lexer": "ipython3",
   "version": "3.10.10"
  }
 },
 "nbformat": 4,
 "nbformat_minor": 5
}
