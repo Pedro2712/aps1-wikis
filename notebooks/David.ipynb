{
 "cells": [
  {
   "cell_type": "markdown",
   "id": "38ce4ced",
   "metadata": {},
   "source": [
    "### Importando as bibliotecas"
   ]
  },
  {
   "cell_type": "code",
   "execution_count": 1,
   "id": "19580da7",
   "metadata": {},
   "outputs": [
    {
     "data": {
      "text/html": [
       "\n",
       "    <script src=\"/files/netpixi.min.js\"></script>\n"
      ],
      "text/plain": [
       "<IPython.core.display.HTML object>"
      ]
     },
     "metadata": {},
     "output_type": "display_data"
    },
    {
     "name": "stderr",
     "output_type": "stream",
     "text": [
      "<frozen importlib._bootstrap>:914: ImportWarning: VendorImporter.find_spec() not found; falling back to find_module()\n",
      "<frozen importlib._bootstrap>:914: ImportWarning: VendorImporter.find_spec() not found; falling back to find_module()\n",
      "<frozen importlib._bootstrap>:914: ImportWarning: VendorImporter.find_spec() not found; falling back to find_module()\n"
     ]
    }
   ],
   "source": [
    "import netpixi\n",
    "from netpixi.integration.gt import Graph\n",
    "from netpixi.integration.gt import *\n",
    "import seaborn as sns\n",
    "from regression.integration.gt import *"
   ]
  },
  {
   "cell_type": "markdown",
   "id": "e1957f20",
   "metadata": {},
   "source": [
    "### Criando o grafo"
   ]
  },
  {
   "cell_type": "code",
   "execution_count": 2,
   "id": "8a5b350d",
   "metadata": {},
   "outputs": [],
   "source": [
    "g = Graph(directed=False) # não-dirigido\n",
    "\n",
    "with open('david.txt', \"r\") as arquivo:\n",
    "    teste = arquivo.readline()\n",
    "    lista = []\n",
    "    while teste:\n",
    "        linha = teste.split()\n",
    "        node1 = linha[0]\n",
    "        node2 = linha[1]\n",
    "            \n",
    "        if node1 not in lista:\n",
    "            lista.append(node1)\n",
    "            g.add_vertex(node1)\n",
    "        \n",
    "        if node2 not in lista:\n",
    "            lista.append(node2)\n",
    "            g.add_vertex(node2)\n",
    "        \n",
    "        g.add_edge(node1, node2)\n",
    "        \n",
    "        teste = arquivo.readline()"
   ]
  },
  {
   "cell_type": "markdown",
   "id": "870b61ca",
   "metadata": {},
   "source": [
    "### Salvando o grafo"
   ]
  },
  {
   "cell_type": "code",
   "execution_count": 3,
   "id": "0fb35dc8",
   "metadata": {},
   "outputs": [],
   "source": [
    "gt_save(g, 'david.net.gz')"
   ]
  },
  {
   "cell_type": "markdown",
   "id": "96220586",
   "metadata": {},
   "source": [
    "### Compilando e renderizando o grafo"
   ]
  },
  {
   "cell_type": "code",
   "execution_count": 4,
   "id": "6df3db18",
   "metadata": {},
   "outputs": [
    {
     "data": {
      "text/html": [
       "\n",
       "        <div id=\"JuT8Tg6StmGw6qn3e6HVus\"></div>\n",
       "        <script>netpixi.render('JuT8Tg6StmGw6qn3e6HVus', 'david.net.gz', 1.7777777777777777, true, false, false);</script>\n",
       "    "
      ],
      "text/plain": [
       "<IPython.core.display.HTML object>"
      ]
     },
     "metadata": {},
     "output_type": "display_data"
    }
   ],
   "source": [
    "g = gt_load('david.net.gz')\n",
    "r = netpixi.render('david.net.gz')"
   ]
  },
  {
   "cell_type": "markdown",
   "id": "2a440a5d",
   "metadata": {},
   "source": [
    "### Melhorando visualmento o grafo"
   ]
  },
  {
   "cell_type": "code",
   "execution_count": 12,
   "id": "eec2b698",
   "metadata": {},
   "outputs": [
    {
     "data": {
      "text/html": [
       "\n",
       "        <div id=\"DRUxYBkCKdd2pePVjpTaEZ\"></div>\n",
       "        <script>netpixi.call('DRUxYBkCKdd2pePVjpTaEZ', 'JuT8Tg6StmGw6qn3e6HVus', 'changeGraph', 'eyJ0eXBlIjogInNldHRpbmdzIiwgInByb3BzIjogeyJncmFwaCI6IHsiY29sb3IiOiAxNjc3NzIxNX19fQo=');</script>\n",
       "    "
      ],
      "text/plain": [
       "<IPython.core.display.HTML object>"
      ]
     },
     "metadata": {},
     "output_type": "display_data"
    },
    {
     "data": {
      "text/html": [
       "\n",
       "        <div id=\"PnUfHvLQA9rhVEnZvgpoGG\"></div>\n",
       "        <script>netpixi.call('PnUfHvLQA9rhVEnZvgpoGG', 'JuT8Tg6StmGw6qn3e6HVus', 'changeGraph', 'eyJ0eXBlIjogInNldHRpbmdzIiwgInByb3BzIjogeyJ2ZXJ0ZXgiOiB7ImNvbG9yIjogMCwgInNpemUiOiAxMH19fQo=');</script>\n",
       "    "
      ],
      "text/plain": [
       "<IPython.core.display.HTML object>"
      ]
     },
     "metadata": {},
     "output_type": "display_data"
    },
    {
     "data": {
      "text/html": [
       "\n",
       "        <div id=\"VHfmPtjYx3bG4RgwvfEnih\"></div>\n",
       "        <script>netpixi.call('VHfmPtjYx3bG4RgwvfEnih', 'JuT8Tg6StmGw6qn3e6HVus', 'changeGraph', 'eyJpZCI6IDAsICJ0eXBlIjogInZlcnRleCIsICJwcm9wcyI6IHsiY29sb3IiOiAxNjcxMTY4MCwgInNpemUiOiAyMH19Cg==');</script>\n",
       "    "
      ],
      "text/plain": [
       "<IPython.core.display.HTML object>"
      ]
     },
     "metadata": {},
     "output_type": "display_data"
    },
    {
     "data": {
      "text/html": [
       "\n",
       "        <div id=\"6wA49HkCvXudzHudpTbXKW\"></div>\n",
       "        <script>netpixi.call('6wA49HkCvXudzHudpTbXKW', 'JuT8Tg6StmGw6qn3e6HVus', 'changeGraph', 'eyJpZCI6IDEsICJ0eXBlIjogInZlcnRleCIsICJwcm9wcyI6IHsiY29sb3IiOiAxNjcxMTY4MCwgInNpemUiOiAyMH19Cg==');</script>\n",
       "    "
      ],
      "text/plain": [
       "<IPython.core.display.HTML object>"
      ]
     },
     "metadata": {},
     "output_type": "display_data"
    },
    {
     "data": {
      "text/html": [
       "\n",
       "        <div id=\"BhKvvYwVWoR3zmba3zdyiW\"></div>\n",
       "        <script>netpixi.call('BhKvvYwVWoR3zmba3zdyiW', 'JuT8Tg6StmGw6qn3e6HVus', 'changeGraph', 'eyJ0eXBlIjogInNldHRpbmdzIiwgInByb3BzIjogeyJlZGdlIjogeyJjb2xvciI6IDAsICJ3aWR0aCI6IDEsICJjdXJ2ZTEiOiAxLCAiY3VydmUyIjogMX19fQo=');</script>\n",
       "    "
      ],
      "text/plain": [
       "<IPython.core.display.HTML object>"
      ]
     },
     "metadata": {},
     "output_type": "display_data"
    }
   ],
   "source": [
    "# mudar a cor de fundo do grafo\n",
    "r.graph(color=0xffffff)\n",
    "\n",
    "# mudar a cor e o tamanho dos vértices\n",
    "r.vertex_default(color=0x000000, size=10)\n",
    "\n",
    "# mudar um vértice específico a partir de seu id\n",
    "r.vertex(0, color=0xff0000, size=20)\n",
    "r.vertex(1, color=0xff0000, size=20)\n",
    "\n",
    "# mudar a cor, a espessura e a curvatura das arestas\n",
    "r.edge_default(color=0x000000, width=1, curve1=1, curve2=1)"
   ]
  },
  {
   "cell_type": "markdown",
   "id": "1bae4faa",
   "metadata": {},
   "source": [
    "### Análise exploratória do grafo"
   ]
  },
  {
   "cell_type": "code",
   "execution_count": 13,
   "id": "54cd26b6",
   "metadata": {},
   "outputs": [
    {
     "data": {
      "text/plain": [
       "112"
      ]
     },
     "execution_count": 13,
     "metadata": {},
     "output_type": "execute_result"
    }
   ],
   "source": [
    "# Números de vértices\n",
    "\n",
    "n = g.num_vertices()\n",
    "n"
   ]
  },
  {
   "cell_type": "code",
   "execution_count": 14,
   "id": "8fe1561d",
   "metadata": {},
   "outputs": [
    {
     "data": {
      "text/plain": [
       "425"
      ]
     },
     "execution_count": 14,
     "metadata": {},
     "output_type": "execute_result"
    }
   ],
   "source": [
    "# Número de arestas\n",
    "\n",
    "m = g.num_edges()\n",
    "m"
   ]
  },
  {
   "cell_type": "code",
   "execution_count": 15,
   "id": "803ae8e8",
   "metadata": {},
   "outputs": [
    {
     "data": {
      "text/plain": [
       "6216"
      ]
     },
     "execution_count": 15,
     "metadata": {},
     "output_type": "execute_result"
    }
   ],
   "source": [
    "# Número máximo possível de arestas\n",
    "\n",
    "if g.is_directed():\n",
    "    max_edges = n * (n - 1)\n",
    "else:\n",
    "    max_edges = n * (n - 1) // 2\n",
    "max_edges"
   ]
  },
  {
   "cell_type": "code",
   "execution_count": 16,
   "id": "4197d6bd",
   "metadata": {
    "scrolled": true
   },
   "outputs": [
    {
     "data": {
      "text/plain": [
       "0.06837194337194337"
      ]
     },
     "execution_count": 16,
     "metadata": {},
     "output_type": "execute_result"
    }
   ],
   "source": [
    "# Densidade\n",
    "\n",
    "d = m / max_edges\n",
    "d"
   ]
  },
  {
   "cell_type": "code",
   "execution_count": 17,
   "id": "c4669356",
   "metadata": {},
   "outputs": [],
   "source": [
    "# Propriedades de cada vértice\n",
    "\n",
    "data = gt_data(g)"
   ]
  },
  {
   "cell_type": "code",
   "execution_count": 18,
   "id": "f8ebcccc",
   "metadata": {
    "scrolled": true
   },
   "outputs": [
    {
     "data": {
      "text/html": [
       "<div>\n",
       "<style scoped>\n",
       "    .dataframe tbody tr th:only-of-type {\n",
       "        vertical-align: middle;\n",
       "    }\n",
       "\n",
       "    .dataframe tbody tr th {\n",
       "        vertical-align: top;\n",
       "    }\n",
       "\n",
       "    .dataframe thead th {\n",
       "        text-align: right;\n",
       "    }\n",
       "</style>\n",
       "<table border=\"1\" class=\"dataframe\">\n",
       "  <thead>\n",
       "    <tr style=\"text-align: right;\">\n",
       "      <th></th>\n",
       "      <th>degree</th>\n",
       "    </tr>\n",
       "    <tr>\n",
       "      <th>id</th>\n",
       "      <th></th>\n",
       "    </tr>\n",
       "  </thead>\n",
       "  <tbody>\n",
       "    <tr>\n",
       "      <th>0</th>\n",
       "      <td>14</td>\n",
       "    </tr>\n",
       "    <tr>\n",
       "      <th>1</th>\n",
       "      <td>3</td>\n",
       "    </tr>\n",
       "    <tr>\n",
       "      <th>2</th>\n",
       "      <td>33</td>\n",
       "    </tr>\n",
       "    <tr>\n",
       "      <th>3</th>\n",
       "      <td>17</td>\n",
       "    </tr>\n",
       "    <tr>\n",
       "      <th>4</th>\n",
       "      <td>12</td>\n",
       "    </tr>\n",
       "    <tr>\n",
       "      <th>...</th>\n",
       "      <td>...</td>\n",
       "    </tr>\n",
       "    <tr>\n",
       "      <th>107</th>\n",
       "      <td>2</td>\n",
       "    </tr>\n",
       "    <tr>\n",
       "      <th>108</th>\n",
       "      <td>1</td>\n",
       "    </tr>\n",
       "    <tr>\n",
       "      <th>109</th>\n",
       "      <td>1</td>\n",
       "    </tr>\n",
       "    <tr>\n",
       "      <th>110</th>\n",
       "      <td>2</td>\n",
       "    </tr>\n",
       "    <tr>\n",
       "      <th>111</th>\n",
       "      <td>1</td>\n",
       "    </tr>\n",
       "  </tbody>\n",
       "</table>\n",
       "<p>112 rows × 1 columns</p>\n",
       "</div>"
      ],
      "text/plain": [
       "     degree\n",
       "id         \n",
       "0        14\n",
       "1         3\n",
       "2        33\n",
       "3        17\n",
       "4        12\n",
       "..      ...\n",
       "107       2\n",
       "108       1\n",
       "109       1\n",
       "110       2\n",
       "111       1\n",
       "\n",
       "[112 rows x 1 columns]"
      ]
     },
     "execution_count": 18,
     "metadata": {},
     "output_type": "execute_result"
    }
   ],
   "source": [
    "# Degree\n",
    "\n",
    "degrees = []\n",
    "for v in g.all_vertices():\n",
    "    degrees.append(v.total_degree())\n",
    "    \n",
    "data['degree'] = degrees\n",
    "data"
   ]
  },
  {
   "cell_type": "code",
   "execution_count": 59,
   "id": "7a633e89",
   "metadata": {
    "scrolled": false
   },
   "outputs": [
    {
     "data": {
      "text/plain": [
       "<AxesSubplot: xlabel='degree', ylabel='Count'>"
      ]
     },
     "execution_count": 59,
     "metadata": {},
     "output_type": "execute_result"
    },
    {
     "data": {
      "image/png": "[encoded data removed]",
      "text/plain": [
       "<Figure size 640x480 with 1 Axes>"
      ]
     },
     "metadata": {},
     "output_type": "display_data"
    }
   ],
   "source": [
    "# Histograma do degree\n",
    "\n",
    "sns.histplot(data['degree'])"
   ]
  },
  {
   "cell_type": "code",
   "execution_count": 60,
   "id": "faeaa46d",
   "metadata": {},
   "outputs": [
    {
     "data": {
      "text/plain": [
       "count    112.000000\n",
       "mean       7.589286\n",
       "std        6.881957\n",
       "min        1.000000\n",
       "25%        3.000000\n",
       "50%        6.000000\n",
       "75%       10.000000\n",
       "max       49.000000\n",
       "Name: degree, dtype: float64"
      ]
     },
     "execution_count": 60,
     "metadata": {},
     "output_type": "execute_result"
    }
   ],
   "source": [
    "# Describe do histograma\n",
    "\n",
    "data['degree'].describe()"
   ]
  },
  {
   "cell_type": "markdown",
   "id": "6dda6ccd",
   "metadata": {},
   "source": [
    "### Limpando o grafo"
   ]
  },
  {
   "cell_type": "code",
   "execution_count": 54,
   "id": "7e194e5c",
   "metadata": {
    "scrolled": false
   },
   "outputs": [
    {
     "data": {
      "text/html": [
       "\n",
       "        <div id=\"KvjXTbMLxnkdccHFFtyhhy\"></div>\n",
       "        <script>netpixi.render('KvjXTbMLxnkdccHFFtyhhy', 'david.net.gz', 1.7777777777777777, true, true, false);</script>\n",
       "    "
      ],
      "text/plain": [
       "<IPython.core.display.HTML object>"
      ]
     },
     "metadata": {},
     "output_type": "display_data"
    }
   ],
   "source": [
    "g = gt_clean(g)\n",
    "m = gt_draw.sfdp_layout(g)\n",
    "gt_move(g, m)\n",
    "gt_save(g, 'david.net.gz')\n",
    "netpixi.render('david.net.gz', infinite=True);"
   ]
  },
  {
   "cell_type": "markdown",
   "id": "cd9a0639",
   "metadata": {},
   "source": [
    "## Grafo de Centro e Periferia"
   ]
  },
  {
   "cell_type": "code",
   "execution_count": 55,
   "id": "0552cbfb",
   "metadata": {},
   "outputs": [
    {
     "data": {
      "text/html": [
       "\n",
       "        <div id=\"bTqPCokXXTQVrTrjt93BTM\"></div>\n",
       "        <script>netpixi.render('bTqPCokXXTQVrTrjt93BTM', 'david_centro.net.gz', 1.7777777777777777, true, false, false);</script>\n",
       "    "
      ],
      "text/plain": [
       "<IPython.core.display.HTML object>"
      ]
     },
     "metadata": {},
     "output_type": "display_data"
    }
   ],
   "source": [
    "import netpixi\n",
    "\n",
    "from netpixi.integration.gt import *\n",
    "\n",
    "g = gt_load('david.net.gz')\n",
    "\n",
    "p = gt_draw.sfdp_layout(g)\n",
    "gt_move(g, p)\n",
    "gt_save(g, 'david_centro.net.gz')\n",
    "r = netpixi.render('david_centro.net.gz')"
   ]
  },
  {
   "cell_type": "code",
   "execution_count": 56,
   "id": "c1327cd8",
   "metadata": {},
   "outputs": [],
   "source": [
    "import cpnet\n",
    "\n",
    "from graph_tool import spectral"
   ]
  },
  {
   "cell_type": "code",
   "execution_count": 57,
   "id": "721d942c",
   "metadata": {},
   "outputs": [
    {
     "data": {
      "text/html": [
       "\n",
       "        <div id=\"7SSqyTeFV5zzwTpiRZvGwv\"></div>\n",
       "        <script>netpixi.call('7SSqyTeFV5zzwTpiRZvGwv', 'bTqPCokXXTQVrTrjt93BTM', 'changeGraph', 'eyJpZCI6IDAsICJ0eXBlIjogInZlcnRleCIsICJwcm9wcyI6IHsiY29sb3IiOiAxNjcxMTY4MH19Cg==');</script>\n",
       "    "
      ],
      "text/plain": [
       "<IPython.core.display.HTML object>"
      ]
     },
     "metadata": {},
     "output_type": "display_data"
    },
    {
     "data": {
      "text/html": [
       "\n",
       "        <div id=\"ZgUB6eo8gwe9iceDq43X86\"></div>\n",
       "        <script>netpixi.call('ZgUB6eo8gwe9iceDq43X86', 'bTqPCokXXTQVrTrjt93BTM', 'changeGraph', 'eyJpZCI6IDEsICJ0eXBlIjogInZlcnRleCIsICJwcm9wcyI6IHsiY29sb3IiOiA2NTI4MH19Cg==');</script>\n",
       "    "
      ],
      "text/plain": [
       "<IPython.core.display.HTML object>"
      ]
     },
     "metadata": {},
     "output_type": "display_data"
    },
    {
     "data": {
      "text/html": [
       "\n",
       "        <div id=\"2yZPw7DJr8zT44af2vArQb\"></div>\n",
       "        <script>netpixi.call('2yZPw7DJr8zT44af2vArQb', 'bTqPCokXXTQVrTrjt93BTM', 'changeGraph', 'eyJpZCI6IDIsICJ0eXBlIjogInZlcnRleCIsICJwcm9wcyI6IHsiY29sb3IiOiAxNjcxMTY4MH19Cg==');</script>\n",
       "    "
      ],
      "text/plain": [
       "<IPython.core.display.HTML object>"
      ]
     },
     "metadata": {},
     "output_type": "display_data"
    },
    {
     "data": {
      "text/html": [
       "\n",
       "        <div id=\"a4TuHAAkxkkuoPRwfdeceX\"></div>\n",
       "        <script>netpixi.call('a4TuHAAkxkkuoPRwfdeceX', 'bTqPCokXXTQVrTrjt93BTM', 'changeGraph', 'eyJpZCI6IDMsICJ0eXBlIjogInZlcnRleCIsICJwcm9wcyI6IHsiY29sb3IiOiAxNjcxMTY4MH19Cg==');</script>\n",
       "    "
      ],
      "text/plain": [
       "<IPython.core.display.HTML object>"
      ]
     },
     "metadata": {},
     "output_type": "display_data"
    },
    {
     "data": {
      "text/html": [
       "\n",
       "        <div id=\"7R2GXQjwATwhirGt6p8pzp\"></div>\n",
       "        <script>netpixi.call('7R2GXQjwATwhirGt6p8pzp', 'bTqPCokXXTQVrTrjt93BTM', 'changeGraph', 'eyJpZCI6IDQsICJ0eXBlIjogInZlcnRleCIsICJwcm9wcyI6IHsiY29sb3IiOiAxNjcxMTY4MH19Cg==');</script>\n",
       "    "
      ],
      "text/plain": [
       "<IPython.core.display.HTML object>"
      ]
     },
     "metadata": {},
     "output_type": "display_data"
    },
    {
     "data": {
      "text/html": [
       "\n",
       "        <div id=\"Yt6kJieimB7EaRbGKEanBo\"></div>\n",
       "        <script>netpixi.call('Yt6kJieimB7EaRbGKEanBo', 'bTqPCokXXTQVrTrjt93BTM', 'changeGraph', 'eyJpZCI6IDUsICJ0eXBlIjogInZlcnRleCIsICJwcm9wcyI6IHsiY29sb3IiOiAxNjcxMTY4MH19Cg==');</script>\n",
       "    "
      ],
      "text/plain": [
       "<IPython.core.display.HTML object>"
      ]
     },
     "metadata": {},
     "output_type": "display_data"
    },
    {
     "data": {
      "text/html": [
       "\n",
       "        <div id=\"SwLNvJ4Fi3R87Zg4piSVRB\"></div>\n",
       "        <script>netpixi.call('SwLNvJ4Fi3R87Zg4piSVRB', 'bTqPCokXXTQVrTrjt93BTM', 'changeGraph', 'eyJpZCI6IDYsICJ0eXBlIjogInZlcnRleCIsICJwcm9wcyI6IHsiY29sb3IiOiAxNjcxMTY4MH19Cg==');</script>\n",
       "    "
      ],
      "text/plain": [
       "<IPython.core.display.HTML object>"
      ]
     },
     "metadata": {},
     "output_type": "display_data"
    },
    {
     "data": {
      "text/html": [
       "\n",
       "        <div id=\"hNiSiRQiEuxdWqtNyH6P8Z\"></div>\n",
       "        <script>netpixi.call('hNiSiRQiEuxdWqtNyH6P8Z', 'bTqPCokXXTQVrTrjt93BTM', 'changeGraph', 'eyJpZCI6IDcsICJ0eXBlIjogInZlcnRleCIsICJwcm9wcyI6IHsiY29sb3IiOiAxNjcxMTY4MH19Cg==');</script>\n",
       "    "
      ],
      "text/plain": [
       "<IPython.core.display.HTML object>"
      ]
     },
     "metadata": {},
     "output_type": "display_data"
    },
    {
     "data": {
      "text/html": [
       "\n",
       "        <div id=\"VjMF3tpRkhdigpsu99MQSE\"></div>\n",
       "        <script>netpixi.call('VjMF3tpRkhdigpsu99MQSE', 'bTqPCokXXTQVrTrjt93BTM', 'changeGraph', 'eyJpZCI6IDgsICJ0eXBlIjogInZlcnRleCIsICJwcm9wcyI6IHsiY29sb3IiOiAxNjcxMTY4MH19Cg==');</script>\n",
       "    "
      ],
      "text/plain": [
       "<IPython.core.display.HTML object>"
      ]
     },
     "metadata": {},
     "output_type": "display_data"
    },
    {
     "data": {
      "text/html": [
       "\n",
       "        <div id=\"WhUpbDNpiFZxkKVbDVq9HU\"></div>\n",
       "        <script>netpixi.call('WhUpbDNpiFZxkKVbDVq9HU', 'bTqPCokXXTQVrTrjt93BTM', 'changeGraph', 'eyJpZCI6IDksICJ0eXBlIjogInZlcnRleCIsICJwcm9wcyI6IHsiY29sb3IiOiA2NTI4MH19Cg==');</script>\n",
       "    "
      ],
      "text/plain": [
       "<IPython.core.display.HTML object>"
      ]
     },
     "metadata": {},
     "output_type": "display_data"
    },
    {
     "data": {
      "text/html": [
       "\n",
       "        <div id=\"S6965VdhRcDS8WBDLLY24k\"></div>\n",
       "        <script>netpixi.call('S6965VdhRcDS8WBDLLY24k', 'bTqPCokXXTQVrTrjt93BTM', 'changeGraph', 'eyJpZCI6IDEwLCAidHlwZSI6ICJ2ZXJ0ZXgiLCAicHJvcHMiOiB7ImNvbG9yIjogNjUyODB9fQo=');</script>\n",
       "    "
      ],
      "text/plain": [
       "<IPython.core.display.HTML object>"
      ]
     },
     "metadata": {},
     "output_type": "display_data"
    },
    {
     "data": {
      "text/html": [
       "\n",
       "        <div id=\"R8huMC8y2Fxojed5EhEXWx\"></div>\n",
       "        <script>netpixi.call('R8huMC8y2Fxojed5EhEXWx', 'bTqPCokXXTQVrTrjt93BTM', 'changeGraph', 'eyJpZCI6IDExLCAidHlwZSI6ICJ2ZXJ0ZXgiLCAicHJvcHMiOiB7ImNvbG9yIjogNjUyODB9fQo=');</script>\n",
       "    "
      ],
      "text/plain": [
       "<IPython.core.display.HTML object>"
      ]
     },
     "metadata": {},
     "output_type": "display_data"
    },
    {
     "data": {
      "text/html": [
       "\n",
       "        <div id=\"dYghUvAcNz9ybV96Q5tNib\"></div>\n",
       "        <script>netpixi.call('dYghUvAcNz9ybV96Q5tNib', 'bTqPCokXXTQVrTrjt93BTM', 'changeGraph', 'eyJpZCI6IDEyLCAidHlwZSI6ICJ2ZXJ0ZXgiLCAicHJvcHMiOiB7ImNvbG9yIjogMTY3MTE2ODB9fQo=');</script>\n",
       "    "
      ],
      "text/plain": [
       "<IPython.core.display.HTML object>"
      ]
     },
     "metadata": {},
     "output_type": "display_data"
    },
    {
     "data": {
      "text/html": [
       "\n",
       "        <div id=\"HhHVEV9ZxP6JfiGLjEyMt5\"></div>\n",
       "        <script>netpixi.call('HhHVEV9ZxP6JfiGLjEyMt5', 'bTqPCokXXTQVrTrjt93BTM', 'changeGraph', 'eyJpZCI6IDEzLCAidHlwZSI6ICJ2ZXJ0ZXgiLCAicHJvcHMiOiB7ImNvbG9yIjogNjUyODB9fQo=');</script>\n",
       "    "
      ],
      "text/plain": [
       "<IPython.core.display.HTML object>"
      ]
     },
     "metadata": {},
     "output_type": "display_data"
    },
    {
     "data": {
      "text/html": [
       "\n",
       "        <div id=\"PGQLRYALMgGnNbi5XeLU3w\"></div>\n",
       "        <script>netpixi.call('PGQLRYALMgGnNbi5XeLU3w', 'bTqPCokXXTQVrTrjt93BTM', 'changeGraph', 'eyJpZCI6IDE0LCAidHlwZSI6ICJ2ZXJ0ZXgiLCAicHJvcHMiOiB7ImNvbG9yIjogMTY3MTE2ODB9fQo=');</script>\n",
       "    "
      ],
      "text/plain": [
       "<IPython.core.display.HTML object>"
      ]
     },
     "metadata": {},
     "output_type": "display_data"
    },
    {
     "data": {
      "text/html": [
       "\n",
       "        <div id=\"h5V7YPQBQaYBCqor7qXQEp\"></div>\n",
       "        <script>netpixi.call('h5V7YPQBQaYBCqor7qXQEp', 'bTqPCokXXTQVrTrjt93BTM', 'changeGraph', 'eyJpZCI6IDE1LCAidHlwZSI6ICJ2ZXJ0ZXgiLCAicHJvcHMiOiB7ImNvbG9yIjogMTY3MTE2ODB9fQo=');</script>\n",
       "    "
      ],
      "text/plain": [
       "<IPython.core.display.HTML object>"
      ]
     },
     "metadata": {},
     "output_type": "display_data"
    },
    {
     "data": {
      "text/html": [
       "\n",
       "        <div id=\"LXnG2e5vadJWbLHHHELbTq\"></div>\n",
       "        <script>netpixi.call('LXnG2e5vadJWbLHHHELbTq', 'bTqPCokXXTQVrTrjt93BTM', 'changeGraph', 'eyJpZCI6IDE2LCAidHlwZSI6ICJ2ZXJ0ZXgiLCAicHJvcHMiOiB7ImNvbG9yIjogNjUyODB9fQo=');</script>\n",
       "    "
      ],
      "text/plain": [
       "<IPython.core.display.HTML object>"
      ]
     },
     "metadata": {},
     "output_type": "display_data"
    },
    {
     "data": {
      "text/html": [
       "\n",
       "        <div id=\"9WGmKHBLrBPBdKJKs4tdA9\"></div>\n",
       "        <script>netpixi.call('9WGmKHBLrBPBdKJKs4tdA9', 'bTqPCokXXTQVrTrjt93BTM', 'changeGraph', 'eyJpZCI6IDE3LCAidHlwZSI6ICJ2ZXJ0ZXgiLCAicHJvcHMiOiB7ImNvbG9yIjogMTY3MTE2ODB9fQo=');</script>\n",
       "    "
      ],
      "text/plain": [
       "<IPython.core.display.HTML object>"
      ]
     },
     "metadata": {},
     "output_type": "display_data"
    },
    {
     "data": {
      "text/html": [
       "\n",
       "        <div id=\"Xsxub4ZH9rTJ2Vqbh4cQ4m\"></div>\n",
       "        <script>netpixi.call('Xsxub4ZH9rTJ2Vqbh4cQ4m', 'bTqPCokXXTQVrTrjt93BTM', 'changeGraph', 'eyJpZCI6IDE4LCAidHlwZSI6ICJ2ZXJ0ZXgiLCAicHJvcHMiOiB7ImNvbG9yIjogNjUyODB9fQo=');</script>\n",
       "    "
      ],
      "text/plain": [
       "<IPython.core.display.HTML object>"
      ]
     },
     "metadata": {},
     "output_type": "display_data"
    },
    {
     "data": {
      "text/html": [
       "\n",
       "        <div id=\"NCqJFCP9VcsyLyakJHr67A\"></div>\n",
       "        <script>netpixi.call('NCqJFCP9VcsyLyakJHr67A', 'bTqPCokXXTQVrTrjt93BTM', 'changeGraph', 'eyJpZCI6IDE5LCAidHlwZSI6ICJ2ZXJ0ZXgiLCAicHJvcHMiOiB7ImNvbG9yIjogNjUyODB9fQo=');</script>\n",
       "    "
      ],
      "text/plain": [
       "<IPython.core.display.HTML object>"
      ]
     },
     "metadata": {},
     "output_type": "display_data"
    },
    {
     "data": {
      "text/html": [
       "\n",
       "        <div id=\"La5uqjWe49tHUWdLkQ25Vi\"></div>\n",
       "        <script>netpixi.call('La5uqjWe49tHUWdLkQ25Vi', 'bTqPCokXXTQVrTrjt93BTM', 'changeGraph', 'eyJpZCI6IDIwLCAidHlwZSI6ICJ2ZXJ0ZXgiLCAicHJvcHMiOiB7ImNvbG9yIjogMTY3MTE2ODB9fQo=');</script>\n",
       "    "
      ],
      "text/plain": [
       "<IPython.core.display.HTML object>"
      ]
     },
     "metadata": {},
     "output_type": "display_data"
    },
    {
     "data": {
      "text/html": [
       "\n",
       "        <div id=\"MaPjS5yB3Gmhkf5G5bz6u7\"></div>\n",
       "        <script>netpixi.call('MaPjS5yB3Gmhkf5G5bz6u7', 'bTqPCokXXTQVrTrjt93BTM', 'changeGraph', 'eyJpZCI6IDIxLCAidHlwZSI6ICJ2ZXJ0ZXgiLCAicHJvcHMiOiB7ImNvbG9yIjogMTY3MTE2ODB9fQo=');</script>\n",
       "    "
      ],
      "text/plain": [
       "<IPython.core.display.HTML object>"
      ]
     },
     "metadata": {},
     "output_type": "display_data"
    },
    {
     "data": {
      "text/html": [
       "\n",
       "        <div id=\"gx7fFad2rUS9NB9GV6PwjF\"></div>\n",
       "        <script>netpixi.call('gx7fFad2rUS9NB9GV6PwjF', 'bTqPCokXXTQVrTrjt93BTM', 'changeGraph', 'eyJpZCI6IDIyLCAidHlwZSI6ICJ2ZXJ0ZXgiLCAicHJvcHMiOiB7ImNvbG9yIjogMTY3MTE2ODB9fQo=');</script>\n",
       "    "
      ],
      "text/plain": [
       "<IPython.core.display.HTML object>"
      ]
     },
     "metadata": {},
     "output_type": "display_data"
    },
    {
     "data": {
      "text/html": [
       "\n",
       "        <div id=\"D2WeyQHJs4NA3xziFqZBwn\"></div>\n",
       "        <script>netpixi.call('D2WeyQHJs4NA3xziFqZBwn', 'bTqPCokXXTQVrTrjt93BTM', 'changeGraph', 'eyJpZCI6IDIzLCAidHlwZSI6ICJ2ZXJ0ZXgiLCAicHJvcHMiOiB7ImNvbG9yIjogMTY3MTE2ODB9fQo=');</script>\n",
       "    "
      ],
      "text/plain": [
       "<IPython.core.display.HTML object>"
      ]
     },
     "metadata": {},
     "output_type": "display_data"
    },
    {
     "data": {
      "text/html": [
       "\n",
       "        <div id=\"8rmjB4h4CeH3G2nofaziG7\"></div>\n",
       "        <script>netpixi.call('8rmjB4h4CeH3G2nofaziG7', 'bTqPCokXXTQVrTrjt93BTM', 'changeGraph', 'eyJpZCI6IDI0LCAidHlwZSI6ICJ2ZXJ0ZXgiLCAicHJvcHMiOiB7ImNvbG9yIjogMTY3MTE2ODB9fQo=');</script>\n",
       "    "
      ],
      "text/plain": [
       "<IPython.core.display.HTML object>"
      ]
     },
     "metadata": {},
     "output_type": "display_data"
    },
    {
     "data": {
      "text/html": [
       "\n",
       "        <div id=\"4Bh9fr7VQSVXVYquAd5L6b\"></div>\n",
       "        <script>netpixi.call('4Bh9fr7VQSVXVYquAd5L6b', 'bTqPCokXXTQVrTrjt93BTM', 'changeGraph', 'eyJpZCI6IDI1LCAidHlwZSI6ICJ2ZXJ0ZXgiLCAicHJvcHMiOiB7ImNvbG9yIjogNjUyODB9fQo=');</script>\n",
       "    "
      ],
      "text/plain": [
       "<IPython.core.display.HTML object>"
      ]
     },
     "metadata": {},
     "output_type": "display_data"
    },
    {
     "data": {
      "text/html": [
       "\n",
       "        <div id=\"HZrexBQSXquMKPkcUsdBao\"></div>\n",
       "        <script>netpixi.call('HZrexBQSXquMKPkcUsdBao', 'bTqPCokXXTQVrTrjt93BTM', 'changeGraph', 'eyJpZCI6IDI2LCAidHlwZSI6ICJ2ZXJ0ZXgiLCAicHJvcHMiOiB7ImNvbG9yIjogNjUyODB9fQo=');</script>\n",
       "    "
      ],
      "text/plain": [
       "<IPython.core.display.HTML object>"
      ]
     },
     "metadata": {},
     "output_type": "display_data"
    },
    {
     "data": {
      "text/html": [
       "\n",
       "        <div id=\"AhXUSAEcC7rZ7FvRxhvYJ4\"></div>\n",
       "        <script>netpixi.call('AhXUSAEcC7rZ7FvRxhvYJ4', 'bTqPCokXXTQVrTrjt93BTM', 'changeGraph', 'eyJpZCI6IDI3LCAidHlwZSI6ICJ2ZXJ0ZXgiLCAicHJvcHMiOiB7ImNvbG9yIjogNjUyODB9fQo=');</script>\n",
       "    "
      ],
      "text/plain": [
       "<IPython.core.display.HTML object>"
      ]
     },
     "metadata": {},
     "output_type": "display_data"
    },
    {
     "data": {
      "text/html": [
       "\n",
       "        <div id=\"cbfnyhL4DXLURtscuheJJK\"></div>\n",
       "        <script>netpixi.call('cbfnyhL4DXLURtscuheJJK', 'bTqPCokXXTQVrTrjt93BTM', 'changeGraph', 'eyJpZCI6IDI4LCAidHlwZSI6ICJ2ZXJ0ZXgiLCAicHJvcHMiOiB7ImNvbG9yIjogMTY3MTE2ODB9fQo=');</script>\n",
       "    "
      ],
      "text/plain": [
       "<IPython.core.display.HTML object>"
      ]
     },
     "metadata": {},
     "output_type": "display_data"
    },
    {
     "data": {
      "text/html": [
       "\n",
       "        <div id=\"P7pTEj5VDNWSnTRUgTTiYd\"></div>\n",
       "        <script>netpixi.call('P7pTEj5VDNWSnTRUgTTiYd', 'bTqPCokXXTQVrTrjt93BTM', 'changeGraph', 'eyJpZCI6IDI5LCAidHlwZSI6ICJ2ZXJ0ZXgiLCAicHJvcHMiOiB7ImNvbG9yIjogMTY3MTE2ODB9fQo=');</script>\n",
       "    "
      ],
      "text/plain": [
       "<IPython.core.display.HTML object>"
      ]
     },
     "metadata": {},
     "output_type": "display_data"
    },
    {
     "data": {
      "text/html": [
       "\n",
       "        <div id=\"VH3FRJVfSkgSS4GZ8JyLer\"></div>\n",
       "        <script>netpixi.call('VH3FRJVfSkgSS4GZ8JyLer', 'bTqPCokXXTQVrTrjt93BTM', 'changeGraph', 'eyJpZCI6IDMwLCAidHlwZSI6ICJ2ZXJ0ZXgiLCAicHJvcHMiOiB7ImNvbG9yIjogNjUyODB9fQo=');</script>\n",
       "    "
      ],
      "text/plain": [
       "<IPython.core.display.HTML object>"
      ]
     },
     "metadata": {},
     "output_type": "display_data"
    },
    {
     "data": {
      "text/html": [
       "\n",
       "        <div id=\"DbDMTUSkJ22nVj9sKLPwR6\"></div>\n",
       "        <script>netpixi.call('DbDMTUSkJ22nVj9sKLPwR6', 'bTqPCokXXTQVrTrjt93BTM', 'changeGraph', 'eyJpZCI6IDMxLCAidHlwZSI6ICJ2ZXJ0ZXgiLCAicHJvcHMiOiB7ImNvbG9yIjogNjUyODB9fQo=');</script>\n",
       "    "
      ],
      "text/plain": [
       "<IPython.core.display.HTML object>"
      ]
     },
     "metadata": {},
     "output_type": "display_data"
    },
    {
     "data": {
      "text/html": [
       "\n",
       "        <div id=\"YDpERnwwaBN9UShsXYcfyA\"></div>\n",
       "        <script>netpixi.call('YDpERnwwaBN9UShsXYcfyA', 'bTqPCokXXTQVrTrjt93BTM', 'changeGraph', 'eyJpZCI6IDMyLCAidHlwZSI6ICJ2ZXJ0ZXgiLCAicHJvcHMiOiB7ImNvbG9yIjogNjUyODB9fQo=');</script>\n",
       "    "
      ],
      "text/plain": [
       "<IPython.core.display.HTML object>"
      ]
     },
     "metadata": {},
     "output_type": "display_data"
    },
    {
     "data": {
      "text/html": [
       "\n",
       "        <div id=\"JoH4VsMEASPQyqPrbhcnyc\"></div>\n",
       "        <script>netpixi.call('JoH4VsMEASPQyqPrbhcnyc', 'bTqPCokXXTQVrTrjt93BTM', 'changeGraph', 'eyJpZCI6IDMzLCAidHlwZSI6ICJ2ZXJ0ZXgiLCAicHJvcHMiOiB7ImNvbG9yIjogNjUyODB9fQo=');</script>\n",
       "    "
      ],
      "text/plain": [
       "<IPython.core.display.HTML object>"
      ]
     },
     "metadata": {},
     "output_type": "display_data"
    },
    {
     "data": {
      "text/html": [
       "\n",
       "        <div id=\"K6vqEre4K73NKBwtWdHTj6\"></div>\n",
       "        <script>netpixi.call('K6vqEre4K73NKBwtWdHTj6', 'bTqPCokXXTQVrTrjt93BTM', 'changeGraph', 'eyJpZCI6IDM0LCAidHlwZSI6ICJ2ZXJ0ZXgiLCAicHJvcHMiOiB7ImNvbG9yIjogNjUyODB9fQo=');</script>\n",
       "    "
      ],
      "text/plain": [
       "<IPython.core.display.HTML object>"
      ]
     },
     "metadata": {},
     "output_type": "display_data"
    },
    {
     "data": {
      "text/html": [
       "\n",
       "        <div id=\"Wguaxwz4AsJTofhcheRXtq\"></div>\n",
       "        <script>netpixi.call('Wguaxwz4AsJTofhcheRXtq', 'bTqPCokXXTQVrTrjt93BTM', 'changeGraph', 'eyJpZCI6IDM1LCAidHlwZSI6ICJ2ZXJ0ZXgiLCAicHJvcHMiOiB7ImNvbG9yIjogNjUyODB9fQo=');</script>\n",
       "    "
      ],
      "text/plain": [
       "<IPython.core.display.HTML object>"
      ]
     },
     "metadata": {},
     "output_type": "display_data"
    },
    {
     "data": {
      "text/html": [
       "\n",
       "        <div id=\"DnS2y7DBwjjeMaYyBWozym\"></div>\n",
       "        <script>netpixi.call('DnS2y7DBwjjeMaYyBWozym', 'bTqPCokXXTQVrTrjt93BTM', 'changeGraph', 'eyJpZCI6IDM2LCAidHlwZSI6ICJ2ZXJ0ZXgiLCAicHJvcHMiOiB7ImNvbG9yIjogMTY3MTE2ODB9fQo=');</script>\n",
       "    "
      ],
      "text/plain": [
       "<IPython.core.display.HTML object>"
      ]
     },
     "metadata": {},
     "output_type": "display_data"
    },
    {
     "data": {
      "text/html": [
       "\n",
       "        <div id=\"WpxuqY6CEgXyMjneXbrBKj\"></div>\n",
       "        <script>netpixi.call('WpxuqY6CEgXyMjneXbrBKj', 'bTqPCokXXTQVrTrjt93BTM', 'changeGraph', 'eyJpZCI6IDM3LCAidHlwZSI6ICJ2ZXJ0ZXgiLCAicHJvcHMiOiB7ImNvbG9yIjogNjUyODB9fQo=');</script>\n",
       "    "
      ],
      "text/plain": [
       "<IPython.core.display.HTML object>"
      ]
     },
     "metadata": {},
     "output_type": "display_data"
    },
    {
     "data": {
      "text/html": [
       "\n",
       "        <div id=\"dVeiqGqt7Hb98FqcUQjJ88\"></div>\n",
       "        <script>netpixi.call('dVeiqGqt7Hb98FqcUQjJ88', 'bTqPCokXXTQVrTrjt93BTM', 'changeGraph', 'eyJpZCI6IDM4LCAidHlwZSI6ICJ2ZXJ0ZXgiLCAicHJvcHMiOiB7ImNvbG9yIjogNjUyODB9fQo=');</script>\n",
       "    "
      ],
      "text/plain": [
       "<IPython.core.display.HTML object>"
      ]
     },
     "metadata": {},
     "output_type": "display_data"
    },
    {
     "data": {
      "text/html": [
       "\n",
       "        <div id=\"Q9gBHLbyZSZABk2gRoTskd\"></div>\n",
       "        <script>netpixi.call('Q9gBHLbyZSZABk2gRoTskd', 'bTqPCokXXTQVrTrjt93BTM', 'changeGraph', 'eyJpZCI6IDM5LCAidHlwZSI6ICJ2ZXJ0ZXgiLCAicHJvcHMiOiB7ImNvbG9yIjogNjUyODB9fQo=');</script>\n",
       "    "
      ],
      "text/plain": [
       "<IPython.core.display.HTML object>"
      ]
     },
     "metadata": {},
     "output_type": "display_data"
    },
    {
     "data": {
      "text/html": [
       "\n",
       "        <div id=\"2CzMHwntfg2LAmooTHaNnn\"></div>\n",
       "        <script>netpixi.call('2CzMHwntfg2LAmooTHaNnn', 'bTqPCokXXTQVrTrjt93BTM', 'changeGraph', 'eyJpZCI6IDQwLCAidHlwZSI6ICJ2ZXJ0ZXgiLCAicHJvcHMiOiB7ImNvbG9yIjogMTY3MTE2ODB9fQo=');</script>\n",
       "    "
      ],
      "text/plain": [
       "<IPython.core.display.HTML object>"
      ]
     },
     "metadata": {},
     "output_type": "display_data"
    },
    {
     "data": {
      "text/html": [
       "\n",
       "        <div id=\"TdfBjV3RU9y5HdCpqRnFq3\"></div>\n",
       "        <script>netpixi.call('TdfBjV3RU9y5HdCpqRnFq3', 'bTqPCokXXTQVrTrjt93BTM', 'changeGraph', 'eyJpZCI6IDQxLCAidHlwZSI6ICJ2ZXJ0ZXgiLCAicHJvcHMiOiB7ImNvbG9yIjogNjUyODB9fQo=');</script>\n",
       "    "
      ],
      "text/plain": [
       "<IPython.core.display.HTML object>"
      ]
     },
     "metadata": {},
     "output_type": "display_data"
    },
    {
     "data": {
      "text/html": [
       "\n",
       "        <div id=\"5FSMiQLCkasrztqP9RSDJ4\"></div>\n",
       "        <script>netpixi.call('5FSMiQLCkasrztqP9RSDJ4', 'bTqPCokXXTQVrTrjt93BTM', 'changeGraph', 'eyJpZCI6IDQyLCAidHlwZSI6ICJ2ZXJ0ZXgiLCAicHJvcHMiOiB7ImNvbG9yIjogNjUyODB9fQo=');</script>\n",
       "    "
      ],
      "text/plain": [
       "<IPython.core.display.HTML object>"
      ]
     },
     "metadata": {},
     "output_type": "display_data"
    },
    {
     "data": {
      "text/html": [
       "\n",
       "        <div id=\"Zhz2fDBQ6Dc9qJdtf8jz57\"></div>\n",
       "        <script>netpixi.call('Zhz2fDBQ6Dc9qJdtf8jz57', 'bTqPCokXXTQVrTrjt93BTM', 'changeGraph', 'eyJpZCI6IDQzLCAidHlwZSI6ICJ2ZXJ0ZXgiLCAicHJvcHMiOiB7ImNvbG9yIjogNjUyODB9fQo=');</script>\n",
       "    "
      ],
      "text/plain": [
       "<IPython.core.display.HTML object>"
      ]
     },
     "metadata": {},
     "output_type": "display_data"
    },
    {
     "data": {
      "text/html": [
       "\n",
       "        <div id=\"i9bDGs8W3dHtGZUSDqLyor\"></div>\n",
       "        <script>netpixi.call('i9bDGs8W3dHtGZUSDqLyor', 'bTqPCokXXTQVrTrjt93BTM', 'changeGraph', 'eyJpZCI6IDQ0LCAidHlwZSI6ICJ2ZXJ0ZXgiLCAicHJvcHMiOiB7ImNvbG9yIjogNjUyODB9fQo=');</script>\n",
       "    "
      ],
      "text/plain": [
       "<IPython.core.display.HTML object>"
      ]
     },
     "metadata": {},
     "output_type": "display_data"
    },
    {
     "data": {
      "text/html": [
       "\n",
       "        <div id=\"bNniiZtE4hjjUSqMZh8gJQ\"></div>\n",
       "        <script>netpixi.call('bNniiZtE4hjjUSqMZh8gJQ', 'bTqPCokXXTQVrTrjt93BTM', 'changeGraph', 'eyJpZCI6IDQ1LCAidHlwZSI6ICJ2ZXJ0ZXgiLCAicHJvcHMiOiB7ImNvbG9yIjogMTY3MTE2ODB9fQo=');</script>\n",
       "    "
      ],
      "text/plain": [
       "<IPython.core.display.HTML object>"
      ]
     },
     "metadata": {},
     "output_type": "display_data"
    },
    {
     "data": {
      "text/html": [
       "\n",
       "        <div id=\"kVaMPKyFeUGHJukdT5N4Nu\"></div>\n",
       "        <script>netpixi.call('kVaMPKyFeUGHJukdT5N4Nu', 'bTqPCokXXTQVrTrjt93BTM', 'changeGraph', 'eyJpZCI6IDQ2LCAidHlwZSI6ICJ2ZXJ0ZXgiLCAicHJvcHMiOiB7ImNvbG9yIjogNjUyODB9fQo=');</script>\n",
       "    "
      ],
      "text/plain": [
       "<IPython.core.display.HTML object>"
      ]
     },
     "metadata": {},
     "output_type": "display_data"
    },
    {
     "data": {
      "text/html": [
       "\n",
       "        <div id=\"iptdheXDMC6wL5wd44FE9B\"></div>\n",
       "        <script>netpixi.call('iptdheXDMC6wL5wd44FE9B', 'bTqPCokXXTQVrTrjt93BTM', 'changeGraph', 'eyJpZCI6IDQ3LCAidHlwZSI6ICJ2ZXJ0ZXgiLCAicHJvcHMiOiB7ImNvbG9yIjogNjUyODB9fQo=');</script>\n",
       "    "
      ],
      "text/plain": [
       "<IPython.core.display.HTML object>"
      ]
     },
     "metadata": {},
     "output_type": "display_data"
    },
    {
     "data": {
      "text/html": [
       "\n",
       "        <div id=\"imGCEzssxn4Nk9DDQNHUZ9\"></div>\n",
       "        <script>netpixi.call('imGCEzssxn4Nk9DDQNHUZ9', 'bTqPCokXXTQVrTrjt93BTM', 'changeGraph', 'eyJpZCI6IDQ4LCAidHlwZSI6ICJ2ZXJ0ZXgiLCAicHJvcHMiOiB7ImNvbG9yIjogMTY3MTE2ODB9fQo=');</script>\n",
       "    "
      ],
      "text/plain": [
       "<IPython.core.display.HTML object>"
      ]
     },
     "metadata": {},
     "output_type": "display_data"
    },
    {
     "data": {
      "text/html": [
       "\n",
       "        <div id=\"FjiceSqxDTBpBMuYWhJbiW\"></div>\n",
       "        <script>netpixi.call('FjiceSqxDTBpBMuYWhJbiW', 'bTqPCokXXTQVrTrjt93BTM', 'changeGraph', 'eyJpZCI6IDQ5LCAidHlwZSI6ICJ2ZXJ0ZXgiLCAicHJvcHMiOiB7ImNvbG9yIjogNjUyODB9fQo=');</script>\n",
       "    "
      ],
      "text/plain": [
       "<IPython.core.display.HTML object>"
      ]
     },
     "metadata": {},
     "output_type": "display_data"
    },
    {
     "data": {
      "text/html": [
       "\n",
       "        <div id=\"YmpynoPjUkjopvbnvZPede\"></div>\n",
       "        <script>netpixi.call('YmpynoPjUkjopvbnvZPede', 'bTqPCokXXTQVrTrjt93BTM', 'changeGraph', 'eyJpZCI6IDUwLCAidHlwZSI6ICJ2ZXJ0ZXgiLCAicHJvcHMiOiB7ImNvbG9yIjogNjUyODB9fQo=');</script>\n",
       "    "
      ],
      "text/plain": [
       "<IPython.core.display.HTML object>"
      ]
     },
     "metadata": {},
     "output_type": "display_data"
    },
    {
     "data": {
      "text/html": [
       "\n",
       "        <div id=\"dfwZvDE2pC65wjKZEFvpni\"></div>\n",
       "        <script>netpixi.call('dfwZvDE2pC65wjKZEFvpni', 'bTqPCokXXTQVrTrjt93BTM', 'changeGraph', 'eyJpZCI6IDUxLCAidHlwZSI6ICJ2ZXJ0ZXgiLCAicHJvcHMiOiB7ImNvbG9yIjogMTY3MTE2ODB9fQo=');</script>\n",
       "    "
      ],
      "text/plain": [
       "<IPython.core.display.HTML object>"
      ]
     },
     "metadata": {},
     "output_type": "display_data"
    },
    {
     "data": {
      "text/html": [
       "\n",
       "        <div id=\"PA4N7Re23jbQ5hs8rB2YQd\"></div>\n",
       "        <script>netpixi.call('PA4N7Re23jbQ5hs8rB2YQd', 'bTqPCokXXTQVrTrjt93BTM', 'changeGraph', 'eyJpZCI6IDUyLCAidHlwZSI6ICJ2ZXJ0ZXgiLCAicHJvcHMiOiB7ImNvbG9yIjogMTY3MTE2ODB9fQo=');</script>\n",
       "    "
      ],
      "text/plain": [
       "<IPython.core.display.HTML object>"
      ]
     },
     "metadata": {},
     "output_type": "display_data"
    },
    {
     "data": {
      "text/html": [
       "\n",
       "        <div id=\"kVu3k8dfnpfapU5vsB5LCm\"></div>\n",
       "        <script>netpixi.call('kVu3k8dfnpfapU5vsB5LCm', 'bTqPCokXXTQVrTrjt93BTM', 'changeGraph', 'eyJpZCI6IDUzLCAidHlwZSI6ICJ2ZXJ0ZXgiLCAicHJvcHMiOiB7ImNvbG9yIjogMTY3MTE2ODB9fQo=');</script>\n",
       "    "
      ],
      "text/plain": [
       "<IPython.core.display.HTML object>"
      ]
     },
     "metadata": {},
     "output_type": "display_data"
    },
    {
     "data": {
      "text/html": [
       "\n",
       "        <div id=\"faW8TVTm7W5ENSfGycTc5R\"></div>\n",
       "        <script>netpixi.call('faW8TVTm7W5ENSfGycTc5R', 'bTqPCokXXTQVrTrjt93BTM', 'changeGraph', 'eyJpZCI6IDU0LCAidHlwZSI6ICJ2ZXJ0ZXgiLCAicHJvcHMiOiB7ImNvbG9yIjogMTY3MTE2ODB9fQo=');</script>\n",
       "    "
      ],
      "text/plain": [
       "<IPython.core.display.HTML object>"
      ]
     },
     "metadata": {},
     "output_type": "display_data"
    },
    {
     "data": {
      "text/html": [
       "\n",
       "        <div id=\"GTBFFKc92D7DHtap7y5Wbn\"></div>\n",
       "        <script>netpixi.call('GTBFFKc92D7DHtap7y5Wbn', 'bTqPCokXXTQVrTrjt93BTM', 'changeGraph', 'eyJpZCI6IDU1LCAidHlwZSI6ICJ2ZXJ0ZXgiLCAicHJvcHMiOiB7ImNvbG9yIjogMTY3MTE2ODB9fQo=');</script>\n",
       "    "
      ],
      "text/plain": [
       "<IPython.core.display.HTML object>"
      ]
     },
     "metadata": {},
     "output_type": "display_data"
    },
    {
     "data": {
      "text/html": [
       "\n",
       "        <div id=\"Fw9wNammdvJnHWS9xt7iws\"></div>\n",
       "        <script>netpixi.call('Fw9wNammdvJnHWS9xt7iws', 'bTqPCokXXTQVrTrjt93BTM', 'changeGraph', 'eyJpZCI6IDU2LCAidHlwZSI6ICJ2ZXJ0ZXgiLCAicHJvcHMiOiB7ImNvbG9yIjogMTY3MTE2ODB9fQo=');</script>\n",
       "    "
      ],
      "text/plain": [
       "<IPython.core.display.HTML object>"
      ]
     },
     "metadata": {},
     "output_type": "display_data"
    },
    {
     "data": {
      "text/html": [
       "\n",
       "        <div id=\"JMgyqsWrL9mYFUnDozWkVL\"></div>\n",
       "        <script>netpixi.call('JMgyqsWrL9mYFUnDozWkVL', 'bTqPCokXXTQVrTrjt93BTM', 'changeGraph', 'eyJpZCI6IDU3LCAidHlwZSI6ICJ2ZXJ0ZXgiLCAicHJvcHMiOiB7ImNvbG9yIjogNjUyODB9fQo=');</script>\n",
       "    "
      ],
      "text/plain": [
       "<IPython.core.display.HTML object>"
      ]
     },
     "metadata": {},
     "output_type": "display_data"
    },
    {
     "data": {
      "text/html": [
       "\n",
       "        <div id=\"mmSfbtnL7vNEmwNWipzjYE\"></div>\n",
       "        <script>netpixi.call('mmSfbtnL7vNEmwNWipzjYE', 'bTqPCokXXTQVrTrjt93BTM', 'changeGraph', 'eyJpZCI6IDU4LCAidHlwZSI6ICJ2ZXJ0ZXgiLCAicHJvcHMiOiB7ImNvbG9yIjogNjUyODB9fQo=');</script>\n",
       "    "
      ],
      "text/plain": [
       "<IPython.core.display.HTML object>"
      ]
     },
     "metadata": {},
     "output_type": "display_data"
    },
    {
     "data": {
      "text/html": [
       "\n",
       "        <div id=\"WMRd2r2jA65kXLtZnocCi4\"></div>\n",
       "        <script>netpixi.call('WMRd2r2jA65kXLtZnocCi4', 'bTqPCokXXTQVrTrjt93BTM', 'changeGraph', 'eyJpZCI6IDU5LCAidHlwZSI6ICJ2ZXJ0ZXgiLCAicHJvcHMiOiB7ImNvbG9yIjogMTY3MTE2ODB9fQo=');</script>\n",
       "    "
      ],
      "text/plain": [
       "<IPython.core.display.HTML object>"
      ]
     },
     "metadata": {},
     "output_type": "display_data"
    },
    {
     "data": {
      "text/html": [
       "\n",
       "        <div id=\"7ZozqJT3JDJCX4e9SAR2so\"></div>\n",
       "        <script>netpixi.call('7ZozqJT3JDJCX4e9SAR2so', 'bTqPCokXXTQVrTrjt93BTM', 'changeGraph', 'eyJpZCI6IDYwLCAidHlwZSI6ICJ2ZXJ0ZXgiLCAicHJvcHMiOiB7ImNvbG9yIjogNjUyODB9fQo=');</script>\n",
       "    "
      ],
      "text/plain": [
       "<IPython.core.display.HTML object>"
      ]
     },
     "metadata": {},
     "output_type": "display_data"
    },
    {
     "data": {
      "text/html": [
       "\n",
       "        <div id=\"Vmdw3d4mXSKfVxgKrVVGa2\"></div>\n",
       "        <script>netpixi.call('Vmdw3d4mXSKfVxgKrVVGa2', 'bTqPCokXXTQVrTrjt93BTM', 'changeGraph', 'eyJpZCI6IDYxLCAidHlwZSI6ICJ2ZXJ0ZXgiLCAicHJvcHMiOiB7ImNvbG9yIjogMTY3MTE2ODB9fQo=');</script>\n",
       "    "
      ],
      "text/plain": [
       "<IPython.core.display.HTML object>"
      ]
     },
     "metadata": {},
     "output_type": "display_data"
    },
    {
     "data": {
      "text/html": [
       "\n",
       "        <div id=\"B2VM8i2TFJoD7GxzvWSL5H\"></div>\n",
       "        <script>netpixi.call('B2VM8i2TFJoD7GxzvWSL5H', 'bTqPCokXXTQVrTrjt93BTM', 'changeGraph', 'eyJpZCI6IDYyLCAidHlwZSI6ICJ2ZXJ0ZXgiLCAicHJvcHMiOiB7ImNvbG9yIjogNjUyODB9fQo=');</script>\n",
       "    "
      ],
      "text/plain": [
       "<IPython.core.display.HTML object>"
      ]
     },
     "metadata": {},
     "output_type": "display_data"
    },
    {
     "data": {
      "text/html": [
       "\n",
       "        <div id=\"hRyFkmwmF6dShR8vXJAJVj\"></div>\n",
       "        <script>netpixi.call('hRyFkmwmF6dShR8vXJAJVj', 'bTqPCokXXTQVrTrjt93BTM', 'changeGraph', 'eyJpZCI6IDYzLCAidHlwZSI6ICJ2ZXJ0ZXgiLCAicHJvcHMiOiB7ImNvbG9yIjogNjUyODB9fQo=');</script>\n",
       "    "
      ],
      "text/plain": [
       "<IPython.core.display.HTML object>"
      ]
     },
     "metadata": {},
     "output_type": "display_data"
    },
    {
     "data": {
      "text/html": [
       "\n",
       "        <div id=\"CXgf4uf4ynB6W6m3gjGMMC\"></div>\n",
       "        <script>netpixi.call('CXgf4uf4ynB6W6m3gjGMMC', 'bTqPCokXXTQVrTrjt93BTM', 'changeGraph', 'eyJpZCI6IDY0LCAidHlwZSI6ICJ2ZXJ0ZXgiLCAicHJvcHMiOiB7ImNvbG9yIjogNjUyODB9fQo=');</script>\n",
       "    "
      ],
      "text/plain": [
       "<IPython.core.display.HTML object>"
      ]
     },
     "metadata": {},
     "output_type": "display_data"
    },
    {
     "data": {
      "text/html": [
       "\n",
       "        <div id=\"ZFZp43fgFkyxmEXtwPUtxc\"></div>\n",
       "        <script>netpixi.call('ZFZp43fgFkyxmEXtwPUtxc', 'bTqPCokXXTQVrTrjt93BTM', 'changeGraph', 'eyJpZCI6IDY1LCAidHlwZSI6ICJ2ZXJ0ZXgiLCAicHJvcHMiOiB7ImNvbG9yIjogNjUyODB9fQo=');</script>\n",
       "    "
      ],
      "text/plain": [
       "<IPython.core.display.HTML object>"
      ]
     },
     "metadata": {},
     "output_type": "display_data"
    },
    {
     "data": {
      "text/html": [
       "\n",
       "        <div id=\"hSk9NZ2RgUAVu8nDnbAjxq\"></div>\n",
       "        <script>netpixi.call('hSk9NZ2RgUAVu8nDnbAjxq', 'bTqPCokXXTQVrTrjt93BTM', 'changeGraph', 'eyJpZCI6IDY2LCAidHlwZSI6ICJ2ZXJ0ZXgiLCAicHJvcHMiOiB7ImNvbG9yIjogNjUyODB9fQo=');</script>\n",
       "    "
      ],
      "text/plain": [
       "<IPython.core.display.HTML object>"
      ]
     },
     "metadata": {},
     "output_type": "display_data"
    },
    {
     "data": {
      "text/html": [
       "\n",
       "        <div id=\"YYjhf5LXoa4bBNkLmK3mdB\"></div>\n",
       "        <script>netpixi.call('YYjhf5LXoa4bBNkLmK3mdB', 'bTqPCokXXTQVrTrjt93BTM', 'changeGraph', 'eyJpZCI6IDY3LCAidHlwZSI6ICJ2ZXJ0ZXgiLCAicHJvcHMiOiB7ImNvbG9yIjogNjUyODB9fQo=');</script>\n",
       "    "
      ],
      "text/plain": [
       "<IPython.core.display.HTML object>"
      ]
     },
     "metadata": {},
     "output_type": "display_data"
    },
    {
     "data": {
      "text/html": [
       "\n",
       "        <div id=\"mtRiUZYUCpWbxwGbSqcVTT\"></div>\n",
       "        <script>netpixi.call('mtRiUZYUCpWbxwGbSqcVTT', 'bTqPCokXXTQVrTrjt93BTM', 'changeGraph', 'eyJpZCI6IDY4LCAidHlwZSI6ICJ2ZXJ0ZXgiLCAicHJvcHMiOiB7ImNvbG9yIjogNjUyODB9fQo=');</script>\n",
       "    "
      ],
      "text/plain": [
       "<IPython.core.display.HTML object>"
      ]
     },
     "metadata": {},
     "output_type": "display_data"
    },
    {
     "data": {
      "text/html": [
       "\n",
       "        <div id=\"XWtF3XtcHH2s395LwtTomS\"></div>\n",
       "        <script>netpixi.call('XWtF3XtcHH2s395LwtTomS', 'bTqPCokXXTQVrTrjt93BTM', 'changeGraph', 'eyJpZCI6IDY5LCAidHlwZSI6ICJ2ZXJ0ZXgiLCAicHJvcHMiOiB7ImNvbG9yIjogNjUyODB9fQo=');</script>\n",
       "    "
      ],
      "text/plain": [
       "<IPython.core.display.HTML object>"
      ]
     },
     "metadata": {},
     "output_type": "display_data"
    },
    {
     "data": {
      "text/html": [
       "\n",
       "        <div id=\"b56jgebKxQgUPBHbuupMg6\"></div>\n",
       "        <script>netpixi.call('b56jgebKxQgUPBHbuupMg6', 'bTqPCokXXTQVrTrjt93BTM', 'changeGraph', 'eyJpZCI6IDcwLCAidHlwZSI6ICJ2ZXJ0ZXgiLCAicHJvcHMiOiB7ImNvbG9yIjogMTY3MTE2ODB9fQo=');</script>\n",
       "    "
      ],
      "text/plain": [
       "<IPython.core.display.HTML object>"
      ]
     },
     "metadata": {},
     "output_type": "display_data"
    },
    {
     "data": {
      "text/html": [
       "\n",
       "        <div id=\"PrsJUSR9jmUCpRtWZFsW9n\"></div>\n",
       "        <script>netpixi.call('PrsJUSR9jmUCpRtWZFsW9n', 'bTqPCokXXTQVrTrjt93BTM', 'changeGraph', 'eyJpZCI6IDcxLCAidHlwZSI6ICJ2ZXJ0ZXgiLCAicHJvcHMiOiB7ImNvbG9yIjogNjUyODB9fQo=');</script>\n",
       "    "
      ],
      "text/plain": [
       "<IPython.core.display.HTML object>"
      ]
     },
     "metadata": {},
     "output_type": "display_data"
    },
    {
     "data": {
      "text/html": [
       "\n",
       "        <div id=\"BYyGme6UZQZUfK6bvH5Gip\"></div>\n",
       "        <script>netpixi.call('BYyGme6UZQZUfK6bvH5Gip', 'bTqPCokXXTQVrTrjt93BTM', 'changeGraph', 'eyJpZCI6IDcyLCAidHlwZSI6ICJ2ZXJ0ZXgiLCAicHJvcHMiOiB7ImNvbG9yIjogMTY3MTE2ODB9fQo=');</script>\n",
       "    "
      ],
      "text/plain": [
       "<IPython.core.display.HTML object>"
      ]
     },
     "metadata": {},
     "output_type": "display_data"
    },
    {
     "data": {
      "text/html": [
       "\n",
       "        <div id=\"aTEu6WCrAVWag5hdCuVqAy\"></div>\n",
       "        <script>netpixi.call('aTEu6WCrAVWag5hdCuVqAy', 'bTqPCokXXTQVrTrjt93BTM', 'changeGraph', 'eyJpZCI6IDczLCAidHlwZSI6ICJ2ZXJ0ZXgiLCAicHJvcHMiOiB7ImNvbG9yIjogMTY3MTE2ODB9fQo=');</script>\n",
       "    "
      ],
      "text/plain": [
       "<IPython.core.display.HTML object>"
      ]
     },
     "metadata": {},
     "output_type": "display_data"
    },
    {
     "data": {
      "text/html": [
       "\n",
       "        <div id=\"3NGZTiRv3HuHfPDy73Dbbg\"></div>\n",
       "        <script>netpixi.call('3NGZTiRv3HuHfPDy73Dbbg', 'bTqPCokXXTQVrTrjt93BTM', 'changeGraph', 'eyJpZCI6IDc0LCAidHlwZSI6ICJ2ZXJ0ZXgiLCAicHJvcHMiOiB7ImNvbG9yIjogMTY3MTE2ODB9fQo=');</script>\n",
       "    "
      ],
      "text/plain": [
       "<IPython.core.display.HTML object>"
      ]
     },
     "metadata": {},
     "output_type": "display_data"
    },
    {
     "data": {
      "text/html": [
       "\n",
       "        <div id=\"g8QgNN5EsRAhg8CUUGFoTB\"></div>\n",
       "        <script>netpixi.call('g8QgNN5EsRAhg8CUUGFoTB', 'bTqPCokXXTQVrTrjt93BTM', 'changeGraph', 'eyJpZCI6IDc1LCAidHlwZSI6ICJ2ZXJ0ZXgiLCAicHJvcHMiOiB7ImNvbG9yIjogNjUyODB9fQo=');</script>\n",
       "    "
      ],
      "text/plain": [
       "<IPython.core.display.HTML object>"
      ]
     },
     "metadata": {},
     "output_type": "display_data"
    },
    {
     "data": {
      "text/html": [
       "\n",
       "        <div id=\"NaQEhWok4xcUYFBrhGzGjC\"></div>\n",
       "        <script>netpixi.call('NaQEhWok4xcUYFBrhGzGjC', 'bTqPCokXXTQVrTrjt93BTM', 'changeGraph', 'eyJpZCI6IDc2LCAidHlwZSI6ICJ2ZXJ0ZXgiLCAicHJvcHMiOiB7ImNvbG9yIjogNjUyODB9fQo=');</script>\n",
       "    "
      ],
      "text/plain": [
       "<IPython.core.display.HTML object>"
      ]
     },
     "metadata": {},
     "output_type": "display_data"
    },
    {
     "data": {
      "text/html": [
       "\n",
       "        <div id=\"ZycrdV5VGVJ7mVMw5NeB9w\"></div>\n",
       "        <script>netpixi.call('ZycrdV5VGVJ7mVMw5NeB9w', 'bTqPCokXXTQVrTrjt93BTM', 'changeGraph', 'eyJpZCI6IDc3LCAidHlwZSI6ICJ2ZXJ0ZXgiLCAicHJvcHMiOiB7ImNvbG9yIjogNjUyODB9fQo=');</script>\n",
       "    "
      ],
      "text/plain": [
       "<IPython.core.display.HTML object>"
      ]
     },
     "metadata": {},
     "output_type": "display_data"
    },
    {
     "data": {
      "text/html": [
       "\n",
       "        <div id=\"dWfta9GmnaVSfH7pN6AE8A\"></div>\n",
       "        <script>netpixi.call('dWfta9GmnaVSfH7pN6AE8A', 'bTqPCokXXTQVrTrjt93BTM', 'changeGraph', 'eyJpZCI6IDc4LCAidHlwZSI6ICJ2ZXJ0ZXgiLCAicHJvcHMiOiB7ImNvbG9yIjogNjUyODB9fQo=');</script>\n",
       "    "
      ],
      "text/plain": [
       "<IPython.core.display.HTML object>"
      ]
     },
     "metadata": {},
     "output_type": "display_data"
    },
    {
     "data": {
      "text/html": [
       "\n",
       "        <div id=\"cBjKLSJmWxVa6noH3kwUL2\"></div>\n",
       "        <script>netpixi.call('cBjKLSJmWxVa6noH3kwUL2', 'bTqPCokXXTQVrTrjt93BTM', 'changeGraph', 'eyJpZCI6IDc5LCAidHlwZSI6ICJ2ZXJ0ZXgiLCAicHJvcHMiOiB7ImNvbG9yIjogNjUyODB9fQo=');</script>\n",
       "    "
      ],
      "text/plain": [
       "<IPython.core.display.HTML object>"
      ]
     },
     "metadata": {},
     "output_type": "display_data"
    },
    {
     "data": {
      "text/html": [
       "\n",
       "        <div id=\"7CBxyQmzHTNoXzisWeVUfA\"></div>\n",
       "        <script>netpixi.call('7CBxyQmzHTNoXzisWeVUfA', 'bTqPCokXXTQVrTrjt93BTM', 'changeGraph', 'eyJpZCI6IDgwLCAidHlwZSI6ICJ2ZXJ0ZXgiLCAicHJvcHMiOiB7ImNvbG9yIjogNjUyODB9fQo=');</script>\n",
       "    "
      ],
      "text/plain": [
       "<IPython.core.display.HTML object>"
      ]
     },
     "metadata": {},
     "output_type": "display_data"
    },
    {
     "data": {
      "text/html": [
       "\n",
       "        <div id=\"7MGrFkUYLwpuU7NenYkWcy\"></div>\n",
       "        <script>netpixi.call('7MGrFkUYLwpuU7NenYkWcy', 'bTqPCokXXTQVrTrjt93BTM', 'changeGraph', 'eyJpZCI6IDgxLCAidHlwZSI6ICJ2ZXJ0ZXgiLCAicHJvcHMiOiB7ImNvbG9yIjogNjUyODB9fQo=');</script>\n",
       "    "
      ],
      "text/plain": [
       "<IPython.core.display.HTML object>"
      ]
     },
     "metadata": {},
     "output_type": "display_data"
    },
    {
     "data": {
      "text/html": [
       "\n",
       "        <div id=\"eZTvudX8ifNKGysrmMGuQg\"></div>\n",
       "        <script>netpixi.call('eZTvudX8ifNKGysrmMGuQg', 'bTqPCokXXTQVrTrjt93BTM', 'changeGraph', 'eyJpZCI6IDgyLCAidHlwZSI6ICJ2ZXJ0ZXgiLCAicHJvcHMiOiB7ImNvbG9yIjogNjUyODB9fQo=');</script>\n",
       "    "
      ],
      "text/plain": [
       "<IPython.core.display.HTML object>"
      ]
     },
     "metadata": {},
     "output_type": "display_data"
    },
    {
     "data": {
      "text/html": [
       "\n",
       "        <div id=\"TaFafnZjNFEG8sxQYPiUGC\"></div>\n",
       "        <script>netpixi.call('TaFafnZjNFEG8sxQYPiUGC', 'bTqPCokXXTQVrTrjt93BTM', 'changeGraph', 'eyJpZCI6IDgzLCAidHlwZSI6ICJ2ZXJ0ZXgiLCAicHJvcHMiOiB7ImNvbG9yIjogNjUyODB9fQo=');</script>\n",
       "    "
      ],
      "text/plain": [
       "<IPython.core.display.HTML object>"
      ]
     },
     "metadata": {},
     "output_type": "display_data"
    },
    {
     "data": {
      "text/html": [
       "\n",
       "        <div id=\"SyCpfwjp92ddTtDXTeyLxi\"></div>\n",
       "        <script>netpixi.call('SyCpfwjp92ddTtDXTeyLxi', 'bTqPCokXXTQVrTrjt93BTM', 'changeGraph', 'eyJpZCI6IDg0LCAidHlwZSI6ICJ2ZXJ0ZXgiLCAicHJvcHMiOiB7ImNvbG9yIjogNjUyODB9fQo=');</script>\n",
       "    "
      ],
      "text/plain": [
       "<IPython.core.display.HTML object>"
      ]
     },
     "metadata": {},
     "output_type": "display_data"
    },
    {
     "data": {
      "text/html": [
       "\n",
       "        <div id=\"YBCvarLxMWzLNxE7KycNhQ\"></div>\n",
       "        <script>netpixi.call('YBCvarLxMWzLNxE7KycNhQ', 'bTqPCokXXTQVrTrjt93BTM', 'changeGraph', 'eyJpZCI6IDg1LCAidHlwZSI6ICJ2ZXJ0ZXgiLCAicHJvcHMiOiB7ImNvbG9yIjogNjUyODB9fQo=');</script>\n",
       "    "
      ],
      "text/plain": [
       "<IPython.core.display.HTML object>"
      ]
     },
     "metadata": {},
     "output_type": "display_data"
    },
    {
     "data": {
      "text/html": [
       "\n",
       "        <div id=\"SKg48DbWRhAwRuqkuxf4uW\"></div>\n",
       "        <script>netpixi.call('SKg48DbWRhAwRuqkuxf4uW', 'bTqPCokXXTQVrTrjt93BTM', 'changeGraph', 'eyJpZCI6IDg2LCAidHlwZSI6ICJ2ZXJ0ZXgiLCAicHJvcHMiOiB7ImNvbG9yIjogNjUyODB9fQo=');</script>\n",
       "    "
      ],
      "text/plain": [
       "<IPython.core.display.HTML object>"
      ]
     },
     "metadata": {},
     "output_type": "display_data"
    },
    {
     "data": {
      "text/html": [
       "\n",
       "        <div id=\"Vfnva5aaQmQ2KvBrjK7ugE\"></div>\n",
       "        <script>netpixi.call('Vfnva5aaQmQ2KvBrjK7ugE', 'bTqPCokXXTQVrTrjt93BTM', 'changeGraph', 'eyJpZCI6IDg3LCAidHlwZSI6ICJ2ZXJ0ZXgiLCAicHJvcHMiOiB7ImNvbG9yIjogNjUyODB9fQo=');</script>\n",
       "    "
      ],
      "text/plain": [
       "<IPython.core.display.HTML object>"
      ]
     },
     "metadata": {},
     "output_type": "display_data"
    },
    {
     "data": {
      "text/html": [
       "\n",
       "        <div id=\"aUXyTFtFHDLErEQaNAWxic\"></div>\n",
       "        <script>netpixi.call('aUXyTFtFHDLErEQaNAWxic', 'bTqPCokXXTQVrTrjt93BTM', 'changeGraph', 'eyJpZCI6IDg4LCAidHlwZSI6ICJ2ZXJ0ZXgiLCAicHJvcHMiOiB7ImNvbG9yIjogNjUyODB9fQo=');</script>\n",
       "    "
      ],
      "text/plain": [
       "<IPython.core.display.HTML object>"
      ]
     },
     "metadata": {},
     "output_type": "display_data"
    },
    {
     "data": {
      "text/html": [
       "\n",
       "        <div id=\"R9eZdwewYErdqEj6vwEqdV\"></div>\n",
       "        <script>netpixi.call('R9eZdwewYErdqEj6vwEqdV', 'bTqPCokXXTQVrTrjt93BTM', 'changeGraph', 'eyJpZCI6IDg5LCAidHlwZSI6ICJ2ZXJ0ZXgiLCAicHJvcHMiOiB7ImNvbG9yIjogNjUyODB9fQo=');</script>\n",
       "    "
      ],
      "text/plain": [
       "<IPython.core.display.HTML object>"
      ]
     },
     "metadata": {},
     "output_type": "display_data"
    },
    {
     "data": {
      "text/html": [
       "\n",
       "        <div id=\"8rRJ7zeGAYsSecqyhhjjDg\"></div>\n",
       "        <script>netpixi.call('8rRJ7zeGAYsSecqyhhjjDg', 'bTqPCokXXTQVrTrjt93BTM', 'changeGraph', 'eyJpZCI6IDkwLCAidHlwZSI6ICJ2ZXJ0ZXgiLCAicHJvcHMiOiB7ImNvbG9yIjogNjUyODB9fQo=');</script>\n",
       "    "
      ],
      "text/plain": [
       "<IPython.core.display.HTML object>"
      ]
     },
     "metadata": {},
     "output_type": "display_data"
    },
    {
     "data": {
      "text/html": [
       "\n",
       "        <div id=\"fjZCpZTGEwy6k5b9gFmte7\"></div>\n",
       "        <script>netpixi.call('fjZCpZTGEwy6k5b9gFmte7', 'bTqPCokXXTQVrTrjt93BTM', 'changeGraph', 'eyJpZCI6IDkxLCAidHlwZSI6ICJ2ZXJ0ZXgiLCAicHJvcHMiOiB7ImNvbG9yIjogNjUyODB9fQo=');</script>\n",
       "    "
      ],
      "text/plain": [
       "<IPython.core.display.HTML object>"
      ]
     },
     "metadata": {},
     "output_type": "display_data"
    },
    {
     "data": {
      "text/html": [
       "\n",
       "        <div id=\"PzkBuKNHTV2QzTBaaWWMfN\"></div>\n",
       "        <script>netpixi.call('PzkBuKNHTV2QzTBaaWWMfN', 'bTqPCokXXTQVrTrjt93BTM', 'changeGraph', 'eyJpZCI6IDkyLCAidHlwZSI6ICJ2ZXJ0ZXgiLCAicHJvcHMiOiB7ImNvbG9yIjogNjUyODB9fQo=');</script>\n",
       "    "
      ],
      "text/plain": [
       "<IPython.core.display.HTML object>"
      ]
     },
     "metadata": {},
     "output_type": "display_data"
    },
    {
     "data": {
      "text/html": [
       "\n",
       "        <div id=\"5f4xQRT8P5fHLfhxKLBbFp\"></div>\n",
       "        <script>netpixi.call('5f4xQRT8P5fHLfhxKLBbFp', 'bTqPCokXXTQVrTrjt93BTM', 'changeGraph', 'eyJpZCI6IDkzLCAidHlwZSI6ICJ2ZXJ0ZXgiLCAicHJvcHMiOiB7ImNvbG9yIjogNjUyODB9fQo=');</script>\n",
       "    "
      ],
      "text/plain": [
       "<IPython.core.display.HTML object>"
      ]
     },
     "metadata": {},
     "output_type": "display_data"
    },
    {
     "data": {
      "text/html": [
       "\n",
       "        <div id=\"VmHxGTicJzRV8jDRMEDiUM\"></div>\n",
       "        <script>netpixi.call('VmHxGTicJzRV8jDRMEDiUM', 'bTqPCokXXTQVrTrjt93BTM', 'changeGraph', 'eyJpZCI6IDk0LCAidHlwZSI6ICJ2ZXJ0ZXgiLCAicHJvcHMiOiB7ImNvbG9yIjogNjUyODB9fQo=');</script>\n",
       "    "
      ],
      "text/plain": [
       "<IPython.core.display.HTML object>"
      ]
     },
     "metadata": {},
     "output_type": "display_data"
    },
    {
     "data": {
      "text/html": [
       "\n",
       "        <div id=\"eGcUKjnm5eaHxERbD7QLGe\"></div>\n",
       "        <script>netpixi.call('eGcUKjnm5eaHxERbD7QLGe', 'bTqPCokXXTQVrTrjt93BTM', 'changeGraph', 'eyJpZCI6IDk1LCAidHlwZSI6ICJ2ZXJ0ZXgiLCAicHJvcHMiOiB7ImNvbG9yIjogNjUyODB9fQo=');</script>\n",
       "    "
      ],
      "text/plain": [
       "<IPython.core.display.HTML object>"
      ]
     },
     "metadata": {},
     "output_type": "display_data"
    },
    {
     "data": {
      "text/html": [
       "\n",
       "        <div id=\"MA3BpY95BNTr7PoJnNejeD\"></div>\n",
       "        <script>netpixi.call('MA3BpY95BNTr7PoJnNejeD', 'bTqPCokXXTQVrTrjt93BTM', 'changeGraph', 'eyJpZCI6IDk2LCAidHlwZSI6ICJ2ZXJ0ZXgiLCAicHJvcHMiOiB7ImNvbG9yIjogNjUyODB9fQo=');</script>\n",
       "    "
      ],
      "text/plain": [
       "<IPython.core.display.HTML object>"
      ]
     },
     "metadata": {},
     "output_type": "display_data"
    },
    {
     "data": {
      "text/html": [
       "\n",
       "        <div id=\"4xdeR8UopEaymfYp4K3mJB\"></div>\n",
       "        <script>netpixi.call('4xdeR8UopEaymfYp4K3mJB', 'bTqPCokXXTQVrTrjt93BTM', 'changeGraph', 'eyJpZCI6IDk3LCAidHlwZSI6ICJ2ZXJ0ZXgiLCAicHJvcHMiOiB7ImNvbG9yIjogNjUyODB9fQo=');</script>\n",
       "    "
      ],
      "text/plain": [
       "<IPython.core.display.HTML object>"
      ]
     },
     "metadata": {},
     "output_type": "display_data"
    },
    {
     "data": {
      "text/html": [
       "\n",
       "        <div id=\"fKai2Afejz44GhRJVtBmCP\"></div>\n",
       "        <script>netpixi.call('fKai2Afejz44GhRJVtBmCP', 'bTqPCokXXTQVrTrjt93BTM', 'changeGraph', 'eyJpZCI6IDk4LCAidHlwZSI6ICJ2ZXJ0ZXgiLCAicHJvcHMiOiB7ImNvbG9yIjogNjUyODB9fQo=');</script>\n",
       "    "
      ],
      "text/plain": [
       "<IPython.core.display.HTML object>"
      ]
     },
     "metadata": {},
     "output_type": "display_data"
    },
    {
     "data": {
      "text/html": [
       "\n",
       "        <div id=\"JKyx2LYwYB8kswK6LYRcUZ\"></div>\n",
       "        <script>netpixi.call('JKyx2LYwYB8kswK6LYRcUZ', 'bTqPCokXXTQVrTrjt93BTM', 'changeGraph', 'eyJpZCI6IDk5LCAidHlwZSI6ICJ2ZXJ0ZXgiLCAicHJvcHMiOiB7ImNvbG9yIjogNjUyODB9fQo=');</script>\n",
       "    "
      ],
      "text/plain": [
       "<IPython.core.display.HTML object>"
      ]
     },
     "metadata": {},
     "output_type": "display_data"
    },
    {
     "data": {
      "text/html": [
       "\n",
       "        <div id=\"mfcgb86q32QbBTxmEDfcst\"></div>\n",
       "        <script>netpixi.call('mfcgb86q32QbBTxmEDfcst', 'bTqPCokXXTQVrTrjt93BTM', 'changeGraph', 'eyJpZCI6IDEwMCwgInR5cGUiOiAidmVydGV4IiwgInByb3BzIjogeyJjb2xvciI6IDY1MjgwfX0K');</script>\n",
       "    "
      ],
      "text/plain": [
       "<IPython.core.display.HTML object>"
      ]
     },
     "metadata": {},
     "output_type": "display_data"
    },
    {
     "data": {
      "text/html": [
       "\n",
       "        <div id=\"jYJmWDVyR6e3LKQF5QVVQv\"></div>\n",
       "        <script>netpixi.call('jYJmWDVyR6e3LKQF5QVVQv', 'bTqPCokXXTQVrTrjt93BTM', 'changeGraph', 'eyJpZCI6IDEwMSwgInR5cGUiOiAidmVydGV4IiwgInByb3BzIjogeyJjb2xvciI6IDY1MjgwfX0K');</script>\n",
       "    "
      ],
      "text/plain": [
       "<IPython.core.display.HTML object>"
      ]
     },
     "metadata": {},
     "output_type": "display_data"
    },
    {
     "data": {
      "text/html": [
       "\n",
       "        <div id=\"VrjUgMMdGajTe9oJMya7ms\"></div>\n",
       "        <script>netpixi.call('VrjUgMMdGajTe9oJMya7ms', 'bTqPCokXXTQVrTrjt93BTM', 'changeGraph', 'eyJpZCI6IDEwMiwgInR5cGUiOiAidmVydGV4IiwgInByb3BzIjogeyJjb2xvciI6IDY1MjgwfX0K');</script>\n",
       "    "
      ],
      "text/plain": [
       "<IPython.core.display.HTML object>"
      ]
     },
     "metadata": {},
     "output_type": "display_data"
    },
    {
     "data": {
      "text/html": [
       "\n",
       "        <div id=\"oQzQG8WYrJjvnzZCLwrVze\"></div>\n",
       "        <script>netpixi.call('oQzQG8WYrJjvnzZCLwrVze', 'bTqPCokXXTQVrTrjt93BTM', 'changeGraph', 'eyJpZCI6IDEwMywgInR5cGUiOiAidmVydGV4IiwgInByb3BzIjogeyJjb2xvciI6IDY1MjgwfX0K');</script>\n",
       "    "
      ],
      "text/plain": [
       "<IPython.core.display.HTML object>"
      ]
     },
     "metadata": {},
     "output_type": "display_data"
    },
    {
     "data": {
      "text/html": [
       "\n",
       "        <div id=\"3fNdpA8HVqt5db9vzog2ae\"></div>\n",
       "        <script>netpixi.call('3fNdpA8HVqt5db9vzog2ae', 'bTqPCokXXTQVrTrjt93BTM', 'changeGraph', 'eyJpZCI6IDEwNCwgInR5cGUiOiAidmVydGV4IiwgInByb3BzIjogeyJjb2xvciI6IDY1MjgwfX0K');</script>\n",
       "    "
      ],
      "text/plain": [
       "<IPython.core.display.HTML object>"
      ]
     },
     "metadata": {},
     "output_type": "display_data"
    },
    {
     "data": {
      "text/html": [
       "\n",
       "        <div id=\"CpmDfGc6CgRWXCvsMDVoY9\"></div>\n",
       "        <script>netpixi.call('CpmDfGc6CgRWXCvsMDVoY9', 'bTqPCokXXTQVrTrjt93BTM', 'changeGraph', 'eyJpZCI6IDEwNSwgInR5cGUiOiAidmVydGV4IiwgInByb3BzIjogeyJjb2xvciI6IDY1MjgwfX0K');</script>\n",
       "    "
      ],
      "text/plain": [
       "<IPython.core.display.HTML object>"
      ]
     },
     "metadata": {},
     "output_type": "display_data"
    },
    {
     "data": {
      "text/html": [
       "\n",
       "        <div id=\"nc2tseZBSdRnRipn76WZZa\"></div>\n",
       "        <script>netpixi.call('nc2tseZBSdRnRipn76WZZa', 'bTqPCokXXTQVrTrjt93BTM', 'changeGraph', 'eyJpZCI6IDEwNiwgInR5cGUiOiAidmVydGV4IiwgInByb3BzIjogeyJjb2xvciI6IDY1MjgwfX0K');</script>\n",
       "    "
      ],
      "text/plain": [
       "<IPython.core.display.HTML object>"
      ]
     },
     "metadata": {},
     "output_type": "display_data"
    },
    {
     "data": {
      "text/html": [
       "\n",
       "        <div id=\"byVZvuBZuRpQk6gmUDnpaT\"></div>\n",
       "        <script>netpixi.call('byVZvuBZuRpQk6gmUDnpaT', 'bTqPCokXXTQVrTrjt93BTM', 'changeGraph', 'eyJpZCI6IDEwNywgInR5cGUiOiAidmVydGV4IiwgInByb3BzIjogeyJjb2xvciI6IDY1MjgwfX0K');</script>\n",
       "    "
      ],
      "text/plain": [
       "<IPython.core.display.HTML object>"
      ]
     },
     "metadata": {},
     "output_type": "display_data"
    },
    {
     "data": {
      "text/html": [
       "\n",
       "        <div id=\"LKrnGduu3G2JD4Z6i4S8yX\"></div>\n",
       "        <script>netpixi.call('LKrnGduu3G2JD4Z6i4S8yX', 'bTqPCokXXTQVrTrjt93BTM', 'changeGraph', 'eyJpZCI6IDEwOCwgInR5cGUiOiAidmVydGV4IiwgInByb3BzIjogeyJjb2xvciI6IDY1MjgwfX0K');</script>\n",
       "    "
      ],
      "text/plain": [
       "<IPython.core.display.HTML object>"
      ]
     },
     "metadata": {},
     "output_type": "display_data"
    },
    {
     "data": {
      "text/html": [
       "\n",
       "        <div id=\"3Hg8QNXFPeXrnHubTfFYXV\"></div>\n",
       "        <script>netpixi.call('3Hg8QNXFPeXrnHubTfFYXV', 'bTqPCokXXTQVrTrjt93BTM', 'changeGraph', 'eyJpZCI6IDEwOSwgInR5cGUiOiAidmVydGV4IiwgInByb3BzIjogeyJjb2xvciI6IDY1MjgwfX0K');</script>\n",
       "    "
      ],
      "text/plain": [
       "<IPython.core.display.HTML object>"
      ]
     },
     "metadata": {},
     "output_type": "display_data"
    },
    {
     "data": {
      "text/html": [
       "\n",
       "        <div id=\"QW2bzYEwPw54t8ox6ZNqi4\"></div>\n",
       "        <script>netpixi.call('QW2bzYEwPw54t8ox6ZNqi4', 'bTqPCokXXTQVrTrjt93BTM', 'changeGraph', 'eyJpZCI6IDExMCwgInR5cGUiOiAidmVydGV4IiwgInByb3BzIjogeyJjb2xvciI6IDY1MjgwfX0K');</script>\n",
       "    "
      ],
      "text/plain": [
       "<IPython.core.display.HTML object>"
      ]
     },
     "metadata": {},
     "output_type": "display_data"
    },
    {
     "data": {
      "text/html": [
       "\n",
       "        <div id=\"GdrrKkdvq7UKWjosDuwtnb\"></div>\n",
       "        <script>netpixi.call('GdrrKkdvq7UKWjosDuwtnb', 'bTqPCokXXTQVrTrjt93BTM', 'changeGraph', 'eyJpZCI6IDExMSwgInR5cGUiOiAidmVydGV4IiwgInByb3BzIjogeyJjb2xvciI6IDY1MjgwfX0K');</script>\n",
       "    "
      ],
      "text/plain": [
       "<IPython.core.display.HTML object>"
      ]
     },
     "metadata": {},
     "output_type": "display_data"
    }
   ],
   "source": [
    "matrix = spectral.adjacency(g)\n",
    "\n",
    "# Além de cpnet.Surprise, há outras\n",
    "# opções de algoritmos discretos:\n",
    "# cpnet.BE\n",
    "# cpnet.Lip\n",
    "# cpnet.LapCore\n",
    "# cpnet.LapSgnCore\n",
    "# cpnet.LowRankCore\n",
    "\n",
    "algorithm = cpnet.Surprise()\n",
    "algorithm.detect(matrix)\n",
    "c = algorithm.get_coreness()\n",
    "\n",
    "# Depois do código acima, c é um dicionário\n",
    "# em que as chaves são índices de vértices e\n",
    "# valores são os atribuídos pelo algoritmo.\n",
    "\n",
    "g.add_vp('core')\n",
    "for i, coreness in c.items():\n",
    "    v = g.get_vertex_by_index(i)\n",
    "    v['core'] = int(coreness)\n",
    "    \n",
    "# Vamos pintar de vermelho todos os vértices\n",
    "# identificados como centro e de verde todos\n",
    "# os vértices identificados como periferia.\n",
    "    \n",
    "for v in g.all_vertices():\n",
    "    if v['core'] == 1:\n",
    "        r.vertex(v['id'], color=0xff0000)\n",
    "    else:\n",
    "        r.vertex(v['id'], color=0x00ff00)\n",
    "\n",
    "# Quando a execução desta célula terminar,\n",
    "# veja como ficou a visualização acima."
   ]
  },
  {
   "cell_type": "code",
   "execution_count": 58,
   "id": "32130c24",
   "metadata": {},
   "outputs": [
    {
     "data": {
      "text/html": [
       "\n",
       "        <div id=\"LQ7JcdfJCpCGpY9X2TMaT9\"></div>\n",
       "        <script>netpixi.call('LQ7JcdfJCpCGpY9X2TMaT9', 'bTqPCokXXTQVrTrjt93BTM', 'changeGraph', 'eyJpZCI6IDAsICJ0eXBlIjogInZlcnRleCIsICJwcm9wcyI6IHsic2l6ZSI6IDQwLjg2OTU2NTIxNzM5MTMwNX19Cg==');</script>\n",
       "    "
      ],
      "text/plain": [
       "<IPython.core.display.HTML object>"
      ]
     },
     "metadata": {},
     "output_type": "display_data"
    },
    {
     "data": {
      "text/html": [
       "\n",
       "        <div id=\"8q55KbecvdhMSKv4KqHhhL\"></div>\n",
       "        <script>netpixi.call('8q55KbecvdhMSKv4KqHhhL', 'bTqPCokXXTQVrTrjt93BTM', 'changeGraph', 'eyJpZCI6IDEsICJ0eXBlIjogInZlcnRleCIsICJwcm9wcyI6IHsic2l6ZSI6IDE1Ljg0MjY5NjYyOTIxMzQ4M319Cg==');</script>\n",
       "    "
      ],
      "text/plain": [
       "<IPython.core.display.HTML object>"
      ]
     },
     "metadata": {},
     "output_type": "display_data"
    },
    {
     "data": {
      "text/html": [
       "\n",
       "        <div id=\"8cqz5Ry8bwoXiqyphemcxd\"></div>\n",
       "        <script>netpixi.call('8cqz5Ry8bwoXiqyphemcxd', 'bTqPCokXXTQVrTrjt93BTM', 'changeGraph', 'eyJpZCI6IDIsICJ0eXBlIjogInZlcnRleCIsICJwcm9wcyI6IHsic2l6ZSI6IDQ4LjY5NTY1MjE3MzkxMzA0fX0K');</script>\n",
       "    "
      ],
      "text/plain": [
       "<IPython.core.display.HTML object>"
      ]
     },
     "metadata": {},
     "output_type": "display_data"
    },
    {
     "data": {
      "text/html": [
       "\n",
       "        <div id=\"59cjdAuL6xGoRF9Vfyy7a4\"></div>\n",
       "        <script>netpixi.call('59cjdAuL6xGoRF9Vfyy7a4', 'bTqPCokXXTQVrTrjt93BTM', 'changeGraph', 'eyJpZCI6IDMsICJ0eXBlIjogInZlcnRleCIsICJwcm9wcyI6IHsic2l6ZSI6IDQzLjQ3ODI2MDg2OTU2NTIyfX0K');</script>\n",
       "    "
      ],
      "text/plain": [
       "<IPython.core.display.HTML object>"
      ]
     },
     "metadata": {},
     "output_type": "display_data"
    },
    {
     "data": {
      "text/html": [
       "\n",
       "        <div id=\"WLZJzcYHPJxrhtdR6vsBRR\"></div>\n",
       "        <script>netpixi.call('WLZJzcYHPJxrhtdR6vsBRR', 'bTqPCokXXTQVrTrjt93BTM', 'changeGraph', 'eyJpZCI6IDQsICJ0eXBlIjogInZlcnRleCIsICJwcm9wcyI6IHsic2l6ZSI6IDQxLjMwNDM0NzgyNjA4Njk1fX0K');</script>\n",
       "    "
      ],
      "text/plain": [
       "<IPython.core.display.HTML object>"
      ]
     },
     "metadata": {},
     "output_type": "display_data"
    },
    {
     "data": {
      "text/html": [
       "\n",
       "        <div id=\"9CUG5enrVFRZtqNjNQijQp\"></div>\n",
       "        <script>netpixi.call('9CUG5enrVFRZtqNjNQijQp', 'bTqPCokXXTQVrTrjt93BTM', 'changeGraph', 'eyJpZCI6IDUsICJ0eXBlIjogInZlcnRleCIsICJwcm9wcyI6IHsic2l6ZSI6IDQ5LjEzMDQzNDc4MjYwODY5NX19Cg==');</script>\n",
       "    "
      ],
      "text/plain": [
       "<IPython.core.display.HTML object>"
      ]
     },
     "metadata": {},
     "output_type": "display_data"
    },
    {
     "data": {
      "text/html": [
       "\n",
       "        <div id=\"D7iKhqz2UXwBqcXxHqi7NQ\"></div>\n",
       "        <script>netpixi.call('D7iKhqz2UXwBqcXxHqi7NQ', 'bTqPCokXXTQVrTrjt93BTM', 'changeGraph', 'eyJpZCI6IDYsICJ0eXBlIjogInZlcnRleCIsICJwcm9wcyI6IHsic2l6ZSI6IDQzLjkxMzA0MzQ3ODI2MDg3fX0K');</script>\n",
       "    "
      ],
      "text/plain": [
       "<IPython.core.display.HTML object>"
      ]
     },
     "metadata": {},
     "output_type": "display_data"
    },
    {
     "data": {
      "text/html": [
       "\n",
       "        <div id=\"UE7oUNFZ5gDCZmUfj2bpvX\"></div>\n",
       "        <script>netpixi.call('UE7oUNFZ5gDCZmUfj2bpvX', 'bTqPCokXXTQVrTrjt93BTM', 'changeGraph', 'eyJpZCI6IDcsICJ0eXBlIjogInZlcnRleCIsICJwcm9wcyI6IHsic2l6ZSI6IDE5LjIxMzQ4MzE0NjA2NzQxOH19Cg==');</script>\n",
       "    "
      ],
      "text/plain": [
       "<IPython.core.display.HTML object>"
      ]
     },
     "metadata": {},
     "output_type": "display_data"
    },
    {
     "data": {
      "text/html": [
       "\n",
       "        <div id=\"MuiDQb77F77s4pYm88MRnk\"></div>\n",
       "        <script>netpixi.call('MuiDQb77F77s4pYm88MRnk', 'bTqPCokXXTQVrTrjt93BTM', 'changeGraph', 'eyJpZCI6IDgsICJ0eXBlIjogInZlcnRleCIsICJwcm9wcyI6IHsic2l6ZSI6IDE2Ljg1MzkzMjU4NDI2OTY2NH19Cg==');</script>\n",
       "    "
      ],
      "text/plain": [
       "<IPython.core.display.HTML object>"
      ]
     },
     "metadata": {},
     "output_type": "display_data"
    },
    {
     "data": {
      "text/html": [
       "\n",
       "        <div id=\"QrTtNgRDiMzNKTg2VmKeuh\"></div>\n",
       "        <script>netpixi.call('QrTtNgRDiMzNKTg2VmKeuh', 'bTqPCokXXTQVrTrjt93BTM', 'changeGraph', 'eyJpZCI6IDksICJ0eXBlIjogInZlcnRleCIsICJwcm9wcyI6IHsic2l6ZSI6IDE2LjI5MjEzNDgzMTQ2MDY3fX0K');</script>\n",
       "    "
      ],
      "text/plain": [
       "<IPython.core.display.HTML object>"
      ]
     },
     "metadata": {},
     "output_type": "display_data"
    },
    {
     "data": {
      "text/html": [
       "\n",
       "        <div id=\"32YRZ65wu2mmnY8679qDf6\"></div>\n",
       "        <script>netpixi.call('32YRZ65wu2mmnY8679qDf6', 'bTqPCokXXTQVrTrjt93BTM', 'changeGraph', 'eyJpZCI6IDEwLCAidHlwZSI6ICJ2ZXJ0ZXgiLCAicHJvcHMiOiB7InNpemUiOiAxNC4xNTczMDMzNzA3ODY1MTd9fQo=');</script>\n",
       "    "
      ],
      "text/plain": [
       "<IPython.core.display.HTML object>"
      ]
     },
     "metadata": {},
     "output_type": "display_data"
    },
    {
     "data": {
      "text/html": [
       "\n",
       "        <div id=\"99YjYL4vyqiY4sYURun5Sr\"></div>\n",
       "        <script>netpixi.call('99YjYL4vyqiY4sYURun5Sr', 'bTqPCokXXTQVrTrjt93BTM', 'changeGraph', 'eyJpZCI6IDExLCAidHlwZSI6ICJ2ZXJ0ZXgiLCAicHJvcHMiOiB7InNpemUiOiAxNy40MTU3MzAzMzcwNzg2NTN9fQo=');</script>\n",
       "    "
      ],
      "text/plain": [
       "<IPython.core.display.HTML object>"
      ]
     },
     "metadata": {},
     "output_type": "display_data"
    },
    {
     "data": {
      "text/html": [
       "\n",
       "        <div id=\"L9yyJFNQwQoaPDwCKQUvDG\"></div>\n",
       "        <script>netpixi.call('L9yyJFNQwQoaPDwCKQUvDG', 'bTqPCokXXTQVrTrjt93BTM', 'changeGraph', 'eyJpZCI6IDEyLCAidHlwZSI6ICJ2ZXJ0ZXgiLCAicHJvcHMiOiB7InNpemUiOiA0Ny4zOTEzMDQzNDc4MjYwODZ9fQo=');</script>\n",
       "    "
      ],
      "text/plain": [
       "<IPython.core.display.HTML object>"
      ]
     },
     "metadata": {},
     "output_type": "display_data"
    },
    {
     "data": {
      "text/html": [
       "\n",
       "        <div id=\"2TXjQ5LyyCgySugRevXrfJ\"></div>\n",
       "        <script>netpixi.call('2TXjQ5LyyCgySugRevXrfJ', 'bTqPCokXXTQVrTrjt93BTM', 'changeGraph', 'eyJpZCI6IDEzLCAidHlwZSI6ICJ2ZXJ0ZXgiLCAicHJvcHMiOiB7InNpemUiOiAxMS4wMTEyMzU5NTUwNTYxOH19Cg==');</script>\n",
       "    "
      ],
      "text/plain": [
       "<IPython.core.display.HTML object>"
      ]
     },
     "metadata": {},
     "output_type": "display_data"
    },
    {
     "data": {
      "text/html": [
       "\n",
       "        <div id=\"LmBiQdmm3rBgmWeAq66htK\"></div>\n",
       "        <script>netpixi.call('LmBiQdmm3rBgmWeAq66htK', 'bTqPCokXXTQVrTrjt93BTM', 'changeGraph', 'eyJpZCI6IDE0LCAidHlwZSI6ICJ2ZXJ0ZXgiLCAicHJvcHMiOiB7InNpemUiOiA0Mi4xNzM5MTMwNDM0NzgyNjV9fQo=');</script>\n",
       "    "
      ],
      "text/plain": [
       "<IPython.core.display.HTML object>"
      ]
     },
     "metadata": {},
     "output_type": "display_data"
    },
    {
     "data": {
      "text/html": [
       "\n",
       "        <div id=\"VSERbpNEwdD93cBfGkYEkN\"></div>\n",
       "        <script>netpixi.call('VSERbpNEwdD93cBfGkYEkN', 'bTqPCokXXTQVrTrjt93BTM', 'changeGraph', 'eyJpZCI6IDE1LCAidHlwZSI6ICJ2ZXJ0ZXgiLCAicHJvcHMiOiB7InNpemUiOiAxOS4zMjU4NDI2OTY2MjkyMTN9fQo=');</script>\n",
       "    "
      ],
      "text/plain": [
       "<IPython.core.display.HTML object>"
      ]
     },
     "metadata": {},
     "output_type": "display_data"
    },
    {
     "data": {
      "text/html": [
       "\n",
       "        <div id=\"7awQLtXUnTpRSXigWkkfm4\"></div>\n",
       "        <script>netpixi.call('7awQLtXUnTpRSXigWkkfm4', 'bTqPCokXXTQVrTrjt93BTM', 'changeGraph', 'eyJpZCI6IDE2LCAidHlwZSI6ICJ2ZXJ0ZXgiLCAicHJvcHMiOiB7InNpemUiOiAxNy44NjUxNjg1MzkzMjU4NDN9fQo=');</script>\n",
       "    "
      ],
      "text/plain": [
       "<IPython.core.display.HTML object>"
      ]
     },
     "metadata": {},
     "output_type": "display_data"
    },
    {
     "data": {
      "text/html": [
       "\n",
       "        <div id=\"QHQKg4dS7cESm5XTegiDZh\"></div>\n",
       "        <script>netpixi.call('QHQKg4dS7cESm5XTegiDZh', 'bTqPCokXXTQVrTrjt93BTM', 'changeGraph', 'eyJpZCI6IDE3LCAidHlwZSI6ICJ2ZXJ0ZXgiLCAicHJvcHMiOiB7InNpemUiOiA0MS43MzkxMzA0MzQ3ODI2MX19Cg==');</script>\n",
       "    "
      ],
      "text/plain": [
       "<IPython.core.display.HTML object>"
      ]
     },
     "metadata": {},
     "output_type": "display_data"
    },
    {
     "data": {
      "text/html": [
       "\n",
       "        <div id=\"QFp4F2jQTMstE3yHsQBZjz\"></div>\n",
       "        <script>netpixi.call('QFp4F2jQTMstE3yHsQBZjz', 'bTqPCokXXTQVrTrjt93BTM', 'changeGraph', 'eyJpZCI6IDE4LCAidHlwZSI6ICJ2ZXJ0ZXgiLCAicHJvcHMiOiB7InNpemUiOiAxNi40MDQ0OTQzODIwMjI0N319Cg==');</script>\n",
       "    "
      ],
      "text/plain": [
       "<IPython.core.display.HTML object>"
      ]
     },
     "metadata": {},
     "output_type": "display_data"
    },
    {
     "data": {
      "text/html": [
       "\n",
       "        <div id=\"8KAZiCWSQAfvxCsXPiZWHA\"></div>\n",
       "        <script>netpixi.call('8KAZiCWSQAfvxCsXPiZWHA', 'bTqPCokXXTQVrTrjt93BTM', 'changeGraph', 'eyJpZCI6IDE5LCAidHlwZSI6ICJ2ZXJ0ZXgiLCAicHJvcHMiOiB7InNpemUiOiAxOS40MzgyMDIyNDcxOTEwMX19Cg==');</script>\n",
       "    "
      ],
      "text/plain": [
       "<IPython.core.display.HTML object>"
      ]
     },
     "metadata": {},
     "output_type": "display_data"
    },
    {
     "data": {
      "text/html": [
       "\n",
       "        <div id=\"HThmH9A3RACJNmXvyAryHV\"></div>\n",
       "        <script>netpixi.call('HThmH9A3RACJNmXvyAryHV', 'bTqPCokXXTQVrTrjt93BTM', 'changeGraph', 'eyJpZCI6IDIwLCAidHlwZSI6ICJ2ZXJ0ZXgiLCAicHJvcHMiOiB7InNpemUiOiA0NC4zNDc4MjYwODY5NTY1Mn19Cg==');</script>\n",
       "    "
      ],
      "text/plain": [
       "<IPython.core.display.HTML object>"
      ]
     },
     "metadata": {},
     "output_type": "display_data"
    },
    {
     "data": {
      "text/html": [
       "\n",
       "        <div id=\"ey52bdx3u9NLTNzKrkUSjk\"></div>\n",
       "        <script>netpixi.call('ey52bdx3u9NLTNzKrkUSjk', 'bTqPCokXXTQVrTrjt93BTM', 'changeGraph', 'eyJpZCI6IDIxLCAidHlwZSI6ICJ2ZXJ0ZXgiLCAicHJvcHMiOiB7InNpemUiOiA0My4wNDM0NzgyNjA4Njk1Nn19Cg==');</script>\n",
       "    "
      ],
      "text/plain": [
       "<IPython.core.display.HTML object>"
      ]
     },
     "metadata": {},
     "output_type": "display_data"
    },
    {
     "data": {
      "text/html": [
       "\n",
       "        <div id=\"W3WkeedobjS9spyzN6VWiD\"></div>\n",
       "        <script>netpixi.call('W3WkeedobjS9spyzN6VWiD', 'bTqPCokXXTQVrTrjt93BTM', 'changeGraph', 'eyJpZCI6IDIyLCAidHlwZSI6ICJ2ZXJ0ZXgiLCAicHJvcHMiOiB7InNpemUiOiA0Mi42MDg2OTU2NTIxNzM5MTR9fQo=');</script>\n",
       "    "
      ],
      "text/plain": [
       "<IPython.core.display.HTML object>"
      ]
     },
     "metadata": {},
     "output_type": "display_data"
    },
    {
     "data": {
      "text/html": [
       "\n",
       "        <div id=\"dKjRUbcPEmJgUJeBrhcPP4\"></div>\n",
       "        <script>netpixi.call('dKjRUbcPEmJgUJeBrhcPP4', 'bTqPCokXXTQVrTrjt93BTM', 'changeGraph', 'eyJpZCI6IDIzLCAidHlwZSI6ICJ2ZXJ0ZXgiLCAicHJvcHMiOiB7InNpemUiOiA0Ny44MjYwODY5NTY1MjE3MzV9fQo=');</script>\n",
       "    "
      ],
      "text/plain": [
       "<IPython.core.display.HTML object>"
      ]
     },
     "metadata": {},
     "output_type": "display_data"
    },
    {
     "data": {
      "text/html": [
       "\n",
       "        <div id=\"Mh9eeR5YY6XRnzuMcFxXmD\"></div>\n",
       "        <script>netpixi.call('Mh9eeR5YY6XRnzuMcFxXmD', 'bTqPCokXXTQVrTrjt93BTM', 'changeGraph', 'eyJpZCI6IDI0LCAidHlwZSI6ICJ2ZXJ0ZXgiLCAicHJvcHMiOiB7InNpemUiOiA0MC40MzQ3ODI2MDg2OTU2NTZ9fQo=');</script>\n",
       "    "
      ],
      "text/plain": [
       "<IPython.core.display.HTML object>"
      ]
     },
     "metadata": {},
     "output_type": "display_data"
    },
    {
     "data": {
      "text/html": [
       "\n",
       "        <div id=\"f7dD8iXJDJodwuBQePrQLB\"></div>\n",
       "        <script>netpixi.call('f7dD8iXJDJodwuBQePrQLB', 'bTqPCokXXTQVrTrjt93BTM', 'changeGraph', 'eyJpZCI6IDI1LCAidHlwZSI6ICJ2ZXJ0ZXgiLCAicHJvcHMiOiB7InNpemUiOiAxOS44ODc2NDA0NDk0MzgyfX0K');</script>\n",
       "    "
      ],
      "text/plain": [
       "<IPython.core.display.HTML object>"
      ]
     },
     "metadata": {},
     "output_type": "display_data"
    },
    {
     "data": {
      "text/html": [
       "\n",
       "        <div id=\"iy5q64kDRmayKF66tBNxSC\"></div>\n",
       "        <script>netpixi.call('iy5q64kDRmayKF66tBNxSC', 'bTqPCokXXTQVrTrjt93BTM', 'changeGraph', 'eyJpZCI6IDI2LCAidHlwZSI6ICJ2ZXJ0ZXgiLCAicHJvcHMiOiB7InNpemUiOiAxNy4xOTEwMTEyMzU5NTUwNTZ9fQo=');</script>\n",
       "    "
      ],
      "text/plain": [
       "<IPython.core.display.HTML object>"
      ]
     },
     "metadata": {},
     "output_type": "display_data"
    },
    {
     "data": {
      "text/html": [
       "\n",
       "        <div id=\"cLMuqrkkTgdKZiXhzYNwJh\"></div>\n",
       "        <script>netpixi.call('cLMuqrkkTgdKZiXhzYNwJh', 'bTqPCokXXTQVrTrjt93BTM', 'changeGraph', 'eyJpZCI6IDI3LCAidHlwZSI6ICJ2ZXJ0ZXgiLCAicHJvcHMiOiB7InNpemUiOiAxOC45ODg3NjQwNDQ5NDM4Mn19Cg==');</script>\n",
       "    "
      ],
      "text/plain": [
       "<IPython.core.display.HTML object>"
      ]
     },
     "metadata": {},
     "output_type": "display_data"
    },
    {
     "data": {
      "text/html": [
       "\n",
       "        <div id=\"jCQHnydaA3XgUmZeiZNzXs\"></div>\n",
       "        <script>netpixi.call('jCQHnydaA3XgUmZeiZNzXs', 'bTqPCokXXTQVrTrjt93BTM', 'changeGraph', 'eyJpZCI6IDI4LCAidHlwZSI6ICJ2ZXJ0ZXgiLCAicHJvcHMiOiB7InNpemUiOiA0NS4yMTczOTEzMDQzNDc4M319Cg==');</script>\n",
       "    "
      ],
      "text/plain": [
       "<IPython.core.display.HTML object>"
      ]
     },
     "metadata": {},
     "output_type": "display_data"
    },
    {
     "data": {
      "text/html": [
       "\n",
       "        <div id=\"VZzWjEZfVtnv3ezVnwQNJm\"></div>\n",
       "        <script>netpixi.call('VZzWjEZfVtnv3ezVnwQNJm', 'bTqPCokXXTQVrTrjt93BTM', 'changeGraph', 'eyJpZCI6IDI5LCAidHlwZSI6ICJ2ZXJ0ZXgiLCAicHJvcHMiOiB7InNpemUiOiA0Ni41MjE3MzkxMzA0MzQ3OH19Cg==');</script>\n",
       "    "
      ],
      "text/plain": [
       "<IPython.core.display.HTML object>"
      ]
     },
     "metadata": {},
     "output_type": "display_data"
    },
    {
     "data": {
      "text/html": [
       "\n",
       "        <div id=\"4hNzzDo29zD6oyoJdJHfzb\"></div>\n",
       "        <script>netpixi.call('4hNzzDo29zD6oyoJdJHfzb', 'bTqPCokXXTQVrTrjt93BTM', 'changeGraph', 'eyJpZCI6IDMwLCAidHlwZSI6ICJ2ZXJ0ZXgiLCAicHJvcHMiOiB7InNpemUiOiAxOS42NjI5MjEzNDgzMTQ2MDV9fQo=');</script>\n",
       "    "
      ],
      "text/plain": [
       "<IPython.core.display.HTML object>"
      ]
     },
     "metadata": {},
     "output_type": "display_data"
    },
    {
     "data": {
      "text/html": [
       "\n",
       "        <div id=\"GEr4PBQf97hBDfksKfEdHu\"></div>\n",
       "        <script>netpixi.call('GEr4PBQf97hBDfksKfEdHu', 'bTqPCokXXTQVrTrjt93BTM', 'changeGraph', 'eyJpZCI6IDMxLCAidHlwZSI6ICJ2ZXJ0ZXgiLCAicHJvcHMiOiB7InNpemUiOiAxNy4wNzg2NTE2ODUzOTMyNTh9fQo=');</script>\n",
       "    "
      ],
      "text/plain": [
       "<IPython.core.display.HTML object>"
      ]
     },
     "metadata": {},
     "output_type": "display_data"
    },
    {
     "data": {
      "text/html": [
       "\n",
       "        <div id=\"eBbRw6TEZhE2qVvmZwkVZb\"></div>\n",
       "        <script>netpixi.call('eBbRw6TEZhE2qVvmZwkVZb', 'bTqPCokXXTQVrTrjt93BTM', 'changeGraph', 'eyJpZCI6IDMyLCAidHlwZSI6ICJ2ZXJ0ZXgiLCAicHJvcHMiOiB7InNpemUiOiAxNy4zMDMzNzA3ODY1MTY4NTR9fQo=');</script>\n",
       "    "
      ],
      "text/plain": [
       "<IPython.core.display.HTML object>"
      ]
     },
     "metadata": {},
     "output_type": "display_data"
    },
    {
     "data": {
      "text/html": [
       "\n",
       "        <div id=\"nM25nTY7zif4iB68jrGQSQ\"></div>\n",
       "        <script>netpixi.call('nM25nTY7zif4iB68jrGQSQ', 'bTqPCokXXTQVrTrjt93BTM', 'changeGraph', 'eyJpZCI6IDMzLCAidHlwZSI6ICJ2ZXJ0ZXgiLCAicHJvcHMiOiB7InNpemUiOiAxNi4xNzk3NzUyODA4OTg4Nzd9fQo=');</script>\n",
       "    "
      ],
      "text/plain": [
       "<IPython.core.display.HTML object>"
      ]
     },
     "metadata": {},
     "output_type": "display_data"
    },
    {
     "data": {
      "text/html": [
       "\n",
       "        <div id=\"DeAC7TgehiiqWamLTk34MJ\"></div>\n",
       "        <script>netpixi.call('DeAC7TgehiiqWamLTk34MJ', 'bTqPCokXXTQVrTrjt93BTM', 'changeGraph', 'eyJpZCI6IDM0LCAidHlwZSI6ICJ2ZXJ0ZXgiLCAicHJvcHMiOiB7InNpemUiOiAxMS41NzMwMzM3MDc4NjUxNjh9fQo=');</script>\n",
       "    "
      ],
      "text/plain": [
       "<IPython.core.display.HTML object>"
      ]
     },
     "metadata": {},
     "output_type": "display_data"
    },
    {
     "data": {
      "text/html": [
       "\n",
       "        <div id=\"gdod6poSwthzbGzovirGyh\"></div>\n",
       "        <script>netpixi.call('gdod6poSwthzbGzovirGyh', 'bTqPCokXXTQVrTrjt93BTM', 'changeGraph', 'eyJpZCI6IDM1LCAidHlwZSI6ICJ2ZXJ0ZXgiLCAicHJvcHMiOiB7InNpemUiOiAxNS41MDU2MTc5Nzc1MjgwOX19Cg==');</script>\n",
       "    "
      ],
      "text/plain": [
       "<IPython.core.display.HTML object>"
      ]
     },
     "metadata": {},
     "output_type": "display_data"
    },
    {
     "data": {
      "text/html": [
       "\n",
       "        <div id=\"KTJNdq4JSu9qLHSZoAyELu\"></div>\n",
       "        <script>netpixi.call('KTJNdq4JSu9qLHSZoAyELu', 'bTqPCokXXTQVrTrjt93BTM', 'changeGraph', 'eyJpZCI6IDM2LCAidHlwZSI6ICJ2ZXJ0ZXgiLCAicHJvcHMiOiB7InNpemUiOiA0Ni45NTY1MjE3MzkxMzA0NH19Cg==');</script>\n",
       "    "
      ],
      "text/plain": [
       "<IPython.core.display.HTML object>"
      ]
     },
     "metadata": {},
     "output_type": "display_data"
    },
    {
     "data": {
      "text/html": [
       "\n",
       "        <div id=\"QQp8KZDpJpeBAJYk9tmPar\"></div>\n",
       "        <script>netpixi.call('QQp8KZDpJpeBAJYk9tmPar', 'bTqPCokXXTQVrTrjt93BTM', 'changeGraph', 'eyJpZCI6IDM3LCAidHlwZSI6ICJ2ZXJ0ZXgiLCAicHJvcHMiOiB7InNpemUiOiAxOS41NTA1NjE3OTc3NTI4MX19Cg==');</script>\n",
       "    "
      ],
      "text/plain": [
       "<IPython.core.display.HTML object>"
      ]
     },
     "metadata": {},
     "output_type": "display_data"
    },
    {
     "data": {
      "text/html": [
       "\n",
       "        <div id=\"Y6L229ZbKmwDwJXxVw2XUU\"></div>\n",
       "        <script>netpixi.call('Y6L229ZbKmwDwJXxVw2XUU', 'bTqPCokXXTQVrTrjt93BTM', 'changeGraph', 'eyJpZCI6IDM4LCAidHlwZSI6ICJ2ZXJ0ZXgiLCAicHJvcHMiOiB7InNpemUiOiAxMS45MTAxMTIzNTk1NTA1NjJ9fQo=');</script>\n",
       "    "
      ],
      "text/plain": [
       "<IPython.core.display.HTML object>"
      ]
     },
     "metadata": {},
     "output_type": "display_data"
    },
    {
     "data": {
      "text/html": [
       "\n",
       "        <div id=\"NMqoc9Z58Zn2D2j5H6rKaX\"></div>\n",
       "        <script>netpixi.call('NMqoc9Z58Zn2D2j5H6rKaX', 'bTqPCokXXTQVrTrjt93BTM', 'changeGraph', 'eyJpZCI6IDM5LCAidHlwZSI6ICJ2ZXJ0ZXgiLCAicHJvcHMiOiB7InNpemUiOiAxNi41MTY4NTM5MzI1ODQyN319Cg==');</script>\n",
       "    "
      ],
      "text/plain": [
       "<IPython.core.display.HTML object>"
      ]
     },
     "metadata": {},
     "output_type": "display_data"
    },
    {
     "data": {
      "text/html": [
       "\n",
       "        <div id=\"KJivHaYe5GfK7XexwUEiJz\"></div>\n",
       "        <script>netpixi.call('KJivHaYe5GfK7XexwUEiJz', 'bTqPCokXXTQVrTrjt93BTM', 'changeGraph', 'eyJpZCI6IDQwLCAidHlwZSI6ICJ2ZXJ0ZXgiLCAicHJvcHMiOiB7InNpemUiOiA0OS41NjUyMTczOTEzMDQzNDR9fQo=');</script>\n",
       "    "
      ],
      "text/plain": [
       "<IPython.core.display.HTML object>"
      ]
     },
     "metadata": {},
     "output_type": "display_data"
    },
    {
     "data": {
      "text/html": [
       "\n",
       "        <div id=\"Gk92SEA9tCJE9ainv6FzL2\"></div>\n",
       "        <script>netpixi.call('Gk92SEA9tCJE9ainv6FzL2', 'bTqPCokXXTQVrTrjt93BTM', 'changeGraph', 'eyJpZCI6IDQxLCAidHlwZSI6ICJ2ZXJ0ZXgiLCAicHJvcHMiOiB7InNpemUiOiAxMS4yMzU5NTUwNTYxNzk3NzZ9fQo=');</script>\n",
       "    "
      ],
      "text/plain": [
       "<IPython.core.display.HTML object>"
      ]
     },
     "metadata": {},
     "output_type": "display_data"
    },
    {
     "data": {
      "text/html": [
       "\n",
       "        <div id=\"cNj6WALHR25tks9Aq6tXgB\"></div>\n",
       "        <script>netpixi.call('cNj6WALHR25tks9Aq6tXgB', 'bTqPCokXXTQVrTrjt93BTM', 'changeGraph', 'eyJpZCI6IDQyLCAidHlwZSI6ICJ2ZXJ0ZXgiLCAicHJvcHMiOiB7InNpemUiOiAxOC40MjY5NjYyOTIxMzQ4M319Cg==');</script>\n",
       "    "
      ],
      "text/plain": [
       "<IPython.core.display.HTML object>"
      ]
     },
     "metadata": {},
     "output_type": "display_data"
    },
    {
     "data": {
      "text/html": [
       "\n",
       "        <div id=\"jZQbWjvH5TKrKHQaNkcm7q\"></div>\n",
       "        <script>netpixi.call('jZQbWjvH5TKrKHQaNkcm7q', 'bTqPCokXXTQVrTrjt93BTM', 'changeGraph', 'eyJpZCI6IDQzLCAidHlwZSI6ICJ2ZXJ0ZXgiLCAicHJvcHMiOiB7InNpemUiOiAxMi4zNTk1NTA1NjE3OTc3NTR9fQo=');</script>\n",
       "    "
      ],
      "text/plain": [
       "<IPython.core.display.HTML object>"
      ]
     },
     "metadata": {},
     "output_type": "display_data"
    },
    {
     "data": {
      "text/html": [
       "\n",
       "        <div id=\"Dw5gwaDUPUHnnRL4HRBLUd\"></div>\n",
       "        <script>netpixi.call('Dw5gwaDUPUHnnRL4HRBLUd', 'bTqPCokXXTQVrTrjt93BTM', 'changeGraph', 'eyJpZCI6IDQ0LCAidHlwZSI6ICJ2ZXJ0ZXgiLCAicHJvcHMiOiB7InNpemUiOiAxNS43MzAzMzcwNzg2NTE2ODV9fQo=');</script>\n",
       "    "
      ],
      "text/plain": [
       "<IPython.core.display.HTML object>"
      ]
     },
     "metadata": {},
     "output_type": "display_data"
    },
    {
     "data": {
      "text/html": [
       "\n",
       "        <div id=\"92BhQzzXBdGzvLs5tj6W84\"></div>\n",
       "        <script>netpixi.call('92BhQzzXBdGzvLs5tj6W84', 'bTqPCokXXTQVrTrjt93BTM', 'changeGraph', 'eyJpZCI6IDQ1LCAidHlwZSI6ICJ2ZXJ0ZXgiLCAicHJvcHMiOiB7InNpemUiOiAxNi43NDE1NzMwMzM3MDc4NjZ9fQo=');</script>\n",
       "    "
      ],
      "text/plain": [
       "<IPython.core.display.HTML object>"
      ]
     },
     "metadata": {},
     "output_type": "display_data"
    },
    {
     "data": {
      "text/html": [
       "\n",
       "        <div id=\"Ut4EPNL2UZgLJrGL57Vmo4\"></div>\n",
       "        <script>netpixi.call('Ut4EPNL2UZgLJrGL57Vmo4', 'bTqPCokXXTQVrTrjt93BTM', 'changeGraph', 'eyJpZCI6IDQ2LCAidHlwZSI6ICJ2ZXJ0ZXgiLCAicHJvcHMiOiB7InNpemUiOiAxNC45NDM4MjAyMjQ3MTkxfX0K');</script>\n",
       "    "
      ],
      "text/plain": [
       "<IPython.core.display.HTML object>"
      ]
     },
     "metadata": {},
     "output_type": "display_data"
    },
    {
     "data": {
      "text/html": [
       "\n",
       "        <div id=\"Kmo6HvEEXCKwi5HqvdqhpX\"></div>\n",
       "        <script>netpixi.call('Kmo6HvEEXCKwi5HqvdqhpX', 'bTqPCokXXTQVrTrjt93BTM', 'changeGraph', 'eyJpZCI6IDQ3LCAidHlwZSI6ICJ2ZXJ0ZXgiLCAicHJvcHMiOiB7InNpemUiOiAxNC4yNjk2NjI5MjEzNDgzMTN9fQo=');</script>\n",
       "    "
      ],
      "text/plain": [
       "<IPython.core.display.HTML object>"
      ]
     },
     "metadata": {},
     "output_type": "display_data"
    },
    {
     "data": {
      "text/html": [
       "\n",
       "        <div id=\"bVaycRcqBcAVHxHaswWb9c\"></div>\n",
       "        <script>netpixi.call('bVaycRcqBcAVHxHaswWb9c', 'bTqPCokXXTQVrTrjt93BTM', 'changeGraph', 'eyJpZCI6IDQ4LCAidHlwZSI6ICJ2ZXJ0ZXgiLCAicHJvcHMiOiB7InNpemUiOiAxOC43NjQwNDQ5NDM4MjAyMjR9fQo=');</script>\n",
       "    "
      ],
      "text/plain": [
       "<IPython.core.display.HTML object>"
      ]
     },
     "metadata": {},
     "output_type": "display_data"
    },
    {
     "data": {
      "text/html": [
       "\n",
       "        <div id=\"AmAYkqum5T88v8Nm2Nzc7E\"></div>\n",
       "        <script>netpixi.call('AmAYkqum5T88v8Nm2Nzc7E', 'bTqPCokXXTQVrTrjt93BTM', 'changeGraph', 'eyJpZCI6IDQ5LCAidHlwZSI6ICJ2ZXJ0ZXgiLCAicHJvcHMiOiB7InNpemUiOiAxNS4xNjg1MzkzMjU4NDI2OTZ9fQo=');</script>\n",
       "    "
      ],
      "text/plain": [
       "<IPython.core.display.HTML object>"
      ]
     },
     "metadata": {},
     "output_type": "display_data"
    },
    {
     "data": {
      "text/html": [
       "\n",
       "        <div id=\"K5T7Ly68AjafKMqfsh6Kfj\"></div>\n",
       "        <script>netpixi.call('K5T7Ly68AjafKMqfsh6Kfj', 'bTqPCokXXTQVrTrjt93BTM', 'changeGraph', 'eyJpZCI6IDUwLCAidHlwZSI6ICJ2ZXJ0ZXgiLCAicHJvcHMiOiB7InNpemUiOiAxMS4xMjM1OTU1MDU2MTc5Nzh9fQo=');</script>\n",
       "    "
      ],
      "text/plain": [
       "<IPython.core.display.HTML object>"
      ]
     },
     "metadata": {},
     "output_type": "display_data"
    },
    {
     "data": {
      "text/html": [
       "\n",
       "        <div id=\"A3dFvNS2UhAioDRMxxZUGd\"></div>\n",
       "        <script>netpixi.call('A3dFvNS2UhAioDRMxxZUGd', 'bTqPCokXXTQVrTrjt93BTM', 'changeGraph', 'eyJpZCI6IDUxLCAidHlwZSI6ICJ2ZXJ0ZXgiLCAicHJvcHMiOiB7InNpemUiOiAxNy43NTI4MDg5ODg3NjQwNDV9fQo=');</script>\n",
       "    "
      ],
      "text/plain": [
       "<IPython.core.display.HTML object>"
      ]
     },
     "metadata": {},
     "output_type": "display_data"
    },
    {
     "data": {
      "text/html": [
       "\n",
       "        <div id=\"Wn8d3UE3aif6oupACqr4d2\"></div>\n",
       "        <script>netpixi.call('Wn8d3UE3aif6oupACqr4d2', 'bTqPCokXXTQVrTrjt93BTM', 'changeGraph', 'eyJpZCI6IDUyLCAidHlwZSI6ICJ2ZXJ0ZXgiLCAicHJvcHMiOiB7InNpemUiOiAxOC4yMDIyNDcxOTEwMTEyMzV9fQo=');</script>\n",
       "    "
      ],
      "text/plain": [
       "<IPython.core.display.HTML object>"
      ]
     },
     "metadata": {},
     "output_type": "display_data"
    },
    {
     "data": {
      "text/html": [
       "\n",
       "        <div id=\"bZLWoTXnBUdJXTaSS7dxRk\"></div>\n",
       "        <script>netpixi.call('bZLWoTXnBUdJXTaSS7dxRk', 'bTqPCokXXTQVrTrjt93BTM', 'changeGraph', 'eyJpZCI6IDUzLCAidHlwZSI6ICJ2ZXJ0ZXgiLCAicHJvcHMiOiB7InNpemUiOiAxNy45Nzc1MjgwODk4ODc2NH19Cg==');</script>\n",
       "    "
      ],
      "text/plain": [
       "<IPython.core.display.HTML object>"
      ]
     },
     "metadata": {},
     "output_type": "display_data"
    },
    {
     "data": {
      "text/html": [
       "\n",
       "        <div id=\"cg43PWtm7oCsjbE6pdzCW3\"></div>\n",
       "        <script>netpixi.call('cg43PWtm7oCsjbE6pdzCW3', 'bTqPCokXXTQVrTrjt93BTM', 'changeGraph', 'eyJpZCI6IDU0LCAidHlwZSI6ICJ2ZXJ0ZXgiLCAicHJvcHMiOiB7InNpemUiOiA0NC43ODI2MDg2OTU2NTIxN319Cg==');</script>\n",
       "    "
      ],
      "text/plain": [
       "<IPython.core.display.HTML object>"
      ]
     },
     "metadata": {},
     "output_type": "display_data"
    },
    {
     "data": {
      "text/html": [
       "\n",
       "        <div id=\"bRYVez7WCazKkvSLyUmvet\"></div>\n",
       "        <script>netpixi.call('bRYVez7WCazKkvSLyUmvet', 'bTqPCokXXTQVrTrjt93BTM', 'changeGraph', 'eyJpZCI6IDU1LCAidHlwZSI6ICJ2ZXJ0ZXgiLCAicHJvcHMiOiB7InNpemUiOiAxOC44NzY0MDQ0OTQzODIwMjJ9fQo=');</script>\n",
       "    "
      ],
      "text/plain": [
       "<IPython.core.display.HTML object>"
      ]
     },
     "metadata": {},
     "output_type": "display_data"
    },
    {
     "data": {
      "text/html": [
       "\n",
       "        <div id=\"DLMa8CxddXVdnHjhdZLfza\"></div>\n",
       "        <script>netpixi.call('DLMa8CxddXVdnHjhdZLfza', 'bTqPCokXXTQVrTrjt93BTM', 'changeGraph', 'eyJpZCI6IDU2LCAidHlwZSI6ICJ2ZXJ0ZXgiLCAicHJvcHMiOiB7InNpemUiOiAxOS4xMDExMjM1OTU1MDU2Mn19Cg==');</script>\n",
       "    "
      ],
      "text/plain": [
       "<IPython.core.display.HTML object>"
      ]
     },
     "metadata": {},
     "output_type": "display_data"
    },
    {
     "data": {
      "text/html": [
       "\n",
       "        <div id=\"DXFDqZE6v57Z25YwLfsQfM\"></div>\n",
       "        <script>netpixi.call('DXFDqZE6v57Z25YwLfsQfM', 'bTqPCokXXTQVrTrjt93BTM', 'changeGraph', 'eyJpZCI6IDU3LCAidHlwZSI6ICJ2ZXJ0ZXgiLCAicHJvcHMiOiB7InNpemUiOiAxMy45MzI1ODQyNjk2NjI5MjJ9fQo=');</script>\n",
       "    "
      ],
      "text/plain": [
       "<IPython.core.display.HTML object>"
      ]
     },
     "metadata": {},
     "output_type": "display_data"
    },
    {
     "data": {
      "text/html": [
       "\n",
       "        <div id=\"m5DsrsBfzRqVmBiUB5PZbf\"></div>\n",
       "        <script>netpixi.call('m5DsrsBfzRqVmBiUB5PZbf', 'bTqPCokXXTQVrTrjt93BTM', 'changeGraph', 'eyJpZCI6IDU4LCAidHlwZSI6ICJ2ZXJ0ZXgiLCAicHJvcHMiOiB7InNpemUiOiAxMi4wMjI0NzE5MTAxMTIzNn19Cg==');</script>\n",
       "    "
      ],
      "text/plain": [
       "<IPython.core.display.HTML object>"
      ]
     },
     "metadata": {},
     "output_type": "display_data"
    },
    {
     "data": {
      "text/html": [
       "\n",
       "        <div id=\"jqExvJVrfJmCvqMqHNAGZe\"></div>\n",
       "        <script>netpixi.call('jqExvJVrfJmCvqMqHNAGZe', 'bTqPCokXXTQVrTrjt93BTM', 'changeGraph', 'eyJpZCI6IDU5LCAidHlwZSI6ICJ2ZXJ0ZXgiLCAicHJvcHMiOiB7InNpemUiOiA0NS42NTIxNzM5MTMwNDM0OH19Cg==');</script>\n",
       "    "
      ],
      "text/plain": [
       "<IPython.core.display.HTML object>"
      ]
     },
     "metadata": {},
     "output_type": "display_data"
    },
    {
     "data": {
      "text/html": [
       "\n",
       "        <div id=\"9e2NnfM2PkzUQ8npeQvWfP\"></div>\n",
       "        <script>netpixi.call('9e2NnfM2PkzUQ8npeQvWfP', 'bTqPCokXXTQVrTrjt93BTM', 'changeGraph', 'eyJpZCI6IDYwLCAidHlwZSI6ICJ2ZXJ0ZXgiLCAicHJvcHMiOiB7InNpemUiOiAxMi41ODQyNjk2NjI5MjEzNDd9fQo=');</script>\n",
       "    "
      ],
      "text/plain": [
       "<IPython.core.display.HTML object>"
      ]
     },
     "metadata": {},
     "output_type": "display_data"
    },
    {
     "data": {
      "text/html": [
       "\n",
       "        <div id=\"Gq5AbdzHDz2LeTWQ7Pu5DH\"></div>\n",
       "        <script>netpixi.call('Gq5AbdzHDz2LeTWQ7Pu5DH', 'bTqPCokXXTQVrTrjt93BTM', 'changeGraph', 'eyJpZCI6IDYxLCAidHlwZSI6ICJ2ZXJ0ZXgiLCAicHJvcHMiOiB7InNpemUiOiA0Ni4wODY5NTY1MjE3MzkxM319Cg==');</script>\n",
       "    "
      ],
      "text/plain": [
       "<IPython.core.display.HTML object>"
      ]
     },
     "metadata": {},
     "output_type": "display_data"
    },
    {
     "data": {
      "text/html": [
       "\n",
       "        <div id=\"K969EiR2V8BfqMbBH8mqN3\"></div>\n",
       "        <script>netpixi.call('K969EiR2V8BfqMbBH8mqN3', 'bTqPCokXXTQVrTrjt93BTM', 'changeGraph', 'eyJpZCI6IDYyLCAidHlwZSI6ICJ2ZXJ0ZXgiLCAicHJvcHMiOiB7InNpemUiOiAxMy4zNzA3ODY1MTY4NTM5MzN9fQo=');</script>\n",
       "    "
      ],
      "text/plain": [
       "<IPython.core.display.HTML object>"
      ]
     },
     "metadata": {},
     "output_type": "display_data"
    },
    {
     "data": {
      "text/html": [
       "\n",
       "        <div id=\"JnSq2ytCfBG5hRvkx9XNBD\"></div>\n",
       "        <script>netpixi.call('JnSq2ytCfBG5hRvkx9XNBD', 'bTqPCokXXTQVrTrjt93BTM', 'changeGraph', 'eyJpZCI6IDYzLCAidHlwZSI6ICJ2ZXJ0ZXgiLCAicHJvcHMiOiB7InNpemUiOiAxMy4xNDYwNjc0MTU3MzAzMzZ9fQo=');</script>\n",
       "    "
      ],
      "text/plain": [
       "<IPython.core.display.HTML object>"
      ]
     },
     "metadata": {},
     "output_type": "display_data"
    },
    {
     "data": {
      "text/html": [
       "\n",
       "        <div id=\"EpFksPd3koUSqFzKAUWpDf\"></div>\n",
       "        <script>netpixi.call('EpFksPd3koUSqFzKAUWpDf', 'bTqPCokXXTQVrTrjt93BTM', 'changeGraph', 'eyJpZCI6IDY0LCAidHlwZSI6ICJ2ZXJ0ZXgiLCAicHJvcHMiOiB7InNpemUiOiAxMi42OTY2MjkyMTM0ODMxNDZ9fQo=');</script>\n",
       "    "
      ],
      "text/plain": [
       "<IPython.core.display.HTML object>"
      ]
     },
     "metadata": {},
     "output_type": "display_data"
    },
    {
     "data": {
      "text/html": [
       "\n",
       "        <div id=\"XXH9HAwJrJQivPZ6AhC8ga\"></div>\n",
       "        <script>netpixi.call('XXH9HAwJrJQivPZ6AhC8ga', 'bTqPCokXXTQVrTrjt93BTM', 'changeGraph', 'eyJpZCI6IDY1LCAidHlwZSI6ICJ2ZXJ0ZXgiLCAicHJvcHMiOiB7InNpemUiOiAxMi44MDg5ODg3NjQwNDQ5NDR9fQo=');</script>\n",
       "    "
      ],
      "text/plain": [
       "<IPython.core.display.HTML object>"
      ]
     },
     "metadata": {},
     "output_type": "display_data"
    },
    {
     "data": {
      "text/html": [
       "\n",
       "        <div id=\"Jj49Ur73qiMVTURdrNAfSv\"></div>\n",
       "        <script>netpixi.call('Jj49Ur73qiMVTURdrNAfSv', 'bTqPCokXXTQVrTrjt93BTM', 'changeGraph', 'eyJpZCI6IDY2LCAidHlwZSI6ICJ2ZXJ0ZXgiLCAicHJvcHMiOiB7InNpemUiOiAxMC40NDk0MzgyMDIyNDcxOX19Cg==');</script>\n",
       "    "
      ],
      "text/plain": [
       "<IPython.core.display.HTML object>"
      ]
     },
     "metadata": {},
     "output_type": "display_data"
    },
    {
     "data": {
      "text/html": [
       "\n",
       "        <div id=\"oRSLMfWzi2RboSoG7DPxnG\"></div>\n",
       "        <script>netpixi.call('oRSLMfWzi2RboSoG7DPxnG', 'bTqPCokXXTQVrTrjt93BTM', 'changeGraph', 'eyJpZCI6IDY3LCAidHlwZSI6ICJ2ZXJ0ZXgiLCAicHJvcHMiOiB7InNpemUiOiAxNy42NDA0NDk0MzgyMDIyNDZ9fQo=');</script>\n",
       "    "
      ],
      "text/plain": [
       "<IPython.core.display.HTML object>"
      ]
     },
     "metadata": {},
     "output_type": "display_data"
    },
    {
     "data": {
      "text/html": [
       "\n",
       "        <div id=\"TcRaYu4R2DmEK7eYGkWuKE\"></div>\n",
       "        <script>netpixi.call('TcRaYu4R2DmEK7eYGkWuKE', 'bTqPCokXXTQVrTrjt93BTM', 'changeGraph', 'eyJpZCI6IDY4LCAidHlwZSI6ICJ2ZXJ0ZXgiLCAicHJvcHMiOiB7InNpemUiOiAxNS4zOTMyNTg0MjY5NjYyOTF9fQo=');</script>\n",
       "    "
      ],
      "text/plain": [
       "<IPython.core.display.HTML object>"
      ]
     },
     "metadata": {},
     "output_type": "display_data"
    },
    {
     "data": {
      "text/html": [
       "\n",
       "        <div id=\"GV7ouQCgBoDeGHnqkx9pDL\"></div>\n",
       "        <script>netpixi.call('GV7ouQCgBoDeGHnqkx9pDL', 'bTqPCokXXTQVrTrjt93BTM', 'changeGraph', 'eyJpZCI6IDY5LCAidHlwZSI6ICJ2ZXJ0ZXgiLCAicHJvcHMiOiB7InNpemUiOiAxMy44MjAyMjQ3MTkxMDExMjN9fQo=');</script>\n",
       "    "
      ],
      "text/plain": [
       "<IPython.core.display.HTML object>"
      ]
     },
     "metadata": {},
     "output_type": "display_data"
    },
    {
     "data": {
      "text/html": [
       "\n",
       "        <div id=\"8uwbNpSuUv2ANbQnR54aao\"></div>\n",
       "        <script>netpixi.call('8uwbNpSuUv2ANbQnR54aao', 'bTqPCokXXTQVrTrjt93BTM', 'changeGraph', 'eyJpZCI6IDcwLCAidHlwZSI6ICJ2ZXJ0ZXgiLCAicHJvcHMiOiB7InNpemUiOiA0OC4yNjA4Njk1NjUyMTczOX19Cg==');</script>\n",
       "    "
      ],
      "text/plain": [
       "<IPython.core.display.HTML object>"
      ]
     },
     "metadata": {},
     "output_type": "display_data"
    },
    {
     "data": {
      "text/html": [
       "\n",
       "        <div id=\"AXUbQBTxZ6XJqrTkGJ5Jkz\"></div>\n",
       "        <script>netpixi.call('AXUbQBTxZ6XJqrTkGJ5Jkz', 'bTqPCokXXTQVrTrjt93BTM', 'changeGraph', 'eyJpZCI6IDcxLCAidHlwZSI6ICJ2ZXJ0ZXgiLCAicHJvcHMiOiB7InNpemUiOiAxNC44MzE0NjA2NzQxNTczMDJ9fQo=');</script>\n",
       "    "
      ],
      "text/plain": [
       "<IPython.core.display.HTML object>"
      ]
     },
     "metadata": {},
     "output_type": "display_data"
    },
    {
     "data": {
      "text/html": [
       "\n",
       "        <div id=\"eMbG27FUdJj3HGNnQEu7QR\"></div>\n",
       "        <script>netpixi.call('eMbG27FUdJj3HGNnQEu7QR', 'bTqPCokXXTQVrTrjt93BTM', 'changeGraph', 'eyJpZCI6IDcyLCAidHlwZSI6ICJ2ZXJ0ZXgiLCAicHJvcHMiOiB7InNpemUiOiAxOS43NzUyODA4OTg4NzY0MDN9fQo=');</script>\n",
       "    "
      ],
      "text/plain": [
       "<IPython.core.display.HTML object>"
      ]
     },
     "metadata": {},
     "output_type": "display_data"
    },
    {
     "data": {
      "text/html": [
       "\n",
       "        <div id=\"EHE76JowtnoKF6RYKQjVya\"></div>\n",
       "        <script>netpixi.call('EHE76JowtnoKF6RYKQjVya', 'bTqPCokXXTQVrTrjt93BTM', 'changeGraph', 'eyJpZCI6IDczLCAidHlwZSI6ICJ2ZXJ0ZXgiLCAicHJvcHMiOiB7InNpemUiOiAxNi42MjkyMTM0ODMxNDYwNjd9fQo=');</script>\n",
       "    "
      ],
      "text/plain": [
       "<IPython.core.display.HTML object>"
      ]
     },
     "metadata": {},
     "output_type": "display_data"
    },
    {
     "data": {
      "text/html": [
       "\n",
       "        <div id=\"Fh9rdar8bMEHaxY2mLWxs8\"></div>\n",
       "        <script>netpixi.call('Fh9rdar8bMEHaxY2mLWxs8', 'bTqPCokXXTQVrTrjt93BTM', 'changeGraph', 'eyJpZCI6IDc0LCAidHlwZSI6ICJ2ZXJ0ZXgiLCAicHJvcHMiOiB7InNpemUiOiAxNS4yODA4OTg4NzY0MDQ0OTR9fQo=');</script>\n",
       "    "
      ],
      "text/plain": [
       "<IPython.core.display.HTML object>"
      ]
     },
     "metadata": {},
     "output_type": "display_data"
    },
    {
     "data": {
      "text/html": [
       "\n",
       "        <div id=\"7wxb3dmSfrC6xruCASAQrr\"></div>\n",
       "        <script>netpixi.call('7wxb3dmSfrC6xruCASAQrr', 'bTqPCokXXTQVrTrjt93BTM', 'changeGraph', 'eyJpZCI6IDc1LCAidHlwZSI6ICJ2ZXJ0ZXgiLCAicHJvcHMiOiB7InNpemUiOiAxNS45NTUwNTYxNzk3NzUyOH19Cg==');</script>\n",
       "    "
      ],
      "text/plain": [
       "<IPython.core.display.HTML object>"
      ]
     },
     "metadata": {},
     "output_type": "display_data"
    },
    {
     "data": {
      "text/html": [
       "\n",
       "        <div id=\"VaZPjHeTPkpV4396EuWrtQ\"></div>\n",
       "        <script>netpixi.call('VaZPjHeTPkpV4396EuWrtQ', 'bTqPCokXXTQVrTrjt93BTM', 'changeGraph', 'eyJpZCI6IDc2LCAidHlwZSI6ICJ2ZXJ0ZXgiLCAicHJvcHMiOiB7InNpemUiOiAxOC42NTE2ODUzOTMyNTg0MjV9fQo=');</script>\n",
       "    "
      ],
      "text/plain": [
       "<IPython.core.display.HTML object>"
      ]
     },
     "metadata": {},
     "output_type": "display_data"
    },
    {
     "data": {
      "text/html": [
       "\n",
       "        <div id=\"Yk3pfaT4dsuuPE2soy4F7L\"></div>\n",
       "        <script>netpixi.call('Yk3pfaT4dsuuPE2soy4F7L', 'bTqPCokXXTQVrTrjt93BTM', 'changeGraph', 'eyJpZCI6IDc3LCAidHlwZSI6ICJ2ZXJ0ZXgiLCAicHJvcHMiOiB7InNpemUiOiAxNS4wNTYxNzk3NzUyODA5fX0K');</script>\n",
       "    "
      ],
      "text/plain": [
       "<IPython.core.display.HTML object>"
      ]
     },
     "metadata": {},
     "output_type": "display_data"
    },
    {
     "data": {
      "text/html": [
       "\n",
       "        <div id=\"8khK2sMmz9xCNkhiEqyn9F\"></div>\n",
       "        <script>netpixi.call('8khK2sMmz9xCNkhiEqyn9F', 'bTqPCokXXTQVrTrjt93BTM', 'changeGraph', 'eyJpZCI6IDc4LCAidHlwZSI6ICJ2ZXJ0ZXgiLCAicHJvcHMiOiB7InNpemUiOiAxNC4wNDQ5NDM4MjAyMjQ3Mn19Cg==');</script>\n",
       "    "
      ],
      "text/plain": [
       "<IPython.core.display.HTML object>"
      ]
     },
     "metadata": {},
     "output_type": "display_data"
    },
    {
     "data": {
      "text/html": [
       "\n",
       "        <div id=\"4Y3deWvViXaCDRvsEL9oUL\"></div>\n",
       "        <script>netpixi.call('4Y3deWvViXaCDRvsEL9oUL', 'bTqPCokXXTQVrTrjt93BTM', 'changeGraph', 'eyJpZCI6IDc5LCAidHlwZSI6ICJ2ZXJ0ZXgiLCAicHJvcHMiOiB7InNpemUiOiAxOC4zMTQ2MDY3NDE1NzMwMzR9fQo=');</script>\n",
       "    "
      ],
      "text/plain": [
       "<IPython.core.display.HTML object>"
      ]
     },
     "metadata": {},
     "output_type": "display_data"
    },
    {
     "data": {
      "text/html": [
       "\n",
       "        <div id=\"XbWxaaM7AeUhuAsyBQ9Cb2\"></div>\n",
       "        <script>netpixi.call('XbWxaaM7AeUhuAsyBQ9Cb2', 'bTqPCokXXTQVrTrjt93BTM', 'changeGraph', 'eyJpZCI6IDgwLCAidHlwZSI6ICJ2ZXJ0ZXgiLCAicHJvcHMiOiB7InNpemUiOiAxNC43MTkxMDExMjM1OTU1MDZ9fQo=');</script>\n",
       "    "
      ],
      "text/plain": [
       "<IPython.core.display.HTML object>"
      ]
     },
     "metadata": {},
     "output_type": "display_data"
    },
    {
     "data": {
      "text/html": [
       "\n",
       "        <div id=\"PFto9XtRUinKL4at5nrUZv\"></div>\n",
       "        <script>netpixi.call('PFto9XtRUinKL4at5nrUZv', 'bTqPCokXXTQVrTrjt93BTM', 'changeGraph', 'eyJpZCI6IDgxLCAidHlwZSI6ICJ2ZXJ0ZXgiLCAicHJvcHMiOiB7InNpemUiOiAxNy41MjgwODk4ODc2NDA0NDh9fQo=');</script>\n",
       "    "
      ],
      "text/plain": [
       "<IPython.core.display.HTML object>"
      ]
     },
     "metadata": {},
     "output_type": "display_data"
    },
    {
     "data": {
      "text/html": [
       "\n",
       "        <div id=\"NTZ3mkiqBHzTWc3KguvBem\"></div>\n",
       "        <script>netpixi.call('NTZ3mkiqBHzTWc3KguvBem', 'bTqPCokXXTQVrTrjt93BTM', 'changeGraph', 'eyJpZCI6IDgyLCAidHlwZSI6ICJ2ZXJ0ZXgiLCAicHJvcHMiOiB7InNpemUiOiAxMy43MDc4NjUxNjg1MzkzMjZ9fQo=');</script>\n",
       "    "
      ],
      "text/plain": [
       "<IPython.core.display.HTML object>"
      ]
     },
     "metadata": {},
     "output_type": "display_data"
    },
    {
     "data": {
      "text/html": [
       "\n",
       "        <div id=\"WXBfXnbuz3ictDLv2KNF66\"></div>\n",
       "        <script>netpixi.call('WXBfXnbuz3ictDLv2KNF66', 'bTqPCokXXTQVrTrjt93BTM', 'changeGraph', 'eyJpZCI6IDgzLCAidHlwZSI6ICJ2ZXJ0ZXgiLCAicHJvcHMiOiB7InNpemUiOiAxNi45NjYyOTIxMzQ4MzE0Nn19Cg==');</script>\n",
       "    "
      ],
      "text/plain": [
       "<IPython.core.display.HTML object>"
      ]
     },
     "metadata": {},
     "output_type": "display_data"
    },
    {
     "data": {
      "text/html": [
       "\n",
       "        <div id=\"dzG2BLd2R8w42bW2oKC65p\"></div>\n",
       "        <script>netpixi.call('dzG2BLd2R8w42bW2oKC65p', 'bTqPCokXXTQVrTrjt93BTM', 'changeGraph', 'eyJpZCI6IDg0LCAidHlwZSI6ICJ2ZXJ0ZXgiLCAicHJvcHMiOiB7InNpemUiOiAxMy40ODMxNDYwNjc0MTU3M319Cg==');</script>\n",
       "    "
      ],
      "text/plain": [
       "<IPython.core.display.HTML object>"
      ]
     },
     "metadata": {},
     "output_type": "display_data"
    },
    {
     "data": {
      "text/html": [
       "\n",
       "        <div id=\"ESwdwJPBC4tM2kuE4rSCpX\"></div>\n",
       "        <script>netpixi.call('ESwdwJPBC4tM2kuE4rSCpX', 'bTqPCokXXTQVrTrjt93BTM', 'changeGraph', 'eyJpZCI6IDg1LCAidHlwZSI6ICJ2ZXJ0ZXgiLCAicHJvcHMiOiB7InNpemUiOiAyMC4wfX0K');</script>\n",
       "    "
      ],
      "text/plain": [
       "<IPython.core.display.HTML object>"
      ]
     },
     "metadata": {},
     "output_type": "display_data"
    },
    {
     "data": {
      "text/html": [
       "\n",
       "        <div id=\"Z58Qk4XftcSmXCUK5CtH7g\"></div>\n",
       "        <script>netpixi.call('Z58Qk4XftcSmXCUK5CtH7g', 'bTqPCokXXTQVrTrjt93BTM', 'changeGraph', 'eyJpZCI6IDg2LCAidHlwZSI6ICJ2ZXJ0ZXgiLCAicHJvcHMiOiB7InNpemUiOiAxMi45MjEzNDgzMTQ2MDY3NDJ9fQo=');</script>\n",
       "    "
      ],
      "text/plain": [
       "<IPython.core.display.HTML object>"
      ]
     },
     "metadata": {},
     "output_type": "display_data"
    },
    {
     "data": {
      "text/html": [
       "\n",
       "        <div id=\"E6qUiLiPYRWtdFEqhhUdbL\"></div>\n",
       "        <script>netpixi.call('E6qUiLiPYRWtdFEqhhUdbL', 'bTqPCokXXTQVrTrjt93BTM', 'changeGraph', 'eyJpZCI6IDg3LCAidHlwZSI6ICJ2ZXJ0ZXgiLCAicHJvcHMiOiB7InNpemUiOiAxOC41MzkzMjU4NDI2OTY2Mjd9fQo=');</script>\n",
       "    "
      ],
      "text/plain": [
       "<IPython.core.display.HTML object>"
      ]
     },
     "metadata": {},
     "output_type": "display_data"
    },
    {
     "data": {
      "text/html": [
       "\n",
       "        <div id=\"9HmSh6BUGn6WgZX6yCC7jm\"></div>\n",
       "        <script>netpixi.call('9HmSh6BUGn6WgZX6yCC7jm', 'bTqPCokXXTQVrTrjt93BTM', 'changeGraph', 'eyJpZCI6IDg4LCAidHlwZSI6ICJ2ZXJ0ZXgiLCAicHJvcHMiOiB7InNpemUiOiAxMi4yNDcxOTEwMTEyMzU5NTV9fQo=');</script>\n",
       "    "
      ],
      "text/plain": [
       "<IPython.core.display.HTML object>"
      ]
     },
     "metadata": {},
     "output_type": "display_data"
    },
    {
     "data": {
      "text/html": [
       "\n",
       "        <div id=\"gCxVGNtQmcT8jiYsMGVjGT\"></div>\n",
       "        <script>netpixi.call('gCxVGNtQmcT8jiYsMGVjGT', 'bTqPCokXXTQVrTrjt93BTM', 'changeGraph', 'eyJpZCI6IDg5LCAidHlwZSI6ICJ2ZXJ0ZXgiLCAicHJvcHMiOiB7InNpemUiOiAxMC41NjE3OTc3NTI4MDg5ODl9fQo=');</script>\n",
       "    "
      ],
      "text/plain": [
       "<IPython.core.display.HTML object>"
      ]
     },
     "metadata": {},
     "output_type": "display_data"
    },
    {
     "data": {
      "text/html": [
       "\n",
       "        <div id=\"dvrCeAMvTkeQKsFXMWBa99\"></div>\n",
       "        <script>netpixi.call('dvrCeAMvTkeQKsFXMWBa99', 'bTqPCokXXTQVrTrjt93BTM', 'changeGraph', 'eyJpZCI6IDkwLCAidHlwZSI6ICJ2ZXJ0ZXgiLCAicHJvcHMiOiB7InNpemUiOiAxMy4yNTg0MjY5NjYyOTIxMzR9fQo=');</script>\n",
       "    "
      ],
      "text/plain": [
       "<IPython.core.display.HTML object>"
      ]
     },
     "metadata": {},
     "output_type": "display_data"
    },
    {
     "data": {
      "text/html": [
       "\n",
       "        <div id=\"EBJ238Y767tW2Z2Uq8pWkU\"></div>\n",
       "        <script>netpixi.call('EBJ238Y767tW2Z2Uq8pWkU', 'bTqPCokXXTQVrTrjt93BTM', 'changeGraph', 'eyJpZCI6IDkxLCAidHlwZSI6ICJ2ZXJ0ZXgiLCAicHJvcHMiOiB7InNpemUiOiAxMy4wMzM3MDc4NjUxNjg1NH19Cg==');</script>\n",
       "    "
      ],
      "text/plain": [
       "<IPython.core.display.HTML object>"
      ]
     },
     "metadata": {},
     "output_type": "display_data"
    },
    {
     "data": {
      "text/html": [
       "\n",
       "        <div id=\"ketwXVc99KNQEWUyXxYKXR\"></div>\n",
       "        <script>netpixi.call('ketwXVc99KNQEWUyXxYKXR', 'bTqPCokXXTQVrTrjt93BTM', 'changeGraph', 'eyJpZCI6IDkyLCAidHlwZSI6ICJ2ZXJ0ZXgiLCAicHJvcHMiOiB7InNpemUiOiAxNi4wNjc0MTU3MzAzMzcwOH19Cg==');</script>\n",
       "    "
      ],
      "text/plain": [
       "<IPython.core.display.HTML object>"
      ]
     },
     "metadata": {},
     "output_type": "display_data"
    },
    {
     "data": {
      "text/html": [
       "\n",
       "        <div id=\"GNJXmzk3nknmKBzkWaB72F\"></div>\n",
       "        <script>netpixi.call('GNJXmzk3nknmKBzkWaB72F', 'bTqPCokXXTQVrTrjt93BTM', 'changeGraph', 'eyJpZCI6IDkzLCAidHlwZSI6ICJ2ZXJ0ZXgiLCAicHJvcHMiOiB7InNpemUiOiAxOC4wODk4ODc2NDA0NDk0NH19Cg==');</script>\n",
       "    "
      ],
      "text/plain": [
       "<IPython.core.display.HTML object>"
      ]
     },
     "metadata": {},
     "output_type": "display_data"
    },
    {
     "data": {
      "text/html": [
       "\n",
       "        <div id=\"Msd9F62BK4YesNoFi8poGF\"></div>\n",
       "        <script>netpixi.call('Msd9F62BK4YesNoFi8poGF', 'bTqPCokXXTQVrTrjt93BTM', 'changeGraph', 'eyJpZCI6IDk0LCAidHlwZSI6ICJ2ZXJ0ZXgiLCAicHJvcHMiOiB7InNpemUiOiAxMS43OTc3NTI4MDg5ODg3NjV9fQo=');</script>\n",
       "    "
      ],
      "text/plain": [
       "<IPython.core.display.HTML object>"
      ]
     },
     "metadata": {},
     "output_type": "display_data"
    },
    {
     "data": {
      "text/html": [
       "\n",
       "        <div id=\"JKzMD4627DmGXTSMHySr9J\"></div>\n",
       "        <script>netpixi.call('JKzMD4627DmGXTSMHySr9J', 'bTqPCokXXTQVrTrjt93BTM', 'changeGraph', 'eyJpZCI6IDk1LCAidHlwZSI6ICJ2ZXJ0ZXgiLCAicHJvcHMiOiB7InNpemUiOiAxMi4xMzQ4MzE0NjA2NzQxNTd9fQo=');</script>\n",
       "    "
      ],
      "text/plain": [
       "<IPython.core.display.HTML object>"
      ]
     },
     "metadata": {},
     "output_type": "display_data"
    },
    {
     "data": {
      "text/html": [
       "\n",
       "        <div id=\"fpPrGiUVg2YS4nJx3aDDQP\"></div>\n",
       "        <script>netpixi.call('fpPrGiUVg2YS4nJx3aDDQP', 'bTqPCokXXTQVrTrjt93BTM', 'changeGraph', 'eyJpZCI6IDk2LCAidHlwZSI6ICJ2ZXJ0ZXgiLCAicHJvcHMiOiB7InNpemUiOiAxMi40NzE5MTAxMTIzNTk1NX19Cg==');</script>\n",
       "    "
      ],
      "text/plain": [
       "<IPython.core.display.HTML object>"
      ]
     },
     "metadata": {},
     "output_type": "display_data"
    },
    {
     "data": {
      "text/html": [
       "\n",
       "        <div id=\"3F453JwfKsBfb3axcjsMLh\"></div>\n",
       "        <script>netpixi.call('3F453JwfKsBfb3axcjsMLh', 'bTqPCokXXTQVrTrjt93BTM', 'changeGraph', 'eyJpZCI6IDk3LCAidHlwZSI6ICJ2ZXJ0ZXgiLCAicHJvcHMiOiB7InNpemUiOiAxMy41OTU1MDU2MTc5Nzc1Mjh9fQo=');</script>\n",
       "    "
      ],
      "text/plain": [
       "<IPython.core.display.HTML object>"
      ]
     },
     "metadata": {},
     "output_type": "display_data"
    },
    {
     "data": {
      "text/html": [
       "\n",
       "        <div id=\"Hv89u3o76qKEegk56nyT4R\"></div>\n",
       "        <script>netpixi.call('Hv89u3o76qKEegk56nyT4R', 'bTqPCokXXTQVrTrjt93BTM', 'changeGraph', 'eyJpZCI6IDk4LCAidHlwZSI6ICJ2ZXJ0ZXgiLCAicHJvcHMiOiB7InNpemUiOiAxMC44OTg4NzY0MDQ0OTQzODJ9fQo=');</script>\n",
       "    "
      ],
      "text/plain": [
       "<IPython.core.display.HTML object>"
      ]
     },
     "metadata": {},
     "output_type": "display_data"
    },
    {
     "data": {
      "text/html": [
       "\n",
       "        <div id=\"Jq8YzBBVh9acNkPcC3EbvS\"></div>\n",
       "        <script>netpixi.call('Jq8YzBBVh9acNkPcC3EbvS', 'bTqPCokXXTQVrTrjt93BTM', 'changeGraph', 'eyJpZCI6IDk5LCAidHlwZSI6ICJ2ZXJ0ZXgiLCAicHJvcHMiOiB7InNpemUiOiAxMC43ODY1MTY4NTM5MzI1ODR9fQo=');</script>\n",
       "    "
      ],
      "text/plain": [
       "<IPython.core.display.HTML object>"
      ]
     },
     "metadata": {},
     "output_type": "display_data"
    },
    {
     "data": {
      "text/html": [
       "\n",
       "        <div id=\"7zBAzjcNbgSR3PYJUGGEHx\"></div>\n",
       "        <script>netpixi.call('7zBAzjcNbgSR3PYJUGGEHx', 'bTqPCokXXTQVrTrjt93BTM', 'changeGraph', 'eyJpZCI6IDEwMCwgInR5cGUiOiAidmVydGV4IiwgInByb3BzIjogeyJzaXplIjogMTEuNDYwNjc0MTU3MzAzMzcxfX0K');</script>\n",
       "    "
      ],
      "text/plain": [
       "<IPython.core.display.HTML object>"
      ]
     },
     "metadata": {},
     "output_type": "display_data"
    },
    {
     "data": {
      "text/html": [
       "\n",
       "        <div id=\"6ftQCiXpAqTkVzXrX8tdrr\"></div>\n",
       "        <script>netpixi.call('6ftQCiXpAqTkVzXrX8tdrr', 'bTqPCokXXTQVrTrjt93BTM', 'changeGraph', 'eyJpZCI6IDEwMSwgInR5cGUiOiAidmVydGV4IiwgInByb3BzIjogeyJzaXplIjogMTEuNjg1MzkzMjU4NDI2OTY2fX0K');</script>\n",
       "    "
      ],
      "text/plain": [
       "<IPython.core.display.HTML object>"
      ]
     },
     "metadata": {},
     "output_type": "display_data"
    },
    {
     "data": {
      "text/html": [
       "\n",
       "        <div id=\"8BJLqGkgdoJJU7JKPRDwbE\"></div>\n",
       "        <script>netpixi.call('8BJLqGkgdoJJU7JKPRDwbE', 'bTqPCokXXTQVrTrjt93BTM', 'changeGraph', 'eyJpZCI6IDEwMiwgInR5cGUiOiAidmVydGV4IiwgInByb3BzIjogeyJzaXplIjogMTQuMzgyMDIyNDcxOTEwMTEyfX0K');</script>\n",
       "    "
      ],
      "text/plain": [
       "<IPython.core.display.HTML object>"
      ]
     },
     "metadata": {},
     "output_type": "display_data"
    },
    {
     "data": {
      "text/html": [
       "\n",
       "        <div id=\"QxdcAgG5SCCEu2nDZCDoxF\"></div>\n",
       "        <script>netpixi.call('QxdcAgG5SCCEu2nDZCDoxF', 'bTqPCokXXTQVrTrjt93BTM', 'changeGraph', 'eyJpZCI6IDEwMywgInR5cGUiOiAidmVydGV4IiwgInByb3BzIjogeyJzaXplIjogMTAuMjI0NzE5MTAxMTIzNTk1fX0K');</script>\n",
       "    "
      ],
      "text/plain": [
       "<IPython.core.display.HTML object>"
      ]
     },
     "metadata": {},
     "output_type": "display_data"
    },
    {
     "data": {
      "text/html": [
       "\n",
       "        <div id=\"j43N75K7bLGCmATNBvUsSf\"></div>\n",
       "        <script>netpixi.call('j43N75K7bLGCmATNBvUsSf', 'bTqPCokXXTQVrTrjt93BTM', 'changeGraph', 'eyJpZCI6IDEwNCwgInR5cGUiOiAidmVydGV4IiwgInByb3BzIjogeyJzaXplIjogMTUuNjE3OTc3NTI4MDg5ODg4fX0K');</script>\n",
       "    "
      ],
      "text/plain": [
       "<IPython.core.display.HTML object>"
      ]
     },
     "metadata": {},
     "output_type": "display_data"
    },
    {
     "data": {
      "text/html": [
       "\n",
       "        <div id=\"k9TvwQNkHMBxBfeU9hXbxj\"></div>\n",
       "        <script>netpixi.call('k9TvwQNkHMBxBfeU9hXbxj', 'bTqPCokXXTQVrTrjt93BTM', 'changeGraph', 'eyJpZCI6IDEwNSwgInR5cGUiOiAidmVydGV4IiwgInByb3BzIjogeyJzaXplIjogMTQuNjA2NzQxNTczMDMzNzA5fX0K');</script>\n",
       "    "
      ],
      "text/plain": [
       "<IPython.core.display.HTML object>"
      ]
     },
     "metadata": {},
     "output_type": "display_data"
    },
    {
     "data": {
      "text/html": [
       "\n",
       "        <div id=\"iLDyQ2onJpHbYpsiApVcX2\"></div>\n",
       "        <script>netpixi.call('iLDyQ2onJpHbYpsiApVcX2', 'bTqPCokXXTQVrTrjt93BTM', 'changeGraph', 'eyJpZCI6IDEwNiwgInR5cGUiOiAidmVydGV4IiwgInByb3BzIjogeyJzaXplIjogMTQuNDk0MzgyMDIyNDcxOTF9fQo=');</script>\n",
       "    "
      ],
      "text/plain": [
       "<IPython.core.display.HTML object>"
      ]
     },
     "metadata": {},
     "output_type": "display_data"
    },
    {
     "data": {
      "text/html": [
       "\n",
       "        <div id=\"hPqrTBKR68z688fz2Tjhj2\"></div>\n",
       "        <script>netpixi.call('hPqrTBKR68z688fz2Tjhj2', 'bTqPCokXXTQVrTrjt93BTM', 'changeGraph', 'eyJpZCI6IDEwNywgInR5cGUiOiAidmVydGV4IiwgInByb3BzIjogeyJzaXplIjogMTEuMzQ4MzE0NjA2NzQxNTczfX0K');</script>\n",
       "    "
      ],
      "text/plain": [
       "<IPython.core.display.HTML object>"
      ]
     },
     "metadata": {},
     "output_type": "display_data"
    },
    {
     "data": {
      "text/html": [
       "\n",
       "        <div id=\"mysiJqjvEqYGf8RvN6LUD4\"></div>\n",
       "        <script>netpixi.call('mysiJqjvEqYGf8RvN6LUD4', 'bTqPCokXXTQVrTrjt93BTM', 'changeGraph', 'eyJpZCI6IDEwOCwgInR5cGUiOiAidmVydGV4IiwgInByb3BzIjogeyJzaXplIjogMTAuMH19Cg==');</script>\n",
       "    "
      ],
      "text/plain": [
       "<IPython.core.display.HTML object>"
      ]
     },
     "metadata": {},
     "output_type": "display_data"
    },
    {
     "data": {
      "text/html": [
       "\n",
       "        <div id=\"hNneJw54kaWXuWzBjk4QhW\"></div>\n",
       "        <script>netpixi.call('hNneJw54kaWXuWzBjk4QhW', 'bTqPCokXXTQVrTrjt93BTM', 'changeGraph', 'eyJpZCI6IDEwOSwgInR5cGUiOiAidmVydGV4IiwgInByb3BzIjogeyJzaXplIjogMTAuMTEyMzU5NTUwNTYxNzk4fX0K');</script>\n",
       "    "
      ],
      "text/plain": [
       "<IPython.core.display.HTML object>"
      ]
     },
     "metadata": {},
     "output_type": "display_data"
    },
    {
     "data": {
      "text/html": [
       "\n",
       "        <div id=\"jgoN2hvYTGHsWPyGDJCqHz\"></div>\n",
       "        <script>netpixi.call('jgoN2hvYTGHsWPyGDJCqHz', 'bTqPCokXXTQVrTrjt93BTM', 'changeGraph', 'eyJpZCI6IDExMCwgInR5cGUiOiAidmVydGV4IiwgInByb3BzIjogeyJzaXplIjogMTAuMzM3MDc4NjUxNjg1Mzk0fX0K');</script>\n",
       "    "
      ],
      "text/plain": [
       "<IPython.core.display.HTML object>"
      ]
     },
     "metadata": {},
     "output_type": "display_data"
    },
    {
     "data": {
      "text/html": [
       "\n",
       "        <div id=\"QjxwHzviSHUsYxrnD3gGmz\"></div>\n",
       "        <script>netpixi.call('QjxwHzviSHUsYxrnD3gGmz', 'bTqPCokXXTQVrTrjt93BTM', 'changeGraph', 'eyJpZCI6IDExMSwgInR5cGUiOiAidmVydGV4IiwgInByb3BzIjogeyJzaXplIjogMTAuNjc0MTU3MzAzMzcwNzg3fX0K');</script>\n",
       "    "
      ],
      "text/plain": [
       "<IPython.core.display.HTML object>"
      ]
     },
     "metadata": {},
     "output_type": "display_data"
    }
   ],
   "source": [
    "matrix = spectral.adjacency(g)\n",
    "\n",
    "# Além de cpnet.Rombach, há outras\n",
    "# opções de algoritmos contínuos:\n",
    "# cpnet.MINRES\n",
    "# cpnet.Rossa\n",
    "\n",
    "algorithm = cpnet.Rombach()\n",
    "algorithm.detect(matrix)\n",
    "c = algorithm.get_coreness()\n",
    "\n",
    "# Depois do código acima, c é um dicionário\n",
    "# em que as chaves são índices de vértices e\n",
    "# valores são os atribuídos pelo algoritmo.\n",
    "\n",
    "g.add_vp('coreness')\n",
    "for i, coreness in c.items():\n",
    "    v = g.get_vertex_by_index(i)\n",
    "    v['coreness'] = float(coreness)\n",
    "\n",
    "# Vamos usar coreness como referência para\n",
    "# o tamanho dos vértices. Estabelecemos 10\n",
    "# como o menor tamanho possível e 40 como\n",
    "# o maior tamanho possível. Como o coreness\n",
    "# está entre 0 e 1, a conta é bem simples.\n",
    "\n",
    "for v in g.all_vertices():\n",
    "    r.vertex(v['id'], size=(10 + 40 * v['coreness']))\n",
    "\n",
    "# Quando a execução desta célula terminar,\n",
    "# veja como ficou a visualização acima."
   ]
  },
  {
   "cell_type": "code",
   "execution_count": null,
   "id": "47349097",
   "metadata": {},
   "outputs": [],
   "source": []
  }
 ],
 "metadata": {
  "kernelspec": {
   "display_name": "Python 3 (ipykernel)",
   "language": "python",
   "name": "python3"
  },
  "language_info": {
   "codemirror_mode": {
    "name": "ipython",
    "version": 3
   },
   "file_extension": ".py",
   "mimetype": "text/x-python",
   "name": "python",
   "nbconvert_exporter": "python",
   "pygments_lexer": "ipython3",
   "version": "3.10.10"
  }
 },
 "nbformat": 4,
 "nbformat_minor": 5
}
