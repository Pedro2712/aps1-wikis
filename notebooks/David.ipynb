{
 "cells": [
  {
   "cell_type": "markdown",
   "id": "38ce4ced",
   "metadata": {},
   "source": [
    "## Importando as bibliotecas"
   ]
  },
  {
   "cell_type": "markdown",
   "id": "5ba3c0e2",
   "metadata": {},
   "source": [
    "## Degree\n",
    "\n",
    "Degree em uma rede é uma medida que indica o número de conexões que um nó (ou vértice) tem com outros nós na rede. O degree de um nó é igual ao número de arestas que o conectam a outros nós. Em uma rede direcionada, é comum fazer a distinção entre in-degree e out-degree. O in-degree de um nó é o número de arestas que apontam para ele, enquanto o out-degree é o número de arestas que partem dele. O degree é uma medida importante em análise de redes, pois fornece informações sobre a centralidade e a importância de um nó na rede, bem como sobre a estrutura geral da rede.\n",
    "#### Exemplo\n",
    "   Uma rede com alto degree é aquela em que muitos nós possuem um grande número de conexões com outros nós. Por exemplo, uma rede social como o Facebook, em que usuários têm muitos amigos, ou uma rede de colaboração científica, em que pesquisadores têm feito muitas colaborações com outros pesquisadores em suas carreiras, são exemplos de redes com alto degree.\n",
    "\n",
    "## Betweenness\n",
    "\n",
    "Betweenness (ou Intermediação, em português) é outra medida importante em análise de redes que mede a centralidade de um nó ou uma aresta na rede, com base na quantidade de vezes que eles aparecem nos caminhos mais curtos entre outros pares de nós na rede. Em outras palavras, um nó ou uma aresta com alto betweenness é aquele que é frequentemente usado como um caminho de comunicação ou transporte entre outros nós na rede.O cálculo do betweenness envolve a determinação de todos os caminhos mais curtos entre cada par de nós na rede e, em seguida, contar quantos desses caminhos passam pelo nó ou pela aresta em questão. Nós ou arestas com alto betweenness são frequentemente considerados \"pontes\" ou \"gargalos\" na rede, pois sua remoção pode ter um grande impacto na conectividade ou eficiência da rede.O betweenness é usado em muitas aplicações de redes, incluindo análise de fluxo em redes de transporte, identificação de líderes ou influenciadores em redes sociais e detecção de pontos críticos em redes de infraestrutura.\n",
    "#### Exemplo\n",
    "Uma rede com alto betweenness é aquela em que alguns nós têm uma grande influência na comunicação e interação entre outros nós da rede, mesmo que não possuam um alto degree. Exemplos incluem redes de transporte urbano, onde algumas estações são cruciais para a conexão entre diferentes linhas de ônibus, ou redes de comunicação de dados, onde alguns roteadores são responsáveis por encaminhar a maioria dos pacotes de dados entre diferentes partes da rede.\n",
    "\n",
    "## Closeness\n",
    "\n",
    "Closeness (ou Proximidade, em português) é outra medida importante em análise de redes que mede a distância média de um nó para todos os outros nós na rede. Em outras palavras, um nó com alto closeness é aquele que está \"mais próximo\" de todos os outros nós na rede em termos de distância média.O cálculo do closeness envolve a soma das distâncias mais curtas do nó em questão para todos os outros nós na rede, seguido de uma inversão da soma. Nós com alto closeness são frequentemente considerados como \"centrais\" na rede, pois estão mais próximos de outros nós e podem alcançá-los mais facilmente.O closeness é usado em muitas aplicações de redes, incluindo identificação de hubs em redes de transporte, avaliação da eficiência de comunicação em redes de telecomunicações e análise de influência de nós em redes sociais. No entanto, o closeness pode ser sensível a redes que contêm comunidades ou grupos de nós altamente conectados entre si, o que pode levar a resultados distorcidos se não for levado em consideração na análise.\n",
    "#### Exemplo\n",
    "Uma rede com alto closeness é aquela em que alguns nós têm caminhos mais curtos para alcançar outros nós da rede, ou seja, possuem uma grande proximidade com outros nós. Exemplos incluem redes de transporte público em que as estações estão localizadas próximas umas das outras, permitindo que os passageiros cheguem rapidamente ao seu destino final, ou redes de comunicação social em que alguns usuários têm muitos amigos e conexões na rede, permitindo que se comuniquem e interajam rapidamente com muitos outros usuários. Esses nós podem ser considerados \"conectores\" da rede.\n",
    "\n",
    "\n",
    "## Clustering Coefficient\n",
    "\n",
    "Clustering Coefficient (ou Coeficiente de Agrupamento, em português) é uma medida que avalia a tendência dos nós em uma rede formarem grupos ou comunidades. O clustering coefficient de um nó é a proporção dos pares de seus vizinhos que estão conectados entre si, em relação ao total possível de conexões entre eles. Em outras palavras, o clustering coefficient mede a densidade local de conexões em torno de um nó.O cálculo do clustering coefficient envolve contar o número de conexões entre os vizinhos de um nó e dividir esse valor pelo número máximo de conexões possíveis entre eles. O clustering coefficient pode ser calculado para cada nó na rede e depois pode ser calculada a média para toda a rede.O clustering coefficient é uma medida útil para caracterizar a estrutura de comunidades em redes sociais, bem como a presença de agrupamentos em redes biológicas, redes de transporte e outras redes complexas. Ele também é usado como uma medida de robustez da rede, pois redes altamente agrupadas tendem a ser mais resistentes a falhas aleatórias e ataques direcionados do que redes menos agrupadas.\n",
    "#### Exemplo\n",
    "Uma rede com alto clustering coefficient é aquela em que os nós tendem a formar agrupamentos densos e altamente conectados entre si. Exemplos incluem redes de amizades em que os amigos de um indivíduo tendem a ser amigos uns dos outros também, ou redes de colaboração científica em que os pesquisadores tendem a colaborar com outros pesquisadores que trabalham em temas semelhantes. Essas redes podem formar agrupamentos densos de nós que estão altamente conectados entre si.\n",
    "\n",
    "## Centro e periferia\n",
    "\n",
    "Centro e periferia são conceitos usados em análise de redes para descrever a distribuição de nós em uma rede de acordo com sua importância ou centralidade.O centro de uma rede é composto pelos nós mais importantes ou centrais da rede, enquanto a periferia é composta pelos nós menos importantes ou periféricos. A determinação do centro e da periferia de uma rede depende da medida de centralidade usada na análise.Por exemplo, se a medida de centralidade usada for o betweenness, os nós com alto betweenness serão considerados centrais, enquanto os nós com baixo betweenness serão considerados periféricos. Da mesma forma, se a medida de centralidade usada for o degree, os nós com alto degree serão considerados centrais, enquanto os nós com baixo degree serão considerados periféricos.A identificação do centro e da periferia de uma rede pode ser útil para entender a estrutura e a dinâmica da rede, bem como para planejar estratégias de intervenção em diferentes contextos, como por exemplo, em redes de transporte, redes de comunicação, redes de colaboração científica, entre outras.\n",
    "#### Exemplo\n",
    "Uma rede com alto centro e periferia é aquela em que alguns nós estão altamente conectados uns aos outros e formam um núcleo central, enquanto outros nós estão mais isolados e periféricos. Exemplos incluem redes de transporte aéreo em que alguns aeroportos importantes estão altamente conectados uns aos outros, enquanto outros aeroportos menores estão mais isolados, ou redes sociais em que alguns indivíduos possuem muitos amigos e conexões, formando um núcleo central da rede, enquanto outros indivíduos possuem menos amigos e conexões e estão mais isolados e periféricos na rede.\n"
   ]
  },
  {
   "cell_type": "code",
   "execution_count": null,
   "id": "19580da7",
   "metadata": {},
   "outputs": [],
   "source": [
    "import netpixi\n",
    "from netpixi.integration.gt import Graph\n",
    "from netpixi.integration.gt import *\n",
    "import seaborn as sns\n",
    "from regression.integration.gt import *\n",
    "\n",
    "import cpnet\n",
    "\n",
    "from graph_tool import spectral"
   ]
  },
  {
   "cell_type": "markdown",
   "id": "e1957f20",
   "metadata": {},
   "source": [
    "## Criando o grafo"
   ]
  },
  {
   "cell_type": "code",
   "execution_count": null,
   "id": "8a5b350d",
   "metadata": {},
   "outputs": [],
   "source": [
    "g = Graph(directed=False) # não-dirigido\n",
    "\n",
    "with open('david.txt', \"r\") as arquivo:\n",
    "    for teste in arquivo:\n",
    "        node1, node2 = teste.split()\n",
    "        \n",
    "        if not g.has_vertex(node1):\n",
    "            g.add_vertex(node1)\n",
    "        \n",
    "        if not g.has_vertex(node2):\n",
    "            g.add_vertex(node2)\n",
    "        \n",
    "        g.add_edge(node1, node2)"
   ]
  },
  {
   "cell_type": "markdown",
   "id": "870b61ca",
   "metadata": {},
   "source": [
    "## Salvando o grafo"
   ]
  },
  {
   "cell_type": "code",
   "execution_count": null,
   "id": "0fb35dc8",
   "metadata": {},
   "outputs": [],
   "source": [
    "gt_save(g, 'david.net.gz')"
   ]
  },
  {
   "cell_type": "markdown",
   "id": "96220586",
   "metadata": {},
   "source": [
    "## Compilando e renderizando o grafo"
   ]
  },
  {
   "cell_type": "code",
   "execution_count": null,
   "id": "6df3db18",
   "metadata": {},
   "outputs": [],
   "source": [
    "g = gt_load('david.net.gz')\n",
    "r = netpixi.render('david.net.gz')"
   ]
  },
  {
   "cell_type": "markdown",
   "id": "2a440a5d",
   "metadata": {},
   "source": [
    "## Melhorando visualmento o grafo"
   ]
  },
  {
   "cell_type": "code",
   "execution_count": null,
   "id": "eec2b698",
   "metadata": {},
   "outputs": [],
   "source": [
    "# mudar a cor de fundo do grafo\n",
    "r.graph(color=0xffffff)\n",
    "\n",
    "# mudar a cor e o tamanho dos vértices\n",
    "r.vertex_default(color=0x000000, size=10)\n",
    "\n",
    "# mudar um vértice específico a partir de seu id\n",
    "r.vertex(0, color=0xff0000, size=20)\n",
    "r.vertex(1, color=0xff0000, size=20)\n",
    "\n",
    "# mudar a cor, a espessura e a curvatura das arestas\n",
    "r.edge_default(color=0x000000, width=1, curve1=1, curve2=1)"
   ]
  },
  {
   "cell_type": "markdown",
   "id": "1bae4faa",
   "metadata": {},
   "source": [
    "## Análise exploratória do grafo"
   ]
  },
  {
   "cell_type": "code",
   "execution_count": null,
   "id": "54cd26b6",
   "metadata": {},
   "outputs": [],
   "source": [
    "# Números de vértices\n",
    "\n",
    "n = g.num_vertices()\n",
    "n"
   ]
  },
  {
   "cell_type": "code",
   "execution_count": null,
   "id": "8fe1561d",
   "metadata": {},
   "outputs": [],
   "source": [
    "# Número de arestas\n",
    "\n",
    "m = g.num_edges()\n",
    "m"
   ]
  },
  {
   "cell_type": "code",
   "execution_count": null,
   "id": "803ae8e8",
   "metadata": {},
   "outputs": [],
   "source": [
    "# Número máximo possível de arestas\n",
    "\n",
    "if g.is_directed():\n",
    "    max_edges = n * (n - 1)\n",
    "else:\n",
    "    max_edges = n * (n - 1) // 2\n",
    "max_edges"
   ]
  },
  {
   "cell_type": "code",
   "execution_count": null,
   "id": "4197d6bd",
   "metadata": {
    "scrolled": true
   },
   "outputs": [],
   "source": [
    "# Densidade\n",
    "\n",
    "d = m / max_edges\n",
    "d"
   ]
  },
  {
   "cell_type": "code",
   "execution_count": null,
   "id": "f8ebcccc",
   "metadata": {},
   "outputs": [],
   "source": [
    "# Propriedades de cada vértice\n",
    "\n",
    "data = gt_data(g)\n",
    "\n",
    "# Degree\n",
    "\n",
    "degrees = []\n",
    "for v in g.all_vertices():\n",
    "    degrees.append(v.total_degree())\n",
    "    \n",
    "data['degree'] = degrees\n",
    "data"
   ]
  },
  {
   "cell_type": "code",
   "execution_count": null,
   "id": "e8e92d96",
   "metadata": {},
   "outputs": [],
   "source": [
    "# Histograma do degree\n",
    "\n",
    "sns.histplot(data['degree']);"
   ]
  },
  {
   "cell_type": "markdown",
   "id": "6dda6ccd",
   "metadata": {},
   "source": [
    "## Limpando o grafo"
   ]
  },
  {
   "cell_type": "code",
   "execution_count": null,
   "id": "59b5656a",
   "metadata": {},
   "outputs": [],
   "source": [
    "g = gt_clean(g)\n",
    "m = gt_draw.sfdp_layout(g)\n",
    "gt_move(g, m)\n",
    "gt_save(g, 'david.net.gz')\n",
    "netpixi.render('david.net.gz', infinite=True);"
   ]
  }
 ],
 "metadata": {
  "kernelspec": {
   "display_name": "Python 3 (ipykernel)",
   "language": "python",
   "name": "python3"
  },
  "language_info": {
   "codemirror_mode": {
    "name": "ipython",
    "version": 3
   },
   "file_extension": ".py",
   "mimetype": "text/x-python",
   "name": "python",
   "nbconvert_exporter": "python",
   "pygments_lexer": "ipython3",
   "version": "3.10.10"
  }
 },
 "nbformat": 4,
 "nbformat_minor": 5
}
