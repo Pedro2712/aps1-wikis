{
 "cells": [
  {
   "cell_type": "markdown",
   "id": "b4a21b94",
   "metadata": {},
   "source": [
    "# Analisando o grafo"
   ]
  },
  {
   "cell_type": "markdown",
   "id": "38ce4ced",
   "metadata": {},
   "source": [
    "## Imports"
   ]
  },
  {
   "cell_type": "code",
   "execution_count": null,
   "id": "19580da7",
   "metadata": {
    "scrolled": true
   },
   "outputs": [],
   "source": [
    "import netpixi\n",
    "from netpixi.integration.gt import Graph\n",
    "from netpixi.integration.gt import *\n",
    "\n",
    "from regression.integration.gt import *\n",
    "\n",
    "import seaborn as sns\n",
    "\n",
    "import cpnet\n",
    "\n",
    "from graph_tool import spectral\n",
    "from graph_tool import clustering\n",
    "\n",
    "import numpy as np\n",
    "\n",
    "import pandas as pd\n",
    "\n",
    "import regression as reg\n",
    "\n",
    "from scipy import stats\n",
    "\n",
    "from matplotlib import pyplot as plt\n",
    "\n",
    "import gzip\n",
    "\n",
    "import json"
   ]
  },
  {
   "cell_type": "markdown",
   "id": "96220586",
   "metadata": {},
   "source": [
    "## Compilando e renderizando o grafo"
   ]
  },
  {
   "cell_type": "code",
   "execution_count": null,
   "id": "6df3db18",
   "metadata": {},
   "outputs": [],
   "source": [
    "g = gt_load('git_hub_sfdp.net.gz')\n",
    "r = netpixi.render('git_hub_sfdp.net.gz')"
   ]
  },
  {
   "cell_type": "markdown",
   "id": "2a440a5d",
   "metadata": {},
   "source": [
    "## Melhorando visualmento o grafo"
   ]
  },
  {
   "cell_type": "code",
   "execution_count": null,
   "id": "eec2b698",
   "metadata": {},
   "outputs": [],
   "source": [
    "# mudar a cor de fundo do grafo\n",
    "r.graph(color=0xffffff)\n",
    "\n",
    "# mudar a cor e o tamanho dos vértices\n",
    "r.vertex_default(color=0x000000, size=10)\n",
    "\n",
    "# mudar a cor, a espessura e a curvatura das arestas\n",
    "r.edge_default(color=0x000000, width=1, curve1=1, curve2=1)"
   ]
  },
  {
   "cell_type": "markdown",
   "id": "1bae4faa",
   "metadata": {},
   "source": [
    "## Análise exploratória do grafo"
   ]
  },
  {
   "cell_type": "code",
   "execution_count": null,
   "id": "54cd26b6",
   "metadata": {},
   "outputs": [],
   "source": [
    "# Números de vértices\n",
    "n = g.num_vertices()\n",
    "\n",
    "# Número de arestas\n",
    "m = g.num_edges()\n",
    "\n",
    "# Número máximo possível de arestas\n",
    "if g.is_directed():\n",
    "    max_edges = n * (n - 1)\n",
    "else:\n",
    "    max_edges = n * (n - 1) // 2\n",
    "    \n",
    "# Densidade\n",
    "d = m / max_edges\n",
    "\n",
    "\n",
    "print(f\"\"\"Números de vértices: {n}\n",
    "\n",
    "Número de arestas: {m}\n",
    "\n",
    "Número máximo possível de arestas: {max_edges}\n",
    "\n",
    "Densidade: {d}\"\"\")"
   ]
  },
  {
   "cell_type": "code",
   "execution_count": null,
   "id": "f8ebcccc",
   "metadata": {},
   "outputs": [],
   "source": [
    "# Propriedades de cada vértice\n",
    "data = gt_data(g)\n",
    "\n",
    "# Degree\n",
    "degrees = []\n",
    "for v in g.all_vertices():\n",
    "    degrees.append(v.total_degree())\n",
    "    \n",
    "data['degree'] = degrees\n",
    "\n",
    "# Histograma do degree\n",
    "sns.histplot(data['degree']);\n",
    "data['degree'].describe()"
   ]
  },
  {
   "cell_type": "markdown",
   "id": "97ccb9d0",
   "metadata": {},
   "source": [
    "## Análise das variáveis dependentes e independentes"
   ]
  },
  {
   "cell_type": "markdown",
   "id": "fa861bb1",
   "metadata": {},
   "source": [
    "### Criando um novo dataset"
   ]
  },
  {
   "cell_type": "code",
   "execution_count": null,
   "id": "c8e23e43",
   "metadata": {},
   "outputs": [],
   "source": [
    "# Dataset refatorado\n",
    "data_refatorado = pd.read_csv('Github_data_refatorado.csv')\n",
    "\n",
    "# Dataset do grafo\n",
    "data_grafo = data_refatorado.copy()"
   ]
  },
  {
   "cell_type": "markdown",
   "id": "eacfa4ab",
   "metadata": {},
   "source": [
    "### Coletando os dados"
   ]
  },
  {
   "cell_type": "code",
   "execution_count": null,
   "id": "0ff2ea37",
   "metadata": {
    "scrolled": true
   },
   "outputs": [],
   "source": [
    "# Coletando o clustering coefficient de cada vértice\n",
    "\n",
    "lc = clustering.local_clustering(g)\n",
    "\n",
    "clustering = [] # Lista de clustering coefficient de cada vértice\n",
    "for value in lc:\n",
    "    clustering.append(value)"
   ]
  },
  {
   "cell_type": "code",
   "execution_count": null,
   "id": "d2d2c478",
   "metadata": {},
   "outputs": [],
   "source": [
    "# Coletando o nome dos vértices do grafo\n",
    "\n",
    "nome_arquivo_comprimido = 'git_hub_sfdp.net.gz'\n",
    "nome_arquivo_descompactado = [] # Lista dos nomes dos vértices do grafo\n",
    "\n",
    "try:\n",
    "    with gzip.open(nome_arquivo_comprimido, 'r') as arquivo_comprimido:\n",
    "        arquivo_comprimido.readline()\n",
    "        for linha in arquivo_comprimido:\n",
    "            objeto = json.loads(linha.decode('utf-8'))\n",
    "            nome_arquivo_descompactado.append(objeto['props']['_id'])\n",
    "except:\n",
    "    print(\"Nome dos vértices coletados\")"
   ]
  },
  {
   "cell_type": "markdown",
   "id": "8ddd19fc",
   "metadata": {},
   "source": [
    "### Alterando o dataset"
   ]
  },
  {
   "cell_type": "code",
   "execution_count": null,
   "id": "d0bdad09",
   "metadata": {},
   "outputs": [],
   "source": [
    "# Filtrando o dataset para somente as os vértices do grafo\n",
    "data_grafo = data_grafo.loc[data_grafo['name'].isin(nome_arquivo_descompactado)]\n",
    "\n",
    "# Colocando log nos commits\n",
    "data_grafo['commits'] = np.log(data_grafo['commits'])\n",
    "\n",
    "# Colocando log nas stars\n",
    "data_grafo['star'] = np.log(data_grafo['star'])\n",
    "\n",
    "# Adicionando clustering coefficient (CC) na tabela\n",
    "data_grafo['CC'] = clustering\n",
    "\n",
    "# Adicionando degrees na tabela\n",
    "data_grafo['degree'] = degrees\n",
    "\n",
    "# Adicionando pertencimento a comunidade (PC) na tabela\n",
    "data_grafo['PC'] = data_grafo['degree'] * data_grafo['CC'] "
   ]
  },
  {
   "cell_type": "code",
   "execution_count": null,
   "id": "d97b4ea0",
   "metadata": {
    "scrolled": false
   },
   "outputs": [],
   "source": [
    "data_grafo.loc[:, ['name', 'star', 'topic_tag', 'commits', 'CC', 'degree', 'PC']]"
   ]
  },
  {
   "cell_type": "markdown",
   "id": "eadcca7a",
   "metadata": {},
   "source": [
    "### Resultados"
   ]
  },
  {
   "cell_type": "code",
   "execution_count": null,
   "id": "3c58f74c",
   "metadata": {
    "scrolled": false
   },
   "outputs": [],
   "source": [
    "result = reg.linear(data=data_grafo, formula='commits ~ PC + star')"
   ]
  },
  {
   "cell_type": "code",
   "execution_count": null,
   "id": "6499c02f",
   "metadata": {},
   "outputs": [],
   "source": [
    "result.micro_summary()"
   ]
  },
  {
   "cell_type": "code",
   "execution_count": null,
   "id": "53fd893e",
   "metadata": {},
   "outputs": [],
   "source": [
    "result.nano_summary()"
   ]
  },
  {
   "cell_type": "code",
   "execution_count": null,
   "id": "61b98ce2",
   "metadata": {
    "scrolled": false
   },
   "outputs": [],
   "source": [
    "# Plotando os gráficos de distribuição linear\n",
    "\n",
    "# Criando subplot\n",
    "fig, axes = plt.subplots(1, 2, figsize=(10, 4))\n",
    "\n",
    "# Plotando os gráficos\n",
    "sns.scatterplot(x=data_grafo[\"commits\"], y=data_grafo[\"PC\"], # Dados\n",
    "                edgecolor='white', linewidth=0.6, # Personalizando\n",
    "                ax=axes[0]); # Subplot\n",
    "\n",
    "sns.regplot(x=data_grafo[\"commits\"], y=data_grafo[\"PC\"], # Dados\n",
    "            scatter_kws={\"edgecolor\": \"white\", \"linewidth\": 0.6}, # Personalizando\n",
    "            ax=axes[1]); # Subplot\n",
    "\n",
    "plt.tight_layout()\n",
    "plt.show()"
   ]
  },
  {
   "cell_type": "code",
   "execution_count": null,
   "id": "8456273d",
   "metadata": {
    "scrolled": false
   },
   "outputs": [],
   "source": [
    "# Plotando o gráfico de resíduos\n",
    "result.plot_residuals()"
   ]
  }
 ],
 "metadata": {
  "kernelspec": {
   "display_name": "Python 3 (ipykernel)",
   "language": "python",
   "name": "python3"
  },
  "language_info": {
   "codemirror_mode": {
    "name": "ipython",
    "version": 3
   },
   "file_extension": ".py",
   "mimetype": "text/x-python",
   "name": "python",
   "nbconvert_exporter": "python",
   "pygments_lexer": "ipython3",
   "version": "3.10.10"
  }
 },
 "nbformat": 4,
 "nbformat_minor": 5
}
