{
 "cells": [
  {
   "cell_type": "markdown",
   "id": "c514a19a",
   "metadata": {},
   "source": [
    "# Refatorando o dataset para facilitar a sua análise"
   ]
  },
  {
   "cell_type": "markdown",
   "id": "53d5186e",
   "metadata": {},
   "source": [
    "## Imports"
   ]
  },
  {
   "cell_type": "code",
   "execution_count": null,
   "id": "7840b541",
   "metadata": {},
   "outputs": [],
   "source": [
    "import pandas as pd\n",
    "\n",
    "import ast\n",
    "\n",
    "from difflib import SequenceMatcher"
   ]
  },
  {
   "cell_type": "markdown",
   "id": "0442a8dc",
   "metadata": {},
   "source": [
    "## Funções"
   ]
  },
  {
   "cell_type": "code",
   "execution_count": null,
   "id": "85aec2cb",
   "metadata": {},
   "outputs": [],
   "source": [
    "def convert_k_to_int(linha):\n",
    "    if 'k' in linha:\n",
    "        linha = linha.replace(\"k\", \"\")\n",
    "        linha = float(linha) * 1000\n",
    "    else:\n",
    "        linha = float(linha)\n",
    "    return linha\n",
    "\n",
    "def remove_comma(linha):\n",
    "    linha = str(linha).replace(\",\", \"\")\n",
    "    return linha"
   ]
  },
  {
   "cell_type": "markdown",
   "id": "46dcc2cc",
   "metadata": {},
   "source": [
    "## Refatorando"
   ]
  },
  {
   "cell_type": "code",
   "execution_count": null,
   "id": "252a4892",
   "metadata": {},
   "outputs": [],
   "source": [
    "# Dataset original\n",
    "data_original = pd.read_csv('Github_data.txt')\n",
    "\n",
    "# Dataset refatorado\n",
    "data_refatorado = data_original.copy()"
   ]
  },
  {
   "cell_type": "code",
   "execution_count": null,
   "id": "a974846a",
   "metadata": {},
   "outputs": [],
   "source": [
    "data_original"
   ]
  },
  {
   "cell_type": "code",
   "execution_count": null,
   "id": "ec72bbf1",
   "metadata": {},
   "outputs": [],
   "source": [
    "# Trocando o \"k\"(mil) para int(1000) na coluna \"star\"\n",
    "data_refatorado['star'] = data_refatorado['star'].apply(convert_k_to_int)\n",
    "\n",
    "# Tirando \",\" na coluna \"commits\"\n",
    "data_refatorado['commits'] = data_refatorado['commits'].apply(remove_comma)"
   ]
  },
  {
   "cell_type": "code",
   "execution_count": null,
   "id": "6dda058a",
   "metadata": {},
   "outputs": [],
   "source": [
    "# Trocando os nomes repetidos por um \"novo\" nome, impedindo que haja nomes repetidos no dataset\n",
    "\n",
    "nomes = []\n",
    "nomes_repitidos = {}\n",
    "\n",
    "for i, name in enumerate(data_refatorado['name']):\n",
    "    name = name.lower()\n",
    "    if name not in nomes:\n",
    "        nomes.append(name)\n",
    "        nomes_repitidos[name] = 1\n",
    "    else:\n",
    "        nomes_repitidos[name] = nomes_repitidos[name] + 1\n",
    "        nomes.append(f\"{name}_{nomes_repitidos[name]}\")\n",
    "        data_refatorado.at[i, 'name'] = f\"{name}_{nomes_repitidos[name]}\""
   ]
  },
  {
   "cell_type": "code",
   "execution_count": null,
   "id": "b2783161",
   "metadata": {},
   "outputs": [],
   "source": [
    "# Para os repositórios com topic_tag vazio, adicionamos o próprio tópico a lista\n",
    "\n",
    "for i, value in enumerate(data_refatorado[\"topic_tag\"]):\n",
    "    if value == \"[]\":\n",
    "        data_refatorado.at[i, \"topic_tag\"] = \"['\" + data_refatorado.at[i,\"topic\"] + \"']\""
   ]
  },
  {
   "cell_type": "code",
   "execution_count": null,
   "id": "f8f17276",
   "metadata": {},
   "outputs": [],
   "source": [
    "# Topicos escritos similarmente se tornam iguais\n",
    "\n",
    "dicio={} # {letra: [topicos que começam com a letra]}\n",
    "contador = 0\n",
    "for index, row in data_refatorado.iterrows():\n",
    "    cell_value = row[\"topic_tag\"].lower() # valor da célula em str\n",
    "    list_result = ast.literal_eval(cell_value) # valor da célula em list\n",
    "    \n",
    "    new_topic_tag = []\n",
    "    for topico in list_result:\n",
    "        estado = True\n",
    "        first_letter = topico[0]\n",
    "        if first_letter not in dicio.keys():\n",
    "            dicio[first_letter] = [topico]\n",
    "        else:\n",
    "            for topico_dicio in dicio[first_letter]:\n",
    "                if SequenceMatcher(None, topico, topico_dicio).ratio() >= 0.95:\n",
    "                    topico = topico_dicio\n",
    "                    estado = False\n",
    "            if estado == True:\n",
    "                dicio[first_letter].append(topico)\n",
    "        new_topic_tag.append(topico)\n",
    "                \n",
    "    data_refatorado.at[index, \"topic_tag\"] = str(new_topic_tag)\n",
    "    \n",
    "    contador+=1\n",
    "    print(f\"{contador}/{len(data_refatorado)}\", end = \"\\r\")"
   ]
  },
  {
   "cell_type": "markdown",
   "id": "f0a23ed6",
   "metadata": {},
   "source": [
    "## Mostrando o dataset refatorado"
   ]
  },
  {
   "cell_type": "code",
   "execution_count": null,
   "id": "b1d57b13",
   "metadata": {},
   "outputs": [],
   "source": [
    "data_refatorado"
   ]
  },
  {
   "cell_type": "code",
   "execution_count": null,
   "id": "6eff140d",
   "metadata": {
    "scrolled": false
   },
   "outputs": [],
   "source": [
    "# Mostrando apenas as colunas que utilizamos na análise\n",
    "data_refatorado.loc[:, ['topic', 'name', 'star', 'topic_tag', 'commits']]"
   ]
  },
  {
   "cell_type": "markdown",
   "id": "eabfe90a",
   "metadata": {},
   "source": [
    "## Salvando o dataset refatorado"
   ]
  },
  {
   "cell_type": "code",
   "execution_count": null,
   "id": "272e6071",
   "metadata": {},
   "outputs": [],
   "source": [
    "data_refatorado.to_csv('Github_data_refatorado.csv', index=False)"
   ]
  }
 ],
 "metadata": {
  "kernelspec": {
   "display_name": "Python 3 (ipykernel)",
   "language": "python",
   "name": "python3"
  },
  "language_info": {
   "codemirror_mode": {
    "name": "ipython",
    "version": 3
   },
   "file_extension": ".py",
   "mimetype": "text/x-python",
   "name": "python",
   "nbconvert_exporter": "python",
   "pygments_lexer": "ipython3",
   "version": "3.10.10"
  }
 },
 "nbformat": 4,
 "nbformat_minor": 5
}
