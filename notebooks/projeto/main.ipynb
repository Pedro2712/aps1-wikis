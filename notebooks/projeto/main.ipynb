{
 "cells": [
  {
   "cell_type": "markdown",
   "id": "38ce4ced",
   "metadata": {},
   "source": [
    "## Importando as bibliotecas"
   ]
  },
  {
   "cell_type": "code",
   "execution_count": 1,
   "id": "da5e58c8",
   "metadata": {},
   "outputs": [],
   "source": [
    "from difflib import SequenceMatcher"
   ]
  },
  {
   "cell_type": "code",
   "execution_count": 2,
   "id": "19580da7",
   "metadata": {
    "scrolled": true
   },
   "outputs": [
    {
     "data": {
      "text/html": [
       "\n",
       "    <script src=\"/files/netpixi.min.js\"></script>\n"
      ],
      "text/plain": [
       "<IPython.core.display.HTML object>"
      ]
     },
     "metadata": {},
     "output_type": "display_data"
    },
    {
     "name": "stderr",
     "output_type": "stream",
     "text": [
      "<frozen importlib._bootstrap>:914: ImportWarning: VendorImporter.find_spec() not found; falling back to find_module()\n",
      "<frozen importlib._bootstrap>:914: ImportWarning: VendorImporter.find_spec() not found; falling back to find_module()\n",
      "<frozen importlib._bootstrap>:914: ImportWarning: VendorImporter.find_spec() not found; falling back to find_module()\n"
     ]
    }
   ],
   "source": [
    "import netpixi\n",
    "from netpixi.integration.gt import Graph\n",
    "from netpixi.integration.gt import *\n",
    "import seaborn as sns\n",
    "from regression.integration.gt import *\n",
    "\n",
    "import cpnet\n",
    "\n",
    "from graph_tool import spectral\n",
    "from graph_tool import clustering\n",
    "\n",
    "import itertools\n"
   ]
  },
  {
   "cell_type": "code",
   "execution_count": 3,
   "id": "9b42a9d8",
   "metadata": {},
   "outputs": [],
   "source": [
    "import numpy as np\n",
    "import pandas as pd\n",
    "import seaborn as sns\n",
    "import regression as reg\n",
    "\n",
    "from scipy import stats\n",
    "from matplotlib import pyplot as plt"
   ]
  },
  {
   "cell_type": "markdown",
   "id": "8dbed258",
   "metadata": {},
   "source": [
    "## Refatorando o banco de dados"
   ]
  },
  {
   "cell_type": "code",
   "execution_count": 4,
   "id": "794e712c",
   "metadata": {},
   "outputs": [],
   "source": [
    "def convert_k_to_int(linha):\n",
    "    linha = str(linha).replace(\",\", \"\")\n",
    "    if 'k' in linha:\n",
    "        linha = linha.replace(\"k\", \"\")\n",
    "        linha = float(linha) * 1000\n",
    "    else:\n",
    "        linha = float(linha)\n",
    "    return linha"
   ]
  },
  {
   "cell_type": "code",
   "execution_count": 5,
   "id": "7df1af68",
   "metadata": {},
   "outputs": [],
   "source": [
    "data = pd.read_csv('Github_data.txt')"
   ]
  },
  {
   "cell_type": "code",
   "execution_count": 6,
   "id": "6a86b3cf",
   "metadata": {},
   "outputs": [],
   "source": [
    "data['star'] = data['star'].apply(convert_k_to_int)\n",
    "data['commits'] = data['commits'].apply(convert_k_to_int)"
   ]
  },
  {
   "cell_type": "code",
   "execution_count": 7,
   "id": "4c029541",
   "metadata": {},
   "outputs": [
    {
     "data": {
      "text/html": [
       "<div>\n",
       "<style scoped>\n",
       "    .dataframe tbody tr th:only-of-type {\n",
       "        vertical-align: middle;\n",
       "    }\n",
       "\n",
       "    .dataframe tbody tr th {\n",
       "        vertical-align: top;\n",
       "    }\n",
       "\n",
       "    .dataframe thead th {\n",
       "        text-align: right;\n",
       "    }\n",
       "</style>\n",
       "<table border=\"1\" class=\"dataframe\">\n",
       "  <thead>\n",
       "    <tr style=\"text-align: right;\">\n",
       "      <th></th>\n",
       "      <th>Unnamed: 0.1</th>\n",
       "      <th>Unnamed: 0</th>\n",
       "      <th>topic</th>\n",
       "      <th>name</th>\n",
       "      <th>user</th>\n",
       "      <th>star</th>\n",
       "      <th>fork</th>\n",
       "      <th>watch</th>\n",
       "      <th>issue</th>\n",
       "      <th>pull_requests</th>\n",
       "      <th>...</th>\n",
       "      <th>topic_tag</th>\n",
       "      <th>discription_text</th>\n",
       "      <th>discription_url</th>\n",
       "      <th>commits</th>\n",
       "      <th>branches</th>\n",
       "      <th>packages</th>\n",
       "      <th>releases</th>\n",
       "      <th>contributers</th>\n",
       "      <th>License</th>\n",
       "      <th>url</th>\n",
       "    </tr>\n",
       "  </thead>\n",
       "  <tbody>\n",
       "    <tr>\n",
       "      <th>0</th>\n",
       "      <td>0</td>\n",
       "      <td>0</td>\n",
       "      <td>Data-Science</td>\n",
       "      <td>keras</td>\n",
       "      <td>keras-team</td>\n",
       "      <td>47900.0</td>\n",
       "      <td>18.1k</td>\n",
       "      <td>2.1k</td>\n",
       "      <td>2,940</td>\n",
       "      <td>87</td>\n",
       "      <td>...</td>\n",
       "      <td>['deep-learning', 'tensorflow', 'neural-networ...</td>\n",
       "      <td>Deep Learning for humans</td>\n",
       "      <td>http://keras.io/</td>\n",
       "      <td>5342.0</td>\n",
       "      <td>6</td>\n",
       "      <td>0</td>\n",
       "      <td>0</td>\n",
       "      <td>49</td>\n",
       "      <td>View license</td>\n",
       "      <td>https://github.com/keras-team/keras</td>\n",
       "    </tr>\n",
       "    <tr>\n",
       "      <th>1</th>\n",
       "      <td>1</td>\n",
       "      <td>1</td>\n",
       "      <td>Data-Science</td>\n",
       "      <td>scikit-learn</td>\n",
       "      <td>scikit-learn</td>\n",
       "      <td>40300.0</td>\n",
       "      <td>19.6k</td>\n",
       "      <td>2.2k</td>\n",
       "      <td>1,505</td>\n",
       "      <td>764</td>\n",
       "      <td>...</td>\n",
       "      <td>['machine-learning', 'python', 'statistics', '...</td>\n",
       "      <td>scikit-learn: machine learning in Python</td>\n",
       "      <td>https://scikit-learn.org</td>\n",
       "      <td>25405.0</td>\n",
       "      <td>21</td>\n",
       "      <td>0</td>\n",
       "      <td>0</td>\n",
       "      <td>108</td>\n",
       "      <td>View license</td>\n",
       "      <td>https://github.com/scikit-learn/scikit-learn</td>\n",
       "    </tr>\n",
       "    <tr>\n",
       "      <th>2</th>\n",
       "      <td>2</td>\n",
       "      <td>2</td>\n",
       "      <td>Data-Science</td>\n",
       "      <td>PythonDataScienceHandbook</td>\n",
       "      <td>jakevdp</td>\n",
       "      <td>23100.0</td>\n",
       "      <td>9.9k</td>\n",
       "      <td>1.5k</td>\n",
       "      <td>65</td>\n",
       "      <td>67</td>\n",
       "      <td>...</td>\n",
       "      <td>['scikit-learn', 'numpy', 'python', 'jupyter-n...</td>\n",
       "      <td>Python Data Science Handbook: full text in Jup...</td>\n",
       "      <td>http://jakevdp.github.io/PythonDataSc…</td>\n",
       "      <td>234.0</td>\n",
       "      <td>5</td>\n",
       "      <td>0</td>\n",
       "      <td>0</td>\n",
       "      <td>0</td>\n",
       "      <td>View license</td>\n",
       "      <td>https://github.com/jakevdp/PythonDataScienceHa...</td>\n",
       "    </tr>\n",
       "    <tr>\n",
       "      <th>3</th>\n",
       "      <td>3</td>\n",
       "      <td>3</td>\n",
       "      <td>Data-Science</td>\n",
       "      <td>Probabilistic-Programming-and-Bayesian-Methods...</td>\n",
       "      <td>CamDavidsonPilon</td>\n",
       "      <td>21000.0</td>\n",
       "      <td>6.6k</td>\n",
       "      <td>1.4k</td>\n",
       "      <td>127</td>\n",
       "      <td>38</td>\n",
       "      <td>...</td>\n",
       "      <td>['bayesian-methods', 'pymc', 'mathematical-ana...</td>\n",
       "      <td>aka \"Bayesian Methods for Hackers\": An introdu...</td>\n",
       "      <td>http://camdavidsonpilon.github.io/Pro…</td>\n",
       "      <td>1079.0</td>\n",
       "      <td>3</td>\n",
       "      <td>0</td>\n",
       "      <td>0</td>\n",
       "      <td>0</td>\n",
       "      <td>MIT</td>\n",
       "      <td>https://github.com/CamDavidsonPilon/Probabilis...</td>\n",
       "    </tr>\n",
       "    <tr>\n",
       "      <th>4</th>\n",
       "      <td>4</td>\n",
       "      <td>4</td>\n",
       "      <td>Data-Science</td>\n",
       "      <td>Data-Science--Cheat-Sheet</td>\n",
       "      <td>abhat222</td>\n",
       "      <td>18400.0</td>\n",
       "      <td>8.2k</td>\n",
       "      <td>1.5k</td>\n",
       "      <td>7</td>\n",
       "      <td>0</td>\n",
       "      <td>...</td>\n",
       "      <td>[]</td>\n",
       "      <td>Cheat Sheets</td>\n",
       "      <td>NaN</td>\n",
       "      <td>363.0</td>\n",
       "      <td>3</td>\n",
       "      <td>0</td>\n",
       "      <td>0</td>\n",
       "      <td>0</td>\n",
       "      <td>Fetching contributors</td>\n",
       "      <td>https://github.com/abhat222/Data-Science--Chea...</td>\n",
       "    </tr>\n",
       "    <tr>\n",
       "      <th>...</th>\n",
       "      <td>...</td>\n",
       "      <td>...</td>\n",
       "      <td>...</td>\n",
       "      <td>...</td>\n",
       "      <td>...</td>\n",
       "      <td>...</td>\n",
       "      <td>...</td>\n",
       "      <td>...</td>\n",
       "      <td>...</td>\n",
       "      <td>...</td>\n",
       "      <td>...</td>\n",
       "      <td>...</td>\n",
       "      <td>...</td>\n",
       "      <td>...</td>\n",
       "      <td>...</td>\n",
       "      <td>...</td>\n",
       "      <td>...</td>\n",
       "      <td>...</td>\n",
       "      <td>...</td>\n",
       "      <td>...</td>\n",
       "      <td>...</td>\n",
       "    </tr>\n",
       "    <tr>\n",
       "      <th>1495</th>\n",
       "      <td>295</td>\n",
       "      <td>95</td>\n",
       "      <td>sensor</td>\n",
       "      <td>react-native-sensor-manager</td>\n",
       "      <td>kprimice</td>\n",
       "      <td>199.0</td>\n",
       "      <td>53</td>\n",
       "      <td>7</td>\n",
       "      <td>19</td>\n",
       "      <td>5</td>\n",
       "      <td>...</td>\n",
       "      <td>[]</td>\n",
       "      <td>Native sensors access for react-native</td>\n",
       "      <td>NaN</td>\n",
       "      <td>45.0</td>\n",
       "      <td>1</td>\n",
       "      <td>0</td>\n",
       "      <td>0</td>\n",
       "      <td>0</td>\n",
       "      <td>Fetching contributors</td>\n",
       "      <td>https://github.com/kprimice/react-native-senso...</td>\n",
       "    </tr>\n",
       "    <tr>\n",
       "      <th>1496</th>\n",
       "      <td>296</td>\n",
       "      <td>96</td>\n",
       "      <td>sensor</td>\n",
       "      <td>weatherstation</td>\n",
       "      <td>androidthings</td>\n",
       "      <td>199.0</td>\n",
       "      <td>72</td>\n",
       "      <td>31</td>\n",
       "      <td>4</td>\n",
       "      <td>0</td>\n",
       "      <td>...</td>\n",
       "      <td>['android-things', 'google-cloud-pubsub']</td>\n",
       "      <td>Sensor-based peripheral sample using Android T...</td>\n",
       "      <td>NaN</td>\n",
       "      <td>64.0</td>\n",
       "      <td>2</td>\n",
       "      <td>0</td>\n",
       "      <td>0</td>\n",
       "      <td>0</td>\n",
       "      <td>Apache-2.0</td>\n",
       "      <td>https://github.com/androidthings/weatherstation</td>\n",
       "    </tr>\n",
       "    <tr>\n",
       "      <th>1497</th>\n",
       "      <td>297</td>\n",
       "      <td>97</td>\n",
       "      <td>sensor</td>\n",
       "      <td>OctoPrint-Enclosure</td>\n",
       "      <td>vitormhenrique</td>\n",
       "      <td>198.0</td>\n",
       "      <td>77</td>\n",
       "      <td>32</td>\n",
       "      <td>63</td>\n",
       "      <td>2</td>\n",
       "      <td>...</td>\n",
       "      <td>['temperature-sensor', 'enclosure', 'raspberry...</td>\n",
       "      <td>OctoPrint Enclosure Plugin</td>\n",
       "      <td>NaN</td>\n",
       "      <td>415.0</td>\n",
       "      <td>3</td>\n",
       "      <td>0</td>\n",
       "      <td>0</td>\n",
       "      <td>38</td>\n",
       "      <td>GPL-3.0</td>\n",
       "      <td>https://github.com/vitormhenrique/OctoPrint-En...</td>\n",
       "    </tr>\n",
       "    <tr>\n",
       "      <th>1498</th>\n",
       "      <td>298</td>\n",
       "      <td>98</td>\n",
       "      <td>sensor</td>\n",
       "      <td>SensorDashboard</td>\n",
       "      <td>pocmo</td>\n",
       "      <td>197.0</td>\n",
       "      <td>110</td>\n",
       "      <td>25</td>\n",
       "      <td>0</td>\n",
       "      <td>0</td>\n",
       "      <td>...</td>\n",
       "      <td>[]</td>\n",
       "      <td>A sensor dashboard for Android plotting all se...</td>\n",
       "      <td>NaN</td>\n",
       "      <td>103.0</td>\n",
       "      <td>2</td>\n",
       "      <td>0</td>\n",
       "      <td>0</td>\n",
       "      <td>0</td>\n",
       "      <td>Apache-2.0</td>\n",
       "      <td>https://github.com/pocmo/SensorDashboard</td>\n",
       "    </tr>\n",
       "    <tr>\n",
       "      <th>1499</th>\n",
       "      <td>299</td>\n",
       "      <td>99</td>\n",
       "      <td>sensor</td>\n",
       "      <td>BME680_driver</td>\n",
       "      <td>BoschSensortec</td>\n",
       "      <td>197.0</td>\n",
       "      <td>61</td>\n",
       "      <td>44</td>\n",
       "      <td>2</td>\n",
       "      <td>0</td>\n",
       "      <td>...</td>\n",
       "      <td>[]</td>\n",
       "      <td>BME680 sensor driver / API including example g...</td>\n",
       "      <td>https://community.bosch-sensortec.com/t5/Bosch...</td>\n",
       "      <td>28.0</td>\n",
       "      <td>1</td>\n",
       "      <td>0</td>\n",
       "      <td>0</td>\n",
       "      <td>11</td>\n",
       "      <td>BSD-3-Clause</td>\n",
       "      <td>https://github.com/BoschSensortec/BME680_driver</td>\n",
       "    </tr>\n",
       "  </tbody>\n",
       "</table>\n",
       "<p>1500 rows × 21 columns</p>\n",
       "</div>"
      ],
      "text/plain": [
       "      Unnamed: 0.1  Unnamed: 0         topic  \\\n",
       "0                0           0  Data-Science   \n",
       "1                1           1  Data-Science   \n",
       "2                2           2  Data-Science   \n",
       "3                3           3  Data-Science   \n",
       "4                4           4  Data-Science   \n",
       "...            ...         ...           ...   \n",
       "1495           295          95        sensor   \n",
       "1496           296          96        sensor   \n",
       "1497           297          97        sensor   \n",
       "1498           298          98        sensor   \n",
       "1499           299          99        sensor   \n",
       "\n",
       "                                                   name              user  \\\n",
       "0                                                 keras        keras-team   \n",
       "1                                          scikit-learn      scikit-learn   \n",
       "2                             PythonDataScienceHandbook           jakevdp   \n",
       "3     Probabilistic-Programming-and-Bayesian-Methods...  CamDavidsonPilon   \n",
       "4                             Data-Science--Cheat-Sheet          abhat222   \n",
       "...                                                 ...               ...   \n",
       "1495                        react-native-sensor-manager          kprimice   \n",
       "1496                                     weatherstation     androidthings   \n",
       "1497                                OctoPrint-Enclosure    vitormhenrique   \n",
       "1498                                    SensorDashboard             pocmo   \n",
       "1499                                      BME680_driver    BoschSensortec   \n",
       "\n",
       "         star   fork watch  issue pull_requests  ...  \\\n",
       "0     47900.0  18.1k  2.1k  2,940            87  ...   \n",
       "1     40300.0  19.6k  2.2k  1,505           764  ...   \n",
       "2     23100.0   9.9k  1.5k     65            67  ...   \n",
       "3     21000.0   6.6k  1.4k    127            38  ...   \n",
       "4     18400.0   8.2k  1.5k      7             0  ...   \n",
       "...       ...    ...   ...    ...           ...  ...   \n",
       "1495    199.0     53     7     19             5  ...   \n",
       "1496    199.0     72    31      4             0  ...   \n",
       "1497    198.0     77    32     63             2  ...   \n",
       "1498    197.0    110    25      0             0  ...   \n",
       "1499    197.0     61    44      2             0  ...   \n",
       "\n",
       "                                              topic_tag  \\\n",
       "0     ['deep-learning', 'tensorflow', 'neural-networ...   \n",
       "1     ['machine-learning', 'python', 'statistics', '...   \n",
       "2     ['scikit-learn', 'numpy', 'python', 'jupyter-n...   \n",
       "3     ['bayesian-methods', 'pymc', 'mathematical-ana...   \n",
       "4                                                    []   \n",
       "...                                                 ...   \n",
       "1495                                                 []   \n",
       "1496          ['android-things', 'google-cloud-pubsub']   \n",
       "1497  ['temperature-sensor', 'enclosure', 'raspberry...   \n",
       "1498                                                 []   \n",
       "1499                                                 []   \n",
       "\n",
       "                                       discription_text  \\\n",
       "0                              Deep Learning for humans   \n",
       "1              scikit-learn: machine learning in Python   \n",
       "2     Python Data Science Handbook: full text in Jup...   \n",
       "3     aka \"Bayesian Methods for Hackers\": An introdu...   \n",
       "4                                          Cheat Sheets   \n",
       "...                                                 ...   \n",
       "1495             Native sensors access for react-native   \n",
       "1496  Sensor-based peripheral sample using Android T...   \n",
       "1497                         OctoPrint Enclosure Plugin   \n",
       "1498  A sensor dashboard for Android plotting all se...   \n",
       "1499  BME680 sensor driver / API including example g...   \n",
       "\n",
       "                                        discription_url  commits  branches  \\\n",
       "0                                      http://keras.io/   5342.0         6   \n",
       "1                              https://scikit-learn.org  25405.0        21   \n",
       "2                http://jakevdp.github.io/PythonDataSc…    234.0         5   \n",
       "3                http://camdavidsonpilon.github.io/Pro…   1079.0         3   \n",
       "4                                                   NaN    363.0         3   \n",
       "...                                                 ...      ...       ...   \n",
       "1495                                                NaN     45.0         1   \n",
       "1496                                                NaN     64.0         2   \n",
       "1497                                                NaN    415.0         3   \n",
       "1498                                                NaN    103.0         2   \n",
       "1499  https://community.bosch-sensortec.com/t5/Bosch...     28.0         1   \n",
       "\n",
       "     packages  releases  contributers                License  \\\n",
       "0           0         0            49           View license   \n",
       "1           0         0           108           View license   \n",
       "2           0         0             0           View license   \n",
       "3           0         0             0                    MIT   \n",
       "4           0         0             0  Fetching contributors   \n",
       "...       ...       ...           ...                    ...   \n",
       "1495        0         0             0  Fetching contributors   \n",
       "1496        0         0             0             Apache-2.0   \n",
       "1497        0         0            38                GPL-3.0   \n",
       "1498        0         0             0             Apache-2.0   \n",
       "1499        0         0            11           BSD-3-Clause   \n",
       "\n",
       "                                                    url  \n",
       "0                   https://github.com/keras-team/keras  \n",
       "1          https://github.com/scikit-learn/scikit-learn  \n",
       "2     https://github.com/jakevdp/PythonDataScienceHa...  \n",
       "3     https://github.com/CamDavidsonPilon/Probabilis...  \n",
       "4     https://github.com/abhat222/Data-Science--Chea...  \n",
       "...                                                 ...  \n",
       "1495  https://github.com/kprimice/react-native-senso...  \n",
       "1496    https://github.com/androidthings/weatherstation  \n",
       "1497  https://github.com/vitormhenrique/OctoPrint-En...  \n",
       "1498           https://github.com/pocmo/SensorDashboard  \n",
       "1499    https://github.com/BoschSensortec/BME680_driver  \n",
       "\n",
       "[1500 rows x 21 columns]"
      ]
     },
     "execution_count": 7,
     "metadata": {},
     "output_type": "execute_result"
    }
   ],
   "source": [
    "data"
   ]
  },
  {
   "cell_type": "code",
   "execution_count": 26,
   "id": "3f8e4a83",
   "metadata": {},
   "outputs": [],
   "source": [
    "nomes = []\n",
    "nomes_repitidos = {}\n",
    "\n",
    "for i, name in enumerate(data['name']):\n",
    "    name = name.lower()\n",
    "    if name not in nomes:\n",
    "        nomes.append(name)\n",
    "        nomes_repitidos[name] = 1\n",
    "    else:\n",
    "        nomes_repitidos[name] = nomes_repitidos[name] + 1\n",
    "        nomes.append(f\"{name}_{nomes_repitidos[name]}\")\n",
    "        data.at[i, 'name'] = f\"{name}_{nomes_repitidos[name]}\""
   ]
  },
  {
   "cell_type": "code",
   "execution_count": 29,
   "id": "f695d5ee",
   "metadata": {},
   "outputs": [],
   "source": [
    "data.to_csv('Github_data_refatorado.csv', index=False)"
   ]
  },
  {
   "cell_type": "markdown",
   "id": "e1957f20",
   "metadata": {},
   "source": [
    "## Criando o grafo"
   ]
  },
  {
   "cell_type": "code",
   "execution_count": 31,
   "id": "039fde2a",
   "metadata": {},
   "outputs": [],
   "source": [
    "g = Graph(directed=False) # não-dirigido\n",
    "\n",
    "t = {}\n",
    "\n",
    "with open('Github_data_refatorado.csv', \"r\") as arquivo:\n",
    "    arquivo.readline()\n",
    "    for linha in arquivo:\n",
    "        try:\n",
    "            div = linha.split(',')\n",
    "            top_tag = linha.split('[')[1].split(']')[0].replace(\"'\", \"\").replace(\" \", \"\").split(\",\")\n",
    "            topic = div[2].lower()\n",
    "            repositorio = div[3]\n",
    "            \n",
    "            if not g.has_vertex(repositorio):\n",
    "                g.add_vertex(repositorio)\n",
    "                if top_tag != ['']:\n",
    "                    t[repositorio] = top_tag\n",
    "                else:\n",
    "                    t[repositorio] = [topic]\n",
    "        except:\n",
    "            continue"
   ]
  },
  {
   "cell_type": "code",
   "execution_count": 32,
   "id": "b5b85230",
   "metadata": {},
   "outputs": [
    {
     "name": "stdout",
     "output_type": "stream",
     "text": [
      "3291\n"
     ]
    }
   ],
   "source": [
    "Lista = list(set(item for sublista in t.values() for item in sublista))\n",
    "print(len(Lista))"
   ]
  },
  {
   "cell_type": "code",
   "execution_count": 33,
   "id": "6dd68ad3",
   "metadata": {},
   "outputs": [],
   "source": [
    "def similar(a, b):\n",
    "    return SequenceMatcher(None, a, b).ratio()\n",
    "\n",
    "def conta_similaridade(lista, lista2):\n",
    "    cache = {}\n",
    "    cont = 0\n",
    "    for i, b in itertools.product(lista, lista2):\n",
    "        if (i, b) in cache:\n",
    "            cont += cache[(i, b)]\n",
    "        else:\n",
    "            sim = similar(i, b)\n",
    "            if sim >= 0.95:\n",
    "                cont += 1\n",
    "            cache[(i, b)] = sim >= 0.95\n",
    "    return cont"
   ]
  },
  {
   "cell_type": "code",
   "execution_count": 40,
   "id": "c707c0f5",
   "metadata": {},
   "outputs": [
    {
     "name": "stdout",
     "output_type": "stream",
     "text": [
      "1499/1499\r"
     ]
    }
   ],
   "source": [
    "quant = len(t.values())\n",
    "\n",
    "lista_numeros = []\n",
    "cont = 0\n",
    "for p, b in t.items():\n",
    "    print(f\"{cont}/{quant-1}\", end = \"\\r\")\n",
    "    for i in t:\n",
    "        nummero = conta_similaridade(t[i], b)\n",
    "        lista_numeros.append(nummero)\n",
    "        if p != i and not g.has_edge(p, i) and nummero >= 2:\n",
    "            g.add_edge(p, i)\n",
    "    cont += 1"
   ]
  },
  {
   "cell_type": "code",
   "execution_count": 41,
   "id": "54bdf4e2",
   "metadata": {},
   "outputs": [],
   "source": [
    "lista_distinct = list(set(lista_numeros))[1:]\n",
    "lista_count = []\n",
    "for i in lista_distinct:\n",
    "    (lista_numeros.count(i))\n",
    "    lista_count.append(lista_numeros.count(i))"
   ]
  },
  {
   "cell_type": "code",
   "execution_count": 42,
   "id": "25651fba",
   "metadata": {},
   "outputs": [
    {
     "data": {
      "image/png": "[encoded data removed]",
      "text/plain": [
       "<Figure size 640x480 with 1 Axes>"
      ]
     },
     "metadata": {},
     "output_type": "display_data"
    }
   ],
   "source": [
    "import matplotlib.pyplot as plt\n",
    "import numpy as np\n",
    "\n",
    "plt.bar(lista_distinct, lista_count)\n",
    "plt.show()"
   ]
  },
  {
   "cell_type": "markdown",
   "id": "870b61ca",
   "metadata": {},
   "source": [
    "## Salvando o grafo"
   ]
  },
  {
   "cell_type": "code",
   "execution_count": 70,
   "id": "0fb35dc8",
   "metadata": {},
   "outputs": [],
   "source": [
    "gt_save(g, 'git_hub.net.gz')"
   ]
  },
  {
   "cell_type": "markdown",
   "id": "96220586",
   "metadata": {},
   "source": [
    "## Compilando e renderizando o grafo"
   ]
  },
  {
   "cell_type": "code",
   "execution_count": 71,
   "id": "6df3db18",
   "metadata": {},
   "outputs": [
    {
     "data": {
      "text/html": [
       "\n",
       "        <div id=\"RCb9U8RSrVLrYnPZB7EmgG\"></div>\n",
       "        <script>netpixi.render('RCb9U8RSrVLrYnPZB7EmgG', 'git_hub.net.gz', 1.7777777777777777, true, false, false);</script>\n",
       "    "
      ],
      "text/plain": [
       "<IPython.core.display.HTML object>"
      ]
     },
     "metadata": {},
     "output_type": "display_data"
    }
   ],
   "source": [
    "g = gt_load('git_hub.net.gz')\n",
    "r = netpixi.render('git_hub.net.gz')"
   ]
  },
  {
   "cell_type": "markdown",
   "id": "2a440a5d",
   "metadata": {},
   "source": [
    "## Melhorando visualmento o grafo"
   ]
  },
  {
   "cell_type": "code",
   "execution_count": 45,
   "id": "eec2b698",
   "metadata": {},
   "outputs": [
    {
     "data": {
      "text/html": [
       "\n",
       "        <div id=\"BQbNQWRiSyyHiwf4qNC46V\"></div>\n",
       "        <script>netpixi.call('BQbNQWRiSyyHiwf4qNC46V', '2gxiLS45eatvxK3bmxfKnB', 'changeGraph', 'eyJ0eXBlIjogInNldHRpbmdzIiwgInByb3BzIjogeyJncmFwaCI6IHsiY29sb3IiOiAxNjc3NzIxNX19fQo=');</script>\n",
       "    "
      ],
      "text/plain": [
       "<IPython.core.display.HTML object>"
      ]
     },
     "metadata": {},
     "output_type": "display_data"
    },
    {
     "data": {
      "text/html": [
       "\n",
       "        <div id=\"DJgtL5PtB2WiB7PbRae3aV\"></div>\n",
       "        <script>netpixi.call('DJgtL5PtB2WiB7PbRae3aV', '2gxiLS45eatvxK3bmxfKnB', 'changeGraph', 'eyJ0eXBlIjogInNldHRpbmdzIiwgInByb3BzIjogeyJ2ZXJ0ZXgiOiB7ImNvbG9yIjogMCwgInNpemUiOiAxMH19fQo=');</script>\n",
       "    "
      ],
      "text/plain": [
       "<IPython.core.display.HTML object>"
      ]
     },
     "metadata": {},
     "output_type": "display_data"
    },
    {
     "data": {
      "text/html": [
       "\n",
       "        <div id=\"LKCdzrPkaQLe5j4kcrF3my\"></div>\n",
       "        <script>netpixi.call('LKCdzrPkaQLe5j4kcrF3my', '2gxiLS45eatvxK3bmxfKnB', 'changeGraph', 'eyJpZCI6IDAsICJ0eXBlIjogInZlcnRleCIsICJwcm9wcyI6IHsiY29sb3IiOiAxNjcxMTY4MCwgInNpemUiOiAyMH19Cg==');</script>\n",
       "    "
      ],
      "text/plain": [
       "<IPython.core.display.HTML object>"
      ]
     },
     "metadata": {},
     "output_type": "display_data"
    },
    {
     "data": {
      "text/html": [
       "\n",
       "        <div id=\"cSS36tn3cCPCg4WtnEAKnX\"></div>\n",
       "        <script>netpixi.call('cSS36tn3cCPCg4WtnEAKnX', '2gxiLS45eatvxK3bmxfKnB', 'changeGraph', 'eyJpZCI6IDEsICJ0eXBlIjogInZlcnRleCIsICJwcm9wcyI6IHsiY29sb3IiOiAxNjcxMTY4MCwgInNpemUiOiAyMH19Cg==');</script>\n",
       "    "
      ],
      "text/plain": [
       "<IPython.core.display.HTML object>"
      ]
     },
     "metadata": {},
     "output_type": "display_data"
    },
    {
     "data": {
      "text/html": [
       "\n",
       "        <div id=\"JoTiFK2T2yWeakrjM9RuXy\"></div>\n",
       "        <script>netpixi.call('JoTiFK2T2yWeakrjM9RuXy', '2gxiLS45eatvxK3bmxfKnB', 'changeGraph', 'eyJ0eXBlIjogInNldHRpbmdzIiwgInByb3BzIjogeyJlZGdlIjogeyJjb2xvciI6IDAsICJ3aWR0aCI6IDEsICJjdXJ2ZTEiOiAxLCAiY3VydmUyIjogMX19fQo=');</script>\n",
       "    "
      ],
      "text/plain": [
       "<IPython.core.display.HTML object>"
      ]
     },
     "metadata": {},
     "output_type": "display_data"
    }
   ],
   "source": [
    "# mudar a cor de fundo do grafo\n",
    "r.graph(color=0xffffff)\n",
    "\n",
    "# mudar a cor e o tamanho dos vértices\n",
    "r.vertex_default(color=0x000000, size=10)\n",
    "\n",
    "# mudar um vértice específico a partir de seu id\n",
    "r.vertex(0, color=0xff0000, size=20)\n",
    "r.vertex(1, color=0xff0000, size=20)\n",
    "\n",
    "# mudar a cor, a espessura e a curvatura das arestas\n",
    "r.edge_default(color=0x000000, width=1, curve1=1, curve2=1)"
   ]
  },
  {
   "cell_type": "markdown",
   "id": "1bae4faa",
   "metadata": {},
   "source": [
    "## Análise exploratória do grafo"
   ]
  },
  {
   "cell_type": "code",
   "execution_count": 58,
   "id": "54cd26b6",
   "metadata": {},
   "outputs": [
    {
     "data": {
      "text/plain": [
       "987"
      ]
     },
     "execution_count": 58,
     "metadata": {},
     "output_type": "execute_result"
    }
   ],
   "source": [
    "# Números de vértices\n",
    "\n",
    "n = g.num_vertices()\n",
    "n"
   ]
  },
  {
   "cell_type": "code",
   "execution_count": 59,
   "id": "8fe1561d",
   "metadata": {},
   "outputs": [
    {
     "data": {
      "text/plain": [
       "34179"
      ]
     },
     "execution_count": 59,
     "metadata": {},
     "output_type": "execute_result"
    }
   ],
   "source": [
    "# Número de arestas\n",
    "\n",
    "m = g.num_edges()\n",
    "m"
   ]
  },
  {
   "cell_type": "code",
   "execution_count": 60,
   "id": "803ae8e8",
   "metadata": {},
   "outputs": [
    {
     "data": {
      "text/plain": [
       "486591"
      ]
     },
     "execution_count": 60,
     "metadata": {},
     "output_type": "execute_result"
    }
   ],
   "source": [
    "# Número máximo possível de arestas\n",
    "\n",
    "if g.is_directed():\n",
    "    max_edges = n * (n - 1)\n",
    "else:\n",
    "    max_edges = n * (n - 1) // 2\n",
    "max_edges"
   ]
  },
  {
   "cell_type": "code",
   "execution_count": 61,
   "id": "4197d6bd",
   "metadata": {
    "scrolled": true
   },
   "outputs": [
    {
     "data": {
      "text/plain": [
       "0.07024174306553142"
      ]
     },
     "execution_count": 61,
     "metadata": {},
     "output_type": "execute_result"
    }
   ],
   "source": [
    "# Densidade\n",
    "\n",
    "d = m / max_edges\n",
    "d"
   ]
  },
  {
   "cell_type": "code",
   "execution_count": 66,
   "id": "f8ebcccc",
   "metadata": {},
   "outputs": [
    {
     "data": {
      "text/html": [
       "<div>\n",
       "<style scoped>\n",
       "    .dataframe tbody tr th:only-of-type {\n",
       "        vertical-align: middle;\n",
       "    }\n",
       "\n",
       "    .dataframe tbody tr th {\n",
       "        vertical-align: top;\n",
       "    }\n",
       "\n",
       "    .dataframe thead th {\n",
       "        text-align: right;\n",
       "    }\n",
       "</style>\n",
       "<table border=\"1\" class=\"dataframe\">\n",
       "  <thead>\n",
       "    <tr style=\"text-align: right;\">\n",
       "      <th></th>\n",
       "      <th>degree</th>\n",
       "    </tr>\n",
       "    <tr>\n",
       "      <th>id</th>\n",
       "      <th></th>\n",
       "    </tr>\n",
       "  </thead>\n",
       "  <tbody>\n",
       "    <tr>\n",
       "      <th>0</th>\n",
       "      <td>240</td>\n",
       "    </tr>\n",
       "    <tr>\n",
       "      <th>1</th>\n",
       "      <td>139</td>\n",
       "    </tr>\n",
       "    <tr>\n",
       "      <th>2</th>\n",
       "      <td>33</td>\n",
       "    </tr>\n",
       "    <tr>\n",
       "      <th>3</th>\n",
       "      <td>28</td>\n",
       "    </tr>\n",
       "    <tr>\n",
       "      <th>4</th>\n",
       "      <td>5</td>\n",
       "    </tr>\n",
       "    <tr>\n",
       "      <th>...</th>\n",
       "      <td>...</td>\n",
       "    </tr>\n",
       "    <tr>\n",
       "      <th>982</th>\n",
       "      <td>1</td>\n",
       "    </tr>\n",
       "    <tr>\n",
       "      <th>983</th>\n",
       "      <td>1</td>\n",
       "    </tr>\n",
       "    <tr>\n",
       "      <th>984</th>\n",
       "      <td>2</td>\n",
       "    </tr>\n",
       "    <tr>\n",
       "      <th>985</th>\n",
       "      <td>14</td>\n",
       "    </tr>\n",
       "    <tr>\n",
       "      <th>986</th>\n",
       "      <td>14</td>\n",
       "    </tr>\n",
       "  </tbody>\n",
       "</table>\n",
       "<p>987 rows × 1 columns</p>\n",
       "</div>"
      ],
      "text/plain": [
       "     degree\n",
       "id         \n",
       "0       240\n",
       "1       139\n",
       "2        33\n",
       "3        28\n",
       "4         5\n",
       "..      ...\n",
       "982       1\n",
       "983       1\n",
       "984       2\n",
       "985      14\n",
       "986      14\n",
       "\n",
       "[987 rows x 1 columns]"
      ]
     },
     "execution_count": 66,
     "metadata": {},
     "output_type": "execute_result"
    }
   ],
   "source": [
    "# Propriedades de cada vértice\n",
    "\n",
    "data = gt_data(g)\n",
    "\n",
    "# Degree\n",
    "\n",
    "degrees = []\n",
    "for v in g.all_vertices():\n",
    "    degrees.append(v.total_degree())\n",
    "    \n",
    "data['degree'] = degrees\n",
    "data"
   ]
  },
  {
   "cell_type": "code",
   "execution_count": 67,
   "id": "e8e92d96",
   "metadata": {},
   "outputs": [
    {
     "data": {
      "text/plain": [
       "count    987.000000\n",
       "mean      69.258359\n",
       "std       81.032930\n",
       "min        1.000000\n",
       "25%        9.000000\n",
       "50%       37.000000\n",
       "75%      103.000000\n",
       "max      362.000000\n",
       "Name: degree, dtype: float64"
      ]
     },
     "execution_count": 67,
     "metadata": {},
     "output_type": "execute_result"
    },
    {
     "data": {
      "image/png": "[encoded data removed]",
      "text/plain": [
       "<Figure size 640x480 with 1 Axes>"
      ]
     },
     "metadata": {},
     "output_type": "display_data"
    }
   ],
   "source": [
    "# Histograma do degree\n",
    "\n",
    "sns.histplot(data['degree']);\n",
    "data['degree'].describe()"
   ]
  },
  {
   "cell_type": "markdown",
   "id": "6dda6ccd",
   "metadata": {},
   "source": [
    "## Limpando o grafo"
   ]
  },
  {
   "cell_type": "code",
   "execution_count": 55,
   "id": "59b5656a",
   "metadata": {},
   "outputs": [
    {
     "data": {
      "text/html": [
       "\n",
       "        <div id=\"BndA7NBbVL7r6knYmzqxU2\"></div>\n",
       "        <script>netpixi.render('BndA7NBbVL7r6knYmzqxU2', 'git_hub.net.gz', 1.7777777777777777, true, true, false);</script>\n",
       "    "
      ],
      "text/plain": [
       "<IPython.core.display.HTML object>"
      ]
     },
     "metadata": {},
     "output_type": "display_data"
    }
   ],
   "source": [
    "g = gt_clean(g)\n",
    "m = gt_draw.sfdp_layout(g)\n",
    "gt_move(g, m)\n",
    "gt_save(g, 'git_hub.net.gz')\n",
    "netpixi.render('git_hub.net.gz', infinite=True);"
   ]
  },
  {
   "cell_type": "code",
   "execution_count": 56,
   "id": "d0bf3557",
   "metadata": {},
   "outputs": [
    {
     "data": {
      "text/html": [
       "\n",
       "        <div id=\"WD2NJ3Xn75Aa48cW5YQX67\"></div>\n",
       "        <script>netpixi.render('WD2NJ3Xn75Aa48cW5YQX67', 'git_hub.net.gz', 1.7777777777777777, true, false, false);</script>\n",
       "    "
      ],
      "text/plain": [
       "<IPython.core.display.HTML object>"
      ]
     },
     "metadata": {},
     "output_type": "display_data"
    }
   ],
   "source": [
    "gt_clean(g)\n",
    "m = gt_draw.fruchterman_reingold_layout(g)\n",
    "gt_move(g, m)\n",
    "gt_save(g, 'git_hub.net.gz')\n",
    "netpixi.render('git_hub.net.gz');"
   ]
  },
  {
   "cell_type": "markdown",
   "id": "97ccb9d0",
   "metadata": {},
   "source": [
    "# Análise das variáveis dependentes e independentes"
   ]
  },
  {
   "cell_type": "code",
   "execution_count": null,
   "id": "4f24fc84",
   "metadata": {},
   "outputs": [],
   "source": [
    "data"
   ]
  },
  {
   "cell_type": "code",
   "execution_count": null,
   "id": "0ff2ea37",
   "metadata": {},
   "outputs": [],
   "source": [
    "lc = clustering.local_clustering(g)\n",
    "\n",
    "clustering = []\n",
    "for value in lc:\n",
    "    clustering.append(value)"
   ]
  },
  {
   "cell_type": "code",
   "execution_count": null,
   "id": "9f556b53",
   "metadata": {},
   "outputs": [],
   "source": [
    "g1 = gt_load('git_hub.net.gz')\n",
    "gt_data(g1)"
   ]
  },
  {
   "cell_type": "code",
   "execution_count": null,
   "id": "864206a5",
   "metadata": {},
   "outputs": [],
   "source": [
    "for i in g:\n",
    "    print(i[\"props\"])"
   ]
  },
  {
   "cell_type": "code",
   "execution_count": null,
   "id": "3c58f74c",
   "metadata": {},
   "outputs": [],
   "source": [
    "result = reg.linear(data=data, formula='commits ~  + star')\n",
    "result.micro_summary()"
   ]
  }
 ],
 "metadata": {
  "kernelspec": {
   "display_name": "Python 3 (ipykernel)",
   "language": "python",
   "name": "python3"
  },
  "language_info": {
   "codemirror_mode": {
    "name": "ipython",
    "version": 3
   },
   "file_extension": ".py",
   "mimetype": "text/x-python",
   "name": "python",
   "nbconvert_exporter": "python",
   "pygments_lexer": "ipython3",
   "version": "3.10.10"
  }
 },
 "nbformat": 4,
 "nbformat_minor": 5
}
