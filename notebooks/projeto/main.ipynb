{
 "cells": [
  {
   "cell_type": "markdown",
   "id": "38ce4ced",
   "metadata": {},
   "source": [
    "## Importando as bibliotecas"
   ]
  },
  {
   "cell_type": "code",
   "execution_count": null,
   "id": "da5e58c8",
   "metadata": {},
   "outputs": [],
   "source": [
    "from difflib import SequenceMatcher"
   ]
  },
  {
   "cell_type": "code",
   "execution_count": null,
   "id": "19580da7",
   "metadata": {
    "scrolled": true
   },
   "outputs": [],
   "source": [
    "import netpixi\n",
    "from netpixi.integration.gt import Graph\n",
    "from netpixi.integration.gt import *\n",
    "import seaborn as sns\n",
    "from regression.integration.gt import *\n",
    "\n",
    "import cpnet\n",
    "\n",
    "from graph_tool import spectral\n",
    "from graph_tool import clustering\n",
    "\n",
    "import itertools\n"
   ]
  },
  {
   "cell_type": "code",
   "execution_count": null,
   "id": "9b42a9d8",
   "metadata": {},
   "outputs": [],
   "source": [
    "import numpy as np\n",
    "import pandas as pd\n",
    "import seaborn as sns\n",
    "import regression as reg\n",
    "\n",
    "from scipy import stats\n",
    "from matplotlib import pyplot as plt"
   ]
  },
  {
   "cell_type": "markdown",
   "id": "e1957f20",
   "metadata": {},
   "source": [
    "## Criando o grafo"
   ]
  },
  {
   "cell_type": "code",
   "execution_count": null,
   "id": "039fde2a",
   "metadata": {},
   "outputs": [],
   "source": [
    "# Criando o grafo\n",
    "g = Graph(directed=False) # não-dirigido\n",
    "\n",
    "# Criando um dicionário estilo {nome do repositorio:[topicos]}\n",
    "repositorio_e_topicos = {}\n",
    "\n",
    "# Criando os vértices & preenchendo o dicionário\n",
    "with open('Github_data_refatorado.csv', \"r\") as arquivo:\n",
    "    arquivo.readline()\n",
    "    for linha in arquivo:\n",
    "        try:\n",
    "            div = linha.split(',')\n",
    "            \n",
    "            top_tag = linha.split('[')[1].split(']')[0].replace(\"'\", \"\").replace(\" \", \"\").split(\",\")\n",
    "            topic = div[2].lower()\n",
    "            repositorio = div[3]\n",
    "            \n",
    "            if not g.has_vertex(repositorio):\n",
    "                g.add_vertex(repositorio)\n",
    "                \n",
    "                if top_tag != ['']:\n",
    "                    repositorio_e_topicos[repositorio] = top_tag\n",
    "                else:\n",
    "                    repositorio_e_topicos[repositorio] = [topic]\n",
    "        except:\n",
    "            continue"
   ]
  },
  {
   "cell_type": "code",
   "execution_count": null,
   "id": "d6165b29",
   "metadata": {},
   "outputs": [],
   "source": [
    "# Quantidade de vértices\n",
    "len(g.get_vertices())"
   ]
  },
  {
   "cell_type": "code",
   "execution_count": null,
   "id": "b5b85230",
   "metadata": {},
   "outputs": [],
   "source": [
    "# Quantidade de tópicos diferentes\n",
    "lista_distinct_topics = list(set(item for sublista in t.values() for item in sublista))\n",
    "print(len(lista_distinct_topics))"
   ]
  },
  {
   "cell_type": "code",
   "execution_count": null,
   "id": "6dd68ad3",
   "metadata": {},
   "outputs": [],
   "source": [
    "# Função de similaridade\n",
    "def conta_similaridade(lista, lista2):\n",
    "    cache = {}\n",
    "    cont = 0\n",
    "    for i, b in itertools.product(lista, lista2):\n",
    "        if (i, b) in cache:\n",
    "            cont += cache[(i, b)]\n",
    "        else:\n",
    "            sim = SequenceMatcher(None, i, b).ratio()\n",
    "            if sim >= 0.95:\n",
    "                cont += 1\n",
    "            cache[(i, b)] = sim >= 0.95\n",
    "    return cont"
   ]
  },
  {
   "cell_type": "code",
   "execution_count": null,
   "id": "c707c0f5",
   "metadata": {},
   "outputs": [],
   "source": [
    "quant = len(t.values())\n",
    "\n",
    "lista_numeros = []\n",
    "cont = 0\n",
    "for p, b in t.items():\n",
    "    print(f\"{cont}/{quant-1}\", end = \"\\r\")\n",
    "    for i in t:\n",
    "        nummero = conta_similaridade(t[i], b)\n",
    "        lista_numeros.append(nummero)\n",
    "        if p != i and not g.has_edge(p, i) and nummero >= 2:\n",
    "            g.add_edge(p, i)\n",
    "    cont += 1"
   ]
  },
  {
   "cell_type": "code",
   "execution_count": null,
   "id": "54bdf4e2",
   "metadata": {},
   "outputs": [],
   "source": [
    "lista_distinct = list(set(lista_numeros))[1:]\n",
    "lista_count = []\n",
    "for i in lista_distinct:\n",
    "    (lista_numeros.count(i))\n",
    "    lista_count.append(lista_numeros.count(i))"
   ]
  },
  {
   "cell_type": "code",
   "execution_count": null,
   "id": "25651fba",
   "metadata": {},
   "outputs": [],
   "source": [
    "import matplotlib.pyplot as plt\n",
    "import numpy as np\n",
    "\n",
    "plt.bar(lista_distinct, lista_count)\n",
    "plt.show()"
   ]
  },
  {
   "cell_type": "markdown",
   "id": "870b61ca",
   "metadata": {},
   "source": [
    "## Salvando o grafo"
   ]
  },
  {
   "cell_type": "code",
   "execution_count": null,
   "id": "0fb35dc8",
   "metadata": {},
   "outputs": [],
   "source": [
    "gt_save(g, 'git_hub.net.gz')"
   ]
  },
  {
   "cell_type": "markdown",
   "id": "96220586",
   "metadata": {},
   "source": [
    "## Compilando e renderizando o grafo"
   ]
  },
  {
   "cell_type": "code",
   "execution_count": null,
   "id": "6df3db18",
   "metadata": {},
   "outputs": [],
   "source": [
    "g = gt_load('git_hub.net.gz')\n",
    "r = netpixi.render('git_hub.net.gz')"
   ]
  },
  {
   "cell_type": "markdown",
   "id": "2a440a5d",
   "metadata": {},
   "source": [
    "## Melhorando visualmento o grafo"
   ]
  },
  {
   "cell_type": "code",
   "execution_count": null,
   "id": "eec2b698",
   "metadata": {},
   "outputs": [],
   "source": [
    "# mudar a cor de fundo do grafo\n",
    "r.graph(color=0xffffff)\n",
    "\n",
    "# mudar a cor e o tamanho dos vértices\n",
    "r.vertex_default(color=0x000000, size=10)\n",
    "\n",
    "# mudar um vértice específico a partir de seu id\n",
    "r.vertex(0, color=0xff0000, size=20)\n",
    "r.vertex(1, color=0xff0000, size=20)\n",
    "\n",
    "# mudar a cor, a espessura e a curvatura das arestas\n",
    "r.edge_default(color=0x000000, width=1, curve1=1, curve2=1)"
   ]
  },
  {
   "cell_type": "markdown",
   "id": "1bae4faa",
   "metadata": {},
   "source": [
    "## Análise exploratória do grafo"
   ]
  },
  {
   "cell_type": "code",
   "execution_count": null,
   "id": "54cd26b6",
   "metadata": {},
   "outputs": [],
   "source": [
    "# Números de vértices\n",
    "\n",
    "n = g.num_vertices()\n",
    "n"
   ]
  },
  {
   "cell_type": "code",
   "execution_count": null,
   "id": "8fe1561d",
   "metadata": {},
   "outputs": [],
   "source": [
    "# Número de arestas\n",
    "\n",
    "m = g.num_edges()\n",
    "m"
   ]
  },
  {
   "cell_type": "code",
   "execution_count": null,
   "id": "803ae8e8",
   "metadata": {},
   "outputs": [],
   "source": [
    "# Número máximo possível de arestas\n",
    "\n",
    "if g.is_directed():\n",
    "    max_edges = n * (n - 1)\n",
    "else:\n",
    "    max_edges = n * (n - 1) // 2\n",
    "max_edges"
   ]
  },
  {
   "cell_type": "code",
   "execution_count": null,
   "id": "4197d6bd",
   "metadata": {
    "scrolled": true
   },
   "outputs": [],
   "source": [
    "# Densidade\n",
    "\n",
    "d = m / max_edges\n",
    "d"
   ]
  },
  {
   "cell_type": "code",
   "execution_count": null,
   "id": "f8ebcccc",
   "metadata": {},
   "outputs": [],
   "source": [
    "# Propriedades de cada vértice\n",
    "\n",
    "data = gt_data(g)\n",
    "\n",
    "# Degree\n",
    "\n",
    "degrees = []\n",
    "for v in g.all_vertices():\n",
    "    degrees.append(v.total_degree())\n",
    "    \n",
    "data['degree'] = degrees\n",
    "data"
   ]
  },
  {
   "cell_type": "code",
   "execution_count": null,
   "id": "e8e92d96",
   "metadata": {},
   "outputs": [],
   "source": [
    "# Histograma do degree\n",
    "\n",
    "sns.histplot(data['degree']);\n",
    "data['degree'].describe()"
   ]
  },
  {
   "cell_type": "markdown",
   "id": "6dda6ccd",
   "metadata": {},
   "source": [
    "## Limpando o grafo"
   ]
  },
  {
   "cell_type": "code",
   "execution_count": null,
   "id": "59b5656a",
   "metadata": {},
   "outputs": [],
   "source": [
    "g = gt_clean(g)\n",
    "m = gt_draw.sfdp_layout(g)\n",
    "gt_move(g, m)\n",
    "gt_save(g, 'git_hub.net.gz')\n",
    "netpixi.render('git_hub.net.gz', infinite=True);"
   ]
  },
  {
   "cell_type": "code",
   "execution_count": null,
   "id": "d0bf3557",
   "metadata": {},
   "outputs": [],
   "source": [
    "gt_clean(g)\n",
    "m = gt_draw.fruchterman_reingold_layout(g)\n",
    "gt_move(g, m)\n",
    "gt_save(g, 'git_hub.net.gz')\n",
    "netpixi.render('git_hub.net.gz');"
   ]
  },
  {
   "cell_type": "markdown",
   "id": "97ccb9d0",
   "metadata": {},
   "source": [
    "# Análise das variáveis dependentes e independentes"
   ]
  },
  {
   "cell_type": "code",
   "execution_count": null,
   "id": "4f24fc84",
   "metadata": {},
   "outputs": [],
   "source": [
    "data"
   ]
  },
  {
   "cell_type": "code",
   "execution_count": null,
   "id": "0ff2ea37",
   "metadata": {},
   "outputs": [],
   "source": [
    "lc = clustering.local_clustering(g)\n",
    "\n",
    "clustering = []\n",
    "for value in lc:\n",
    "    clustering.append(value)"
   ]
  },
  {
   "cell_type": "code",
   "execution_count": null,
   "id": "9f556b53",
   "metadata": {},
   "outputs": [],
   "source": [
    "g1 = gt_load('git_hub.net.gz')\n",
    "gt_data(g1)"
   ]
  },
  {
   "cell_type": "code",
   "execution_count": null,
   "id": "864206a5",
   "metadata": {},
   "outputs": [],
   "source": [
    "for i in g:\n",
    "    print(i[\"props\"])"
   ]
  },
  {
   "cell_type": "code",
   "execution_count": null,
   "id": "3c58f74c",
   "metadata": {},
   "outputs": [],
   "source": [
    "result = reg.linear(data=data, formula='commits ~  + star')\n",
    "result.micro_summary()"
   ]
  }
 ],
 "metadata": {
  "kernelspec": {
   "display_name": "Python 3 (ipykernel)",
   "language": "python",
   "name": "python3"
  },
  "language_info": {
   "codemirror_mode": {
    "name": "ipython",
    "version": 3
   },
   "file_extension": ".py",
   "mimetype": "text/x-python",
   "name": "python",
   "nbconvert_exporter": "python",
   "pygments_lexer": "ipython3",
   "version": "3.10.10"
  }
 },
 "nbformat": 4,
 "nbformat_minor": 5
}
