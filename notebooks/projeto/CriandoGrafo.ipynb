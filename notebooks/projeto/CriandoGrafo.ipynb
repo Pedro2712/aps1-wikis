{
 "cells": [
  {
   "cell_type": "markdown",
   "id": "e827a3a2",
   "metadata": {},
   "source": [
    "# Criando o grafo"
   ]
  },
  {
   "cell_type": "markdown",
   "id": "0ce7f977",
   "metadata": {},
   "source": [
    "## Imports"
   ]
  },
  {
   "cell_type": "code",
   "execution_count": null,
   "id": "15245d40",
   "metadata": {},
   "outputs": [],
   "source": [
    "import netpixi\n",
    "from netpixi.integration.gt import Graph\n",
    "from netpixi.integration.gt import *\n",
    "\n",
    "import matplotlib.pyplot as plt"
   ]
  },
  {
   "cell_type": "markdown",
   "id": "8d519a0d",
   "metadata": {},
   "source": [
    "## Funções"
   ]
  },
  {
   "cell_type": "code",
   "execution_count": null,
   "id": "03ef2acb",
   "metadata": {},
   "outputs": [],
   "source": [
    "def conta_similaridade(lista1, lista2): # Recebe duas lista e devolve a quantidade de valores iguais dessas listas\n",
    "    return len(set(lista1) & set(lista2))"
   ]
  },
  {
   "cell_type": "markdown",
   "id": "63aac911",
   "metadata": {},
   "source": [
    "## Criando o grafo"
   ]
  },
  {
   "cell_type": "code",
   "execution_count": null,
   "id": "62c12f02",
   "metadata": {},
   "outputs": [],
   "source": [
    "# Criando o grafo\n",
    "g = Graph(directed=False) # não-dirigido"
   ]
  },
  {
   "cell_type": "markdown",
   "id": "a58c8733",
   "metadata": {},
   "source": [
    "## Adicionando os vértices"
   ]
  },
  {
   "cell_type": "code",
   "execution_count": null,
   "id": "e91bf98b",
   "metadata": {},
   "outputs": [],
   "source": [
    "# Criando um dicionário estilo {nome do repositorio:[topicos]}\n",
    "repositorio_e_topicos = {}\n",
    "\n",
    "# Criando os vértices & preenchendo o dicionário\n",
    "with open('Github_data_refatorado.csv', \"r\") as arquivo:\n",
    "    arquivo.readline()\n",
    "    for linha in arquivo:\n",
    "        try:\n",
    "            div = linha.split(',')\n",
    "            \n",
    "            top_tag = linha.split('[')[1].split(']')[0].replace(\"'\", \"\").replace(\" \", \"\").split(\",\")\n",
    "            repositorio = div[3]\n",
    "            \n",
    "            if not g.has_vertex(repositorio):\n",
    "                g.add_vertex(repositorio)\n",
    "\n",
    "            repositorio_e_topicos[repositorio] = top_tag\n",
    "            \n",
    "        except:\n",
    "            continue"
   ]
  },
  {
   "cell_type": "code",
   "execution_count": null,
   "id": "7ed15f57",
   "metadata": {
    "scrolled": true
   },
   "outputs": [],
   "source": [
    "# Quantidade de vértices\n",
    "quantidade_de_vertices = len(g.get_vertices())\n",
    "\n",
    "# Quantidade de tópicos diferentes\n",
    "lista_distinct_topics = list(set(item for sublista in repositorio_e_topicos.values() for item in sublista))\n",
    "quantidade_de_tópicos_diferentes = len(lista_distinct_topics)\n",
    "\n",
    "\n",
    "print(f\"\"\"Quantidade de vértices: {quantidade_de_vertices}\n",
    "Quantidade de tópicos diferentes: {quantidade_de_tópicos_diferentes}\"\"\")"
   ]
  },
  {
   "cell_type": "markdown",
   "id": "757f9c1b",
   "metadata": {},
   "source": [
    "## Adicionando as arestas"
   ]
  },
  {
   "cell_type": "code",
   "execution_count": null,
   "id": "7bdf8de0",
   "metadata": {},
   "outputs": [],
   "source": [
    "quantidade = 0\n",
    "\n",
    "lista_numeros = [] # Lista com os números de similaridades entre cada vértice\n",
    "for name, topic_tag in repositorio_e_topicos.items():\n",
    "    \n",
    "    for another_name in repositorio_e_topicos:\n",
    "        conta = conta_similaridade(repositorio_e_topicos[another_name], topic_tag)\n",
    "        lista_numeros.append(conta)\n",
    "        if name != another_name and not g.has_edge(name, another_name) and conta >= 2:\n",
    "            g.add_edge(name, another_name)\n",
    "            \n",
    "    quantidade += 1\n",
    "    print(f\"{quantidade}/{len(repositorio_e_topicos.values())}\", end = \"\\r\")"
   ]
  },
  {
   "cell_type": "markdown",
   "id": "79fda40d",
   "metadata": {},
   "source": [
    "## Threshold para criar a aresta"
   ]
  },
  {
   "cell_type": "code",
   "execution_count": null,
   "id": "67ce2c58",
   "metadata": {},
   "outputs": [],
   "source": [
    "lista_distinct = list(set(lista_numeros))[1:] # Quantidade de tópicos similares\n",
    "\n",
    "lista_count = [] # Quantidade de aparições\n",
    "for i in lista_distinct:\n",
    "    lista_count.append(lista_numeros.count(i))"
   ]
  },
  {
   "cell_type": "code",
   "execution_count": null,
   "id": "ab072fea",
   "metadata": {},
   "outputs": [],
   "source": [
    "plt.bar(lista_distinct, lista_count)\n",
    "plt.xlabel(\"Quantidade de tópicos similares\")\n",
    "plt.ylabel(\"Contagem\")\n",
    "plt.show()"
   ]
  },
  {
   "cell_type": "markdown",
   "id": "1cb07aa4",
   "metadata": {},
   "source": [
    "## Salvando o grafo"
   ]
  },
  {
   "cell_type": "code",
   "execution_count": null,
   "id": "31399102",
   "metadata": {},
   "outputs": [],
   "source": [
    "gt_save(g, 'git_hub_original.net.gz')"
   ]
  },
  {
   "cell_type": "markdown",
   "id": "7795ae1f",
   "metadata": {},
   "source": [
    "## Renderizando o grafo"
   ]
  },
  {
   "cell_type": "code",
   "execution_count": null,
   "id": "bd865e41",
   "metadata": {},
   "outputs": [],
   "source": [
    "g = gt_load('git_hub_original.net.gz')\n",
    "r = netpixi.render('git_hub_original.net.gz')"
   ]
  },
  {
   "cell_type": "code",
   "execution_count": null,
   "id": "ddf82147",
   "metadata": {},
   "outputs": [],
   "source": [
    "# mudar a cor de fundo do grafo\n",
    "r.graph(color=0xffffff)\n",
    "\n",
    "# mudar a cor e o tamanho dos vértices\n",
    "r.vertex_default(color=0x000000, size=10)\n",
    "\n",
    "# mudar a cor, a espessura e a curvatura das arestas\n",
    "r.edge_default(color=0x000000, width=1, curve1=1, curve2=1)"
   ]
  },
  {
   "cell_type": "markdown",
   "id": "3552e4b1",
   "metadata": {},
   "source": [
    "## Limpando o grafo"
   ]
  },
  {
   "cell_type": "code",
   "execution_count": null,
   "id": "12e09d61",
   "metadata": {},
   "outputs": [],
   "source": [
    "g = gt_clean(g)\n",
    "m = gt_draw.sfdp_layout(g)\n",
    "gt_move(g, m)\n",
    "gt_save(g, 'git_hub_sfdp.net.gz')\n",
    "netpixi.render('git_hub_sfdp.net.gz', infinite=True);"
   ]
  }
 ],
 "metadata": {
  "kernelspec": {
   "display_name": "Python 3 (ipykernel)",
   "language": "python",
   "name": "python3"
  },
  "language_info": {
   "codemirror_mode": {
    "name": "ipython",
    "version": 3
   },
   "file_extension": ".py",
   "mimetype": "text/x-python",
   "name": "python",
   "nbconvert_exporter": "python",
   "pygments_lexer": "ipython3",
   "version": "3.10.10"
  }
 },
 "nbformat": 4,
 "nbformat_minor": 5
}
