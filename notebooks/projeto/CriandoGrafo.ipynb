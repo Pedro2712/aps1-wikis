{
 "cells": [
  {
   "cell_type": "code",
   "execution_count": null,
   "id": "15245d40",
   "metadata": {},
   "outputs": [],
   "source": [
    "import netpixi\n",
    "from netpixi.integration.gt import Graph\n",
    "from netpixi.integration.gt import *\n",
    "import seaborn as sns\n",
    "from regression.integration.gt import *\n",
    "\n",
    "import matplotlib.pyplot as plt\n",
    "import numpy as np\n",
    "\n",
    "import warnings\n",
    "warnings.filterwarnings(\"ignore\") # Disable all warnings"
   ]
  },
  {
   "cell_type": "code",
   "execution_count": null,
   "id": "e91bf98b",
   "metadata": {},
   "outputs": [],
   "source": [
    "# Criando o grafo\n",
    "g = Graph(directed=False) # não-dirigido\n",
    "\n",
    "# Criando um dicionário estilo {nome do repositorio:[topicos]}\n",
    "repositorio_e_topicos = {}\n",
    "\n",
    "# Criando os vértices & preenchendo o dicionário\n",
    "with open('Github_data_refatorado.csv', \"r\") as arquivo:\n",
    "    arquivo.readline()\n",
    "    for linha in arquivo:\n",
    "        try:\n",
    "            div = linha.split(',')\n",
    "            \n",
    "            top_tag = linha.split('[')[1].split(']')[0].replace(\"'\", \"\").replace(\" \", \"\").split(\",\")\n",
    "            repositorio = div[3]\n",
    "            \n",
    "            if not g.has_vertex(repositorio):\n",
    "                g.add_vertex(repositorio)\n",
    "\n",
    "            repositorio_e_topicos[repositorio] = top_tag\n",
    "            \n",
    "        except:\n",
    "            continue"
   ]
  },
  {
   "cell_type": "code",
   "execution_count": null,
   "id": "7ed15f57",
   "metadata": {},
   "outputs": [],
   "source": [
    "# Quantidade de vértices\n",
    "quantidade_de_vertices = len(g.get_vertices())\n",
    "\n",
    "# Quantidade de tópicos diferentes\n",
    "lista_distinct_topics = list(set(item for sublista in repositorio_e_topicos.values() for item in sublista))\n",
    "quantidade_de_tópicos_diferentes = len(lista_distinct_topics)\n",
    "\n",
    "print(f\"\"\"\n",
    "Quantidade de vértices: {quantidade_de_vertices}\n",
    "\n",
    "Quantidade de tópicos diferentes: {quantidade_de_tópicos_diferentes}\n",
    "\"\"\")"
   ]
  },
  {
   "cell_type": "code",
   "execution_count": null,
   "id": "c63d827e",
   "metadata": {},
   "outputs": [],
   "source": [
    "def conta_similaridade(lista1, lista2):\n",
    "    return len(set(lista1) & set(lista2))"
   ]
  },
  {
   "cell_type": "code",
   "execution_count": null,
   "id": "7bdf8de0",
   "metadata": {},
   "outputs": [],
   "source": [
    "quantidade_total = len(repositorio_e_topicos.values())\n",
    "quantidade = 0\n",
    "\n",
    "lista_numeros = []\n",
    "for name, topic_tag in repositorio_e_topicos.items():\n",
    "    \n",
    "    print(f\"{quantidade}/{quantidade_total-1}\", end = \"\\r\")\n",
    "    \n",
    "    for another_name in repositorio_e_topicos:\n",
    "        conta = conta_similaridade(repositorio_e_topicos[another_name], topic_tag)\n",
    "        lista_numeros.append(conta)\n",
    "        if name != another_name and not g.has_edge(name, another_name) and conta >= 2:\n",
    "            g.add_edge(name, another_name)\n",
    "    quantidade += 1"
   ]
  },
  {
   "cell_type": "code",
   "execution_count": null,
   "id": "67ce2c58",
   "metadata": {},
   "outputs": [],
   "source": [
    "lista_distinct = list(set(lista_numeros))[1:]\n",
    "lista_count = []\n",
    "for i in lista_distinct:\n",
    "    (lista_numeros.count(i))\n",
    "    lista_count.append(lista_numeros.count(i))"
   ]
  },
  {
   "cell_type": "code",
   "execution_count": null,
   "id": "ab072fea",
   "metadata": {},
   "outputs": [],
   "source": [
    "plt.bar(lista_distinct, lista_count)\n",
    "plt.show()"
   ]
  },
  {
   "cell_type": "markdown",
   "id": "1cb07aa4",
   "metadata": {},
   "source": [
    "## Salvando o grafo"
   ]
  },
  {
   "cell_type": "code",
   "execution_count": null,
   "id": "31399102",
   "metadata": {},
   "outputs": [],
   "source": [
    "gt_save(g, 'git_hub_original.net.gz')"
   ]
  },
  {
   "cell_type": "markdown",
   "id": "7795ae1f",
   "metadata": {},
   "source": [
    "## Renderizando o grafo"
   ]
  },
  {
   "cell_type": "code",
   "execution_count": null,
   "id": "bd865e41",
   "metadata": {},
   "outputs": [],
   "source": [
    "g = gt_load('git_hub_original.net.gz')\n",
    "r = netpixi.render('git_hub_original.net.gz')"
   ]
  },
  {
   "cell_type": "code",
   "execution_count": null,
   "id": "ddf82147",
   "metadata": {},
   "outputs": [],
   "source": [
    "# mudar a cor de fundo do grafo\n",
    "r.graph(color=0xffffff)\n",
    "\n",
    "# mudar a cor e o tamanho dos vértices\n",
    "r.vertex_default(color=0x000000, size=10)\n",
    "\n",
    "# mudar um vértice específico a partir de seu id\n",
    "r.vertex(0, color=0xff0000, size=20)\n",
    "r.vertex(1, color=0xff0000, size=20)\n",
    "\n",
    "# mudar a cor, a espessura e a curvatura das arestas\n",
    "r.edge_default(color=0x000000, width=1, curve1=1, curve2=1)"
   ]
  },
  {
   "cell_type": "markdown",
   "id": "3552e4b1",
   "metadata": {},
   "source": [
    "## Limpando o grafo"
   ]
  },
  {
   "cell_type": "code",
   "execution_count": null,
   "id": "12e09d61",
   "metadata": {},
   "outputs": [],
   "source": [
    "g = gt_clean(g)\n",
    "m = gt_draw.sfdp_layout(g)\n",
    "gt_move(g, m)\n",
    "gt_save(g, 'git_hub_sfdp.net.gz')\n",
    "netpixi.render('git_hub_sfdp.net.gz', infinite=True);"
   ]
  },
  {
   "cell_type": "code",
   "execution_count": null,
   "id": "a6cc6116",
   "metadata": {},
   "outputs": [],
   "source": [
    "g = gt_clean(g)\n",
    "m = gt_draw.fruchterman_reingold_layout(g)\n",
    "gt_move(g, m)\n",
    "gt_save(g, 'git_hub_fr.net.gz')\n",
    "netpixi.render('git_hub_fr.net.gz');"
   ]
  },
  {
   "cell_type": "code",
   "execution_count": null,
   "id": "6c5bf7aa",
   "metadata": {},
   "outputs": [],
   "source": []
  }
 ],
 "metadata": {
  "kernelspec": {
   "display_name": "Python 3 (ipykernel)",
   "language": "python",
   "name": "python3"
  },
  "language_info": {
   "codemirror_mode": {
    "name": "ipython",
    "version": 3
   },
   "file_extension": ".py",
   "mimetype": "text/x-python",
   "name": "python",
   "nbconvert_exporter": "python",
   "pygments_lexer": "ipython3",
   "version": "3.10.10"
  }
 },
 "nbformat": 4,
 "nbformat_minor": 5
}
