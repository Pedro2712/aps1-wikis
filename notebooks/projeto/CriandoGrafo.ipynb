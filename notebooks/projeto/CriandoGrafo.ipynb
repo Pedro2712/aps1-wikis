{
 "cells": [
  {
   "cell_type": "code",
   "execution_count": 1,
   "id": "15245d40",
   "metadata": {},
   "outputs": [
    {
     "data": {
      "text/html": [
       "\n",
       "    <script src=\"/files/netpixi.min.js\"></script>\n"
      ],
      "text/plain": [
       "<IPython.core.display.HTML object>"
      ]
     },
     "metadata": {},
     "output_type": "display_data"
    },
    {
     "name": "stderr",
     "output_type": "stream",
     "text": [
      "<frozen importlib._bootstrap>:914: ImportWarning: VendorImporter.find_spec() not found; falling back to find_module()\n",
      "<frozen importlib._bootstrap>:914: ImportWarning: VendorImporter.find_spec() not found; falling back to find_module()\n",
      "<frozen importlib._bootstrap>:914: ImportWarning: VendorImporter.find_spec() not found; falling back to find_module()\n"
     ]
    }
   ],
   "source": [
    "import netpixi\n",
    "from netpixi.integration.gt import Graph\n",
    "from netpixi.integration.gt import *\n",
    "import seaborn as sns\n",
    "from regression.integration.gt import *\n",
    "\n",
    "import matplotlib.pyplot as plt\n",
    "import numpy as np\n",
    "\n",
    "import warnings\n",
    "warnings.filterwarnings(\"ignore\") # Disable all warnings"
   ]
  },
  {
   "cell_type": "code",
   "execution_count": 2,
   "id": "e91bf98b",
   "metadata": {},
   "outputs": [],
   "source": [
    "# Criando o grafo\n",
    "g = Graph(directed=False) # não-dirigido\n",
    "\n",
    "# Criando um dicionário estilo {nome do repositorio:[topicos]}\n",
    "repositorio_e_topicos = {}\n",
    "\n",
    "# Criando os vértices & preenchendo o dicionário\n",
    "with open('Github_data_refatorado.csv', \"r\") as arquivo:\n",
    "    arquivo.readline()\n",
    "    for linha in arquivo:\n",
    "        try:\n",
    "            div = linha.split(',')\n",
    "            \n",
    "            top_tag = linha.split('[')[1].split(']')[0].replace(\"'\", \"\").replace(\" \", \"\").split(\",\")\n",
    "            repositorio = div[3]\n",
    "            \n",
    "            if not g.has_vertex(repositorio):\n",
    "                g.add_vertex(repositorio)\n",
    "\n",
    "            repositorio_e_topicos[repositorio] = top_tag\n",
    "            \n",
    "        except:\n",
    "            continue"
   ]
  },
  {
   "cell_type": "code",
   "execution_count": 3,
   "id": "7ed15f57",
   "metadata": {},
   "outputs": [
    {
     "name": "stdout",
     "output_type": "stream",
     "text": [
      "\n",
      "Quantidade de vértices: 1500\n",
      "\n",
      "Quantidade de tópicos diferentes: 3218\n",
      "\n"
     ]
    }
   ],
   "source": [
    "# Quantidade de vértices\n",
    "quantidade_de_vertices = len(g.get_vertices())\n",
    "\n",
    "# Quantidade de tópicos diferentes\n",
    "lista_distinct_topics = list(set(item for sublista in repositorio_e_topicos.values() for item in sublista))\n",
    "quantidade_de_tópicos_diferentes = len(lista_distinct_topics)\n",
    "\n",
    "print(f\"\"\"\n",
    "Quantidade de vértices: {quantidade_de_vertices}\n",
    "\n",
    "Quantidade de tópicos diferentes: {quantidade_de_tópicos_diferentes}\n",
    "\"\"\")"
   ]
  },
  {
   "cell_type": "code",
   "execution_count": 4,
   "id": "c63d827e",
   "metadata": {},
   "outputs": [],
   "source": [
    "def conta_similaridade(lista1, lista2):\n",
    "    return len(set(lista1) & set(lista2))"
   ]
  },
  {
   "cell_type": "code",
   "execution_count": 5,
   "id": "7bdf8de0",
   "metadata": {},
   "outputs": [
    {
     "name": "stdout",
     "output_type": "stream",
     "text": [
      "1499/1499\r"
     ]
    }
   ],
   "source": [
    "quantidade_total = len(repositorio_e_topicos.values())\n",
    "quantidade = 0\n",
    "\n",
    "lista_numeros = []\n",
    "for name, topic_tag in repositorio_e_topicos.items():\n",
    "    \n",
    "    print(f\"{quantidade}/{quantidade_total-1}\", end = \"\\r\")\n",
    "    \n",
    "    for another_name in repositorio_e_topicos:\n",
    "        conta = conta_similaridade(repositorio_e_topicos[another_name], topic_tag)\n",
    "        lista_numeros.append(conta)\n",
    "        if name != another_name and not g.has_edge(name, another_name) and conta >= 2:\n",
    "            g.add_edge(name, another_name)\n",
    "    quantidade += 1"
   ]
  },
  {
   "cell_type": "code",
   "execution_count": 6,
   "id": "67ce2c58",
   "metadata": {},
   "outputs": [],
   "source": [
    "lista_distinct = list(set(lista_numeros))[1:]\n",
    "lista_count = []\n",
    "for i in lista_distinct:\n",
    "    (lista_numeros.count(i))\n",
    "    lista_count.append(lista_numeros.count(i))"
   ]
  },
  {
   "cell_type": "code",
   "execution_count": 7,
   "id": "ab072fea",
   "metadata": {},
   "outputs": [
    {
     "data": {
      "image/png": "[encoded data removed]",
      "text/plain": [
       "<Figure size 640x480 with 1 Axes>"
      ]
     },
     "metadata": {},
     "output_type": "display_data"
    }
   ],
   "source": [
    "plt.bar(lista_distinct, lista_count)\n",
    "plt.show()"
   ]
  },
  {
   "cell_type": "markdown",
   "id": "1cb07aa4",
   "metadata": {},
   "source": [
    "## Salvando o grafo"
   ]
  },
  {
   "cell_type": "code",
   "execution_count": 8,
   "id": "31399102",
   "metadata": {},
   "outputs": [],
   "source": [
    "gt_save(g, 'git_hub_original.net.gz')"
   ]
  },
  {
   "cell_type": "markdown",
   "id": "7795ae1f",
   "metadata": {},
   "source": [
    "## Renderizando o grafo"
   ]
  },
  {
   "cell_type": "code",
   "execution_count": 9,
   "id": "bd865e41",
   "metadata": {
    "collapsed": true
   },
   "outputs": [
    {
     "data": {
      "text/html": [
       "\n",
       "        <div id=\"L2PXHrfu7Ff3y4qoBLyfgW\"></div>\n",
       "        <script>netpixi.render('L2PXHrfu7Ff3y4qoBLyfgW', 'git_hub_original.net.gz', 1.7777777777777777, true, false, false);</script>\n",
       "    "
      ],
      "text/plain": [
       "<IPython.core.display.HTML object>"
      ]
     },
     "metadata": {},
     "output_type": "display_data"
    }
   ],
   "source": [
    "g = gt_load('git_hub_original.net.gz')\n",
    "r = netpixi.render('git_hub_original.net.gz')"
   ]
  },
  {
   "cell_type": "code",
   "execution_count": 10,
   "id": "ddf82147",
   "metadata": {},
   "outputs": [
    {
     "data": {
      "text/html": [
       "\n",
       "        <div id=\"B8bXVXcgc4zYSdvMjQEQFj\"></div>\n",
       "        <script>netpixi.call('B8bXVXcgc4zYSdvMjQEQFj', 'L2PXHrfu7Ff3y4qoBLyfgW', 'changeGraph', 'eyJ0eXBlIjogInNldHRpbmdzIiwgInByb3BzIjogeyJncmFwaCI6IHsiY29sb3IiOiAxNjc3NzIxNX19fQo=');</script>\n",
       "    "
      ],
      "text/plain": [
       "<IPython.core.display.HTML object>"
      ]
     },
     "metadata": {},
     "output_type": "display_data"
    },
    {
     "data": {
      "text/html": [
       "\n",
       "        <div id=\"hJQNdPPjtRRrTHkLNdY6v4\"></div>\n",
       "        <script>netpixi.call('hJQNdPPjtRRrTHkLNdY6v4', 'L2PXHrfu7Ff3y4qoBLyfgW', 'changeGraph', 'eyJ0eXBlIjogInNldHRpbmdzIiwgInByb3BzIjogeyJ2ZXJ0ZXgiOiB7ImNvbG9yIjogMCwgInNpemUiOiAxMH19fQo=');</script>\n",
       "    "
      ],
      "text/plain": [
       "<IPython.core.display.HTML object>"
      ]
     },
     "metadata": {},
     "output_type": "display_data"
    },
    {
     "data": {
      "text/html": [
       "\n",
       "        <div id=\"Fse3yurLTvCYbmjnPoatpL\"></div>\n",
       "        <script>netpixi.call('Fse3yurLTvCYbmjnPoatpL', 'L2PXHrfu7Ff3y4qoBLyfgW', 'changeGraph', 'eyJpZCI6IDAsICJ0eXBlIjogInZlcnRleCIsICJwcm9wcyI6IHsiY29sb3IiOiAxNjcxMTY4MCwgInNpemUiOiAyMH19Cg==');</script>\n",
       "    "
      ],
      "text/plain": [
       "<IPython.core.display.HTML object>"
      ]
     },
     "metadata": {},
     "output_type": "display_data"
    },
    {
     "data": {
      "text/html": [
       "\n",
       "        <div id=\"hn4TVTHVUZKp6jDKnikLgM\"></div>\n",
       "        <script>netpixi.call('hn4TVTHVUZKp6jDKnikLgM', 'L2PXHrfu7Ff3y4qoBLyfgW', 'changeGraph', 'eyJpZCI6IDEsICJ0eXBlIjogInZlcnRleCIsICJwcm9wcyI6IHsiY29sb3IiOiAxNjcxMTY4MCwgInNpemUiOiAyMH19Cg==');</script>\n",
       "    "
      ],
      "text/plain": [
       "<IPython.core.display.HTML object>"
      ]
     },
     "metadata": {},
     "output_type": "display_data"
    },
    {
     "data": {
      "text/html": [
       "\n",
       "        <div id=\"WDYGRxfA7DRQP5cZQZTc6S\"></div>\n",
       "        <script>netpixi.call('WDYGRxfA7DRQP5cZQZTc6S', 'L2PXHrfu7Ff3y4qoBLyfgW', 'changeGraph', 'eyJ0eXBlIjogInNldHRpbmdzIiwgInByb3BzIjogeyJlZGdlIjogeyJjb2xvciI6IDAsICJ3aWR0aCI6IDEsICJjdXJ2ZTEiOiAxLCAiY3VydmUyIjogMX19fQo=');</script>\n",
       "    "
      ],
      "text/plain": [
       "<IPython.core.display.HTML object>"
      ]
     },
     "metadata": {},
     "output_type": "display_data"
    }
   ],
   "source": [
    "# mudar a cor de fundo do grafo\n",
    "r.graph(color=0xffffff)\n",
    "\n",
    "# mudar a cor e o tamanho dos vértices\n",
    "r.vertex_default(color=0x000000, size=10)\n",
    "\n",
    "# mudar um vértice específico a partir de seu id\n",
    "r.vertex(0, color=0xff0000, size=20)\n",
    "r.vertex(1, color=0xff0000, size=20)\n",
    "\n",
    "# mudar a cor, a espessura e a curvatura das arestas\n",
    "r.edge_default(color=0x000000, width=1, curve1=1, curve2=1)"
   ]
  },
  {
   "cell_type": "markdown",
   "id": "3552e4b1",
   "metadata": {},
   "source": [
    "## Limpando o grafo"
   ]
  },
  {
   "cell_type": "code",
   "execution_count": 11,
   "id": "12e09d61",
   "metadata": {
    "collapsed": true
   },
   "outputs": [
    {
     "data": {
      "text/html": [
       "\n",
       "        <div id=\"7MHpbr3zubkswWALpg9hap\"></div>\n",
       "        <script>netpixi.render('7MHpbr3zubkswWALpg9hap', 'git_hub_sfdp.net.gz', 1.7777777777777777, true, true, false);</script>\n",
       "    "
      ],
      "text/plain": [
       "<IPython.core.display.HTML object>"
      ]
     },
     "metadata": {},
     "output_type": "display_data"
    }
   ],
   "source": [
    "g = gt_clean(g)\n",
    "m = gt_draw.sfdp_layout(g)\n",
    "gt_move(g, m)\n",
    "gt_save(g, 'git_hub_sfdp.net.gz')\n",
    "netpixi.render('git_hub_sfdp.net.gz', infinite=True);"
   ]
  }
 ],
 "metadata": {
  "kernelspec": {
   "display_name": "Python 3 (ipykernel)",
   "language": "python",
   "name": "python3"
  },
  "language_info": {
   "codemirror_mode": {
    "name": "ipython",
    "version": 3
   },
   "file_extension": ".py",
   "mimetype": "text/x-python",
   "name": "python",
   "nbconvert_exporter": "python",
   "pygments_lexer": "ipython3",
   "version": "3.10.10"
  }
 },
 "nbformat": 4,
 "nbformat_minor": 5
}
