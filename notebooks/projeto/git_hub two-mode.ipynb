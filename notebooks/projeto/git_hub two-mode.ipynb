{
 "cells": [
  {
   "cell_type": "markdown",
   "id": "38ce4ced",
   "metadata": {},
   "source": [
    "## Importando as bibliotecas"
   ]
  },
  {
   "cell_type": "code",
   "execution_count": 2,
   "id": "da5e58c8",
   "metadata": {},
   "outputs": [],
   "source": [
    "from difflib import SequenceMatcher\n",
    "\n",
    "def similar(a, b):\n",
    "    return SequenceMatcher(None, a, b).ratio()"
   ]
  },
  {
   "cell_type": "code",
   "execution_count": 3,
   "id": "c17736d9",
   "metadata": {},
   "outputs": [
    {
     "data": {
      "text/plain": [
       "0.967741935483871"
      ]
     },
     "execution_count": 3,
     "metadata": {},
     "output_type": "execute_result"
    }
   ],
   "source": [
    "similar(\"machinelearning\", \"machine-learning\")"
   ]
  },
  {
   "cell_type": "code",
   "execution_count": 4,
   "id": "19580da7",
   "metadata": {},
   "outputs": [
    {
     "data": {
      "text/html": [
       "\n",
       "    <script src=\"/files/netpixi.min.js\"></script>\n"
      ],
      "text/plain": [
       "<IPython.core.display.HTML object>"
      ]
     },
     "metadata": {},
     "output_type": "display_data"
    },
    {
     "name": "stderr",
     "output_type": "stream",
     "text": [
      "<frozen importlib._bootstrap>:914: ImportWarning: VendorImporter.find_spec() not found; falling back to find_module()\n",
      "<frozen importlib._bootstrap>:914: ImportWarning: VendorImporter.find_spec() not found; falling back to find_module()\n",
      "<frozen importlib._bootstrap>:914: ImportWarning: VendorImporter.find_spec() not found; falling back to find_module()\n"
     ]
    }
   ],
   "source": [
    "import netpixi\n",
    "from netpixi.integration.gt import Graph\n",
    "from netpixi.integration.gt import *\n",
    "import seaborn as sns\n",
    "from regression.integration.gt import *\n",
    "\n",
    "import cpnet\n",
    "\n",
    "from graph_tool import spectral"
   ]
  },
  {
   "cell_type": "markdown",
   "id": "e1957f20",
   "metadata": {},
   "source": [
    "## Criando o grafo"
   ]
  },
  {
   "cell_type": "code",
   "execution_count": 5,
   "id": "039fde2a",
   "metadata": {},
   "outputs": [],
   "source": [
    "g = Graph(directed=False) # não-dirigido\n",
    "\n",
    "t = {}\n",
    "\n",
    "with open('Github_data.txt', \"r\") as arquivo:\n",
    "    arquivo.readline()\n",
    "    for linha in arquivo:\n",
    "        try:\n",
    "            div = linha.split(',')\n",
    "            top_tag = linha.split('[')[1].split(']')[0].replace(\"'\", \"\").replace(\" \", \"\").split(\",\")\n",
    "            topic = div[2].lower()\n",
    "            repositorio = div[3]            \n",
    "            \n",
    "            if not g.has_vertex(repositorio):\n",
    "                g.add_vertex(repositorio)\n",
    "                if top_tag != ['']:\n",
    "                    t[repositorio] = top_tag\n",
    "                else:\n",
    "                    t[repositorio] = [topic]\n",
    "        except:\n",
    "            continue"
   ]
  },
  {
   "cell_type": "code",
   "execution_count": 6,
   "id": "b5b85230",
   "metadata": {},
   "outputs": [
    {
     "name": "stdout",
     "output_type": "stream",
     "text": [
      "3281\n"
     ]
    }
   ],
   "source": [
    "Lista = list(set(item for sublista in t.values() for item in sublista))\n",
    "print(len(Lista))"
   ]
  },
  {
   "cell_type": "code",
   "execution_count": null,
   "id": "7f03cfc4",
   "metadata": {},
   "outputs": [
    {
     "name": "stdout",
     "output_type": "stream",
     "text": [
      "1.0\n",
      "1.0\n",
      "0.8333333333333334\n",
      "1.0\n",
      "1.0\n",
      "0.8888888888888888\n",
      "1.0\n",
      "1.0\n",
      "1.0\n",
      "1.0\n",
      "1.0\n",
      "0.8\n",
      "1.0\n",
      "1.0\n",
      "1.0\n",
      "0.8\n",
      "1.0\n",
      "0.8571428571428571\n",
      "1.0\n",
      "1.0\n",
      "1.0\n",
      "1.0\n",
      "1.0\n",
      "0.8\n",
      "1.0\n",
      "0.8\n",
      "0.8571428571428571\n",
      "1.0\n",
      "1.0\n",
      "1.0\n",
      "1.0\n",
      "1.0\n",
      "1.0\n",
      "1.0\n",
      "0.8571428571428571\n",
      "0.9230769230769231\n",
      "0.8\n",
      "1.0\n",
      "1.0\n",
      "1.0\n",
      "1.0\n",
      "0.8\n",
      "0.8\n",
      "1.0\n",
      "1.0\n",
      "0.8823529411764706\n",
      "1.0\n",
      "1.0\n",
      "1.0\n",
      "0.8333333333333334\n",
      "0.8148148148148148\n",
      "1.0\n",
      "0.8888888888888888\n",
      "0.8717948717948718\n",
      "0.8648648648648649\n",
      "1.0\n",
      "0.875\n",
      "1.0\n",
      "1.0\n",
      "1.0\n",
      "0.8181818181818182\n",
      "1.0\n",
      "1.0\n",
      "1.0\n",
      "0.8333333333333334\n",
      "1.0\n",
      "1.0\n",
      "1.0\n",
      "0.8\n",
      "0.8571428571428571\n",
      "1.0\n",
      "0.9714285714285714\n",
      "0.8387096774193549\n",
      "1.0\n",
      "0.8888888888888888\n",
      "1.0\n",
      "0.8333333333333334\n",
      "1.0\n",
      "1.0\n",
      "0.9565217391304348\n",
      "0.8421052631578947\n",
      "1.0\n",
      "1.0\n",
      "0.8\n",
      "1.0\n",
      "1.0\n",
      "1.0\n",
      "0.8085106382978723\n",
      "0.8235294117647058\n",
      "1.0\n",
      "0.9629629629629629\n",
      "0.8\n",
      "1.0\n",
      "1.0\n",
      "0.8\n",
      "1.0\n",
      "1.0\n",
      "1.0\n",
      "0.8571428571428571\n",
      "1.0\n",
      "1.0\n",
      "1.0\n",
      "0.9090909090909091\n",
      "1.0\n",
      "1.0\n",
      "0.8571428571428571\n",
      "1.0\n",
      "1.0\n",
      "0.8571428571428571\n",
      "1.0\n",
      "0.9777777777777777\n",
      "1.0\n",
      "1.0\n",
      "1.0\n",
      "0.896551724137931\n",
      "0.8571428571428571\n",
      "1.0\n",
      "1.0\n",
      "1.0\n",
      "1.0\n",
      "0.875\n",
      "1.0\n",
      "1.0\n",
      "0.8235294117647058\n",
      "1.0\n",
      "0.8\n",
      "1.0\n",
      "1.0\n",
      "1.0\n",
      "1.0\n",
      "0.8888888888888888\n",
      "1.0\n",
      "1.0\n",
      "0.85\n",
      "0.8333333333333334\n",
      "0.8333333333333334\n",
      "1.0\n",
      "1.0\n",
      "1.0\n",
      "0.8\n",
      "1.0\n",
      "1.0\n",
      "0.8695652173913043\n",
      "1.0\n",
      "1.0\n",
      "1.0\n",
      "1.0\n",
      "1.0\n",
      "0.8275862068965517\n",
      "0.8\n",
      "1.0\n",
      "1.0\n",
      "1.0\n",
      "1.0\n",
      "0.8571428571428571\n",
      "1.0\n",
      "1.0\n",
      "1.0\n",
      "1.0\n",
      "1.0\n",
      "1.0\n",
      "1.0\n",
      "1.0\n",
      "0.9655172413793104\n",
      "1.0\n",
      "1.0\n",
      "0.8148148148148148\n",
      "0.8\n",
      "0.8\n",
      "0.8181818181818182\n",
      "0.8888888888888888\n",
      "0.8148148148148148\n",
      "0.8\n",
      "0.8148148148148148\n",
      "1.0\n",
      "1.0\n",
      "1.0\n",
      "1.0\n",
      "0.8\n",
      "1.0\n",
      "1.0\n",
      "0.8\n",
      "1.0\n",
      "1.0\n",
      "1.0\n",
      "1.0\n",
      "1.0\n",
      "1.0\n",
      "1.0\n",
      "1.0\n",
      "1.0\n",
      "1.0\n",
      "1.0\n",
      "1.0\n",
      "1.0\n",
      "0.9473684210526315\n",
      "1.0\n",
      "1.0\n",
      "1.0\n",
      "0.8235294117647058\n",
      "0.975609756097561\n",
      "1.0\n",
      "1.0\n",
      "0.8333333333333334\n",
      "1.0\n",
      "1.0\n",
      "1.0\n",
      "1.0\n",
      "1.0\n",
      "1.0\n",
      "0.967741935483871\n",
      "0.8461538461538461\n",
      "1.0\n",
      "1.0\n",
      "1.0\n",
      "1.0\n",
      "0.8\n",
      "0.8695652173913043\n",
      "1.0\n",
      "0.8181818181818182\n",
      "1.0\n",
      "1.0\n",
      "0.8\n",
      "1.0\n",
      "0.8571428571428571\n",
      "1.0\n",
      "0.9411764705882353\n",
      "0.8\n",
      "0.8\n",
      "1.0\n",
      "1.0\n",
      "0.8571428571428571\n",
      "1.0\n",
      "1.0\n",
      "0.8695652173913043\n",
      "0.8181818181818182\n",
      "0.9523809523809523\n",
      "1.0\n",
      "0.9655172413793104\n",
      "1.0\n",
      "0.8333333333333334\n",
      "0.8\n",
      "1.0\n",
      "0.8484848484848485\n",
      "0.8148148148148148\n",
      "0.8125\n",
      "0.8\n",
      "0.8275862068965517\n",
      "1.0\n",
      "1.0\n",
      "0.8\n",
      "0.8333333333333334\n",
      "1.0\n",
      "0.8235294117647058\n",
      "0.8\n",
      "1.0\n",
      "0.9523809523809523\n",
      "1.0\n",
      "0.8571428571428571\n",
      "1.0\n",
      "1.0\n",
      "0.8\n",
      "1.0\n",
      "0.8387096774193549\n",
      "1.0\n",
      "1.0\n",
      "0.8\n",
      "1.0\n",
      "1.0\n",
      "0.8\n",
      "1.0\n"
     ]
    }
   ],
   "source": [
    "teste = []\n",
    "\n",
    "for j, i in enumerate(Lista):\n",
    "    print(f\"{j}\", end = \"\\r\")\n",
    "    for b in Lista:\n",
    "        if similar(i, b) >= 0.8:\n",
    "            print(similar(i, b))\n",
    "            if i not in teste:\n",
    "                teste.append(i)\n",
    "        else:\n",
    "            if b not in teste:\n",
    "                teste.append(b)"
   ]
  },
  {
   "cell_type": "code",
   "execution_count": null,
   "id": "5a42b814",
   "metadata": {},
   "outputs": [],
   "source": [
    "print(len(teste))"
   ]
  },
  {
   "cell_type": "code",
   "execution_count": null,
   "id": "6dd68ad3",
   "metadata": {},
   "outputs": [],
   "source": [
    "# def teste(lista, lista2):\n",
    "#     cont = 0\n",
    "#     for i in lista:\n",
    "#         for b in lista2:\n",
    "#             if similar(i, b) >= 0.95:\n",
    "#                 cont += 1\n",
    "#     return cont\n",
    "\n",
    "import itertools\n",
    "\n",
    "def teste(lista, lista2):\n",
    "    cache = {}\n",
    "    cont = 0\n",
    "    for i, b in itertools.product(lista, lista2):\n",
    "        if (i, b) in cache:\n",
    "            cont += cache[(i, b)]\n",
    "        else:\n",
    "            sim = similar(i, b)\n",
    "            if sim >= 0.95:\n",
    "                cont += 1\n",
    "            cache[(i, b)] = sim >= 0.95\n",
    "    return cont"
   ]
  },
  {
   "cell_type": "code",
   "execution_count": null,
   "id": "92e75f0c",
   "metadata": {},
   "outputs": [],
   "source": [
    "lista = [\"machine-lerning\", \"bola\", \"cabeca\"]\n",
    "lista2 = [\"machinelerning\", \"bola\", \"cabrito\", \"cabecalho\"]\n",
    "\n",
    "teste(lista, lista2)"
   ]
  },
  {
   "cell_type": "code",
   "execution_count": null,
   "id": "0f71d9bc",
   "metadata": {},
   "outputs": [],
   "source": [
    "print(len(t.values()))"
   ]
  },
  {
   "cell_type": "code",
   "execution_count": 82,
   "id": "c707c0f5",
   "metadata": {},
   "outputs": [
    {
     "name": "stdout",
     "output_type": "stream",
     "text": [
      "1388\r"
     ]
    }
   ],
   "source": [
    "# # for i in t.keys():\n",
    "# for p, b in t.items():\n",
    "#     for i in t:\n",
    "#         if p != i and not g.has_edge(p, i) and len(set(t[i]).intersection(b)) > 2:\n",
    "#             g.add_edge(p, i)\n",
    "            \n",
    "# for i in t.keys():\n",
    "cont = 0\n",
    "for p, b in t.items():\n",
    "    print(cont, end = \"\\r\")\n",
    "    for i in t:\n",
    "        if p != i and not g.has_edge(p, i) and teste(t[i], b) > 2:\n",
    "            g.add_edge(p, i)\n",
    "    cont += 1"
   ]
  },
  {
   "cell_type": "code",
   "execution_count": null,
   "id": "8a5b350d",
   "metadata": {},
   "outputs": [],
   "source": [
    "g = Graph(directed=False) # não-dirigido\n",
    "\n",
    "rep = {}\n",
    "\n",
    "cont = 0\n",
    "\n",
    "with open('Github_data.txt', \"r\") as arquivo:\n",
    "    arquivo.readline()\n",
    "    for linha in arquivo:\n",
    "        try:\n",
    "            div = linha.split(',')\n",
    "            top_tag = linha.split('[')[1].split(']')[0].replace(\"'\", \"\").replace(\" \", \"\").split(\",\")\n",
    "            topic = div[2].lower()\n",
    "            repositorio = div[3]\n",
    "\n",
    "            if repositorio not in rep.keys():\n",
    "                rep[repositorio] = cont\n",
    "                cont += 1\n",
    "\n",
    "            if not g.has_vertex(rep[repositorio]):\n",
    "                g.add_vertex(rep[repositorio])\n",
    "\n",
    "            if top_tag != ['']:\n",
    "                for i in top_tag:\n",
    "                    if not g.has_vertex(i):\n",
    "                        g.add_vertex(i)\n",
    "\n",
    "                    if not g.has_edge(i, rep[repositorio]):\n",
    "                        g.add_edge(i, rep[repositorio])\n",
    "            else:                        \n",
    "                if not g.has_vertex(topic):\n",
    "                    g.add_vertex(topic)\n",
    "\n",
    "                if not g.has_edge(topic, rep[repositorio]):\n",
    "                    g.add_edge(topic, rep[repositorio])\n",
    "        except:\n",
    "            continue"
   ]
  },
  {
   "cell_type": "code",
   "execution_count": null,
   "id": "5feae23d",
   "metadata": {},
   "outputs": [],
   "source": [
    "# print(t)\n",
    "# print(len(t))\n",
    "\n",
    "# qtd = len( set( [ item for item in t if t.count( item ) > 1] ) )\n",
    "\n",
    "# for j, i in enumerate(t):\n",
    "#     if t.count(i) > 1:\n",
    "#         print(j, i, t.count(i))"
   ]
  },
  {
   "cell_type": "code",
   "execution_count": null,
   "id": "4ef33480",
   "metadata": {},
   "outputs": [],
   "source": [
    "# g = Graph(directed=False) # não-dirigido\n",
    "# g.add_vp('is_team')\n",
    "\n",
    "# with open('Github_data.txt', \"r\") as arquivo:\n",
    "#     arquivo.readline()\n",
    "#     for linha in arquivo:\n",
    "#         try:\n",
    "#             div = linha.split(',')\n",
    "#             top_tag = linha.split('[')[1].split(']')[0].replace(\"'\", \"\").replace(\" \", \"\").split(\",\")\n",
    "#             topic = div[2].lower()\n",
    "#             repositorio = div[3]\n",
    "\n",
    "#             if not g.has_vertex(repositorio):\n",
    "#                 v = g.add_vertex(repositorio)\n",
    "#                 v['is_team'] = False\n",
    "\n",
    "#             for i in top_tag:\n",
    "#                 if not g.has_vertex(i):\n",
    "#                     v = g.add_vertex(i)\n",
    "#                     v['is_team'] = True \n",
    "\n",
    "#                 if not g.has_edge(i, repositorio) and i!= repositorio:\n",
    "#                     g.add_edge(i, repositorio)\n",
    "#         except:\n",
    "#             continue"
   ]
  },
  {
   "cell_type": "markdown",
   "id": "870b61ca",
   "metadata": {},
   "source": [
    "## Salvando o grafo"
   ]
  },
  {
   "cell_type": "code",
   "execution_count": null,
   "id": "0fb35dc8",
   "metadata": {},
   "outputs": [],
   "source": [
    "gt_save(g, 'git_hub.net.gz')"
   ]
  },
  {
   "cell_type": "markdown",
   "id": "96220586",
   "metadata": {},
   "source": [
    "## Compilando e renderizando o grafo"
   ]
  },
  {
   "cell_type": "code",
   "execution_count": null,
   "id": "6df3db18",
   "metadata": {},
   "outputs": [],
   "source": [
    "g = gt_load('git_hub.net.gz')\n",
    "r = netpixi.render('git_hub.net.gz')"
   ]
  },
  {
   "cell_type": "markdown",
   "id": "2a440a5d",
   "metadata": {},
   "source": [
    "## Melhorando visualmento o grafo"
   ]
  },
  {
   "cell_type": "code",
   "execution_count": null,
   "id": "eec2b698",
   "metadata": {},
   "outputs": [],
   "source": [
    "# mudar a cor de fundo do grafo\n",
    "r.graph(color=0xffffff)\n",
    "\n",
    "# mudar a cor e o tamanho dos vértices\n",
    "r.vertex_default(color=0x000000, size=10)\n",
    "\n",
    "# mudar um vértice específico a partir de seu id\n",
    "r.vertex(0, color=0xff0000, size=20)\n",
    "r.vertex(1, color=0xff0000, size=20)\n",
    "\n",
    "# mudar a cor, a espessura e a curvatura das arestas\n",
    "r.edge_default(color=0x000000, width=1, curve1=1, curve2=1)"
   ]
  },
  {
   "cell_type": "markdown",
   "id": "1bae4faa",
   "metadata": {},
   "source": [
    "## Análise exploratória do grafo"
   ]
  },
  {
   "cell_type": "code",
   "execution_count": null,
   "id": "54cd26b6",
   "metadata": {},
   "outputs": [],
   "source": [
    "# Números de vértices\n",
    "\n",
    "n = g.num_vertices()\n",
    "n"
   ]
  },
  {
   "cell_type": "code",
   "execution_count": null,
   "id": "8fe1561d",
   "metadata": {},
   "outputs": [],
   "source": [
    "# Número de arestas\n",
    "\n",
    "m = g.num_edges()\n",
    "m"
   ]
  },
  {
   "cell_type": "code",
   "execution_count": null,
   "id": "803ae8e8",
   "metadata": {},
   "outputs": [],
   "source": [
    "# Número máximo possível de arestas\n",
    "\n",
    "if g.is_directed():\n",
    "    max_edges = n * (n - 1)\n",
    "else:\n",
    "    max_edges = n * (n - 1) // 2\n",
    "max_edges"
   ]
  },
  {
   "cell_type": "code",
   "execution_count": null,
   "id": "4197d6bd",
   "metadata": {
    "scrolled": true
   },
   "outputs": [],
   "source": [
    "# Densidade\n",
    "\n",
    "d = m / max_edges\n",
    "d"
   ]
  },
  {
   "cell_type": "code",
   "execution_count": null,
   "id": "f8ebcccc",
   "metadata": {},
   "outputs": [],
   "source": [
    "# Propriedades de cada vértice\n",
    "\n",
    "data = gt_data(g)\n",
    "\n",
    "# Degree\n",
    "\n",
    "degrees = []\n",
    "for v in g.all_vertices():\n",
    "    degrees.append(v.total_degree())\n",
    "    \n",
    "data['degree'] = degrees\n",
    "data"
   ]
  },
  {
   "cell_type": "code",
   "execution_count": 14,
   "id": "e8e92d96",
   "metadata": {},
   "outputs": [
    {
     "data": {
      "image/png": "[encoded data removed]",
      "text/plain": [
       "<Figure size 640x480 with 1 Axes>"
      ]
     },
     "metadata": {},
     "output_type": "display_data"
    }
   ],
   "source": [
    "# Histograma do degree\n",
    "\n",
    "sns.histplot(data['degree']);"
   ]
  },
  {
   "cell_type": "markdown",
   "id": "6dda6ccd",
   "metadata": {},
   "source": [
    "## Limpando o grafo"
   ]
  },
  {
   "cell_type": "code",
   "execution_count": 83,
   "id": "59b5656a",
   "metadata": {},
   "outputs": [
    {
     "data": {
      "text/html": [
       "\n",
       "        <div id=\"4EmEXD2MuNPNGHzvD83NtZ\"></div>\n",
       "        <script>netpixi.render('4EmEXD2MuNPNGHzvD83NtZ', 'git_hub.net.gz', 1.7777777777777777, true, true, false);</script>\n",
       "    "
      ],
      "text/plain": [
       "<IPython.core.display.HTML object>"
      ]
     },
     "metadata": {},
     "output_type": "display_data"
    }
   ],
   "source": [
    "g = gt_clean(g)\n",
    "m = gt_draw.sfdp_layout(g)\n",
    "gt_move(g, m)\n",
    "gt_save(g, 'git_hub.net.gz')\n",
    "netpixi.render('git_hub.net.gz', infinite=True);"
   ]
  },
  {
   "cell_type": "code",
   "execution_count": null,
   "id": "d0bf3557",
   "metadata": {},
   "outputs": [],
   "source": [
    "gt_clean(g)\n",
    "m = gt_draw.fruchterman_reingold_layout(g)\n",
    "gt_move(g, m)\n",
    "gt_save(g, 'exemplo.net.gz')\n",
    "netpixi.render('exemplo.net.gz');"
   ]
  }
 ],
 "metadata": {
  "kernelspec": {
   "display_name": "Python 3 (ipykernel)",
   "language": "python",
   "name": "python3"
  },
  "language_info": {
   "codemirror_mode": {
    "name": "ipython",
    "version": 3
   },
   "file_extension": ".py",
   "mimetype": "text/x-python",
   "name": "python",
   "nbconvert_exporter": "python",
   "pygments_lexer": "ipython3",
   "version": "3.10.10"
  }
 },
 "nbformat": 4,
 "nbformat_minor": 5
}
