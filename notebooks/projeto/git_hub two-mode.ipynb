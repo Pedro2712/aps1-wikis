{
 "cells": [
  {
   "cell_type": "markdown",
   "id": "38ce4ced",
   "metadata": {},
   "source": [
    "## Importando as bibliotecas"
   ]
  },
  {
   "cell_type": "code",
   "execution_count": 57,
   "id": "da5e58c8",
   "metadata": {},
   "outputs": [],
   "source": [
    "from difflib import SequenceMatcher\n",
    "\n",
    "def similar(a, b):\n",
    "    return SequenceMatcher(None, a, b).ratio()"
   ]
  },
  {
   "cell_type": "code",
   "execution_count": 58,
   "id": "c17736d9",
   "metadata": {},
   "outputs": [
    {
     "data": {
      "text/plain": [
       "0.967741935483871"
      ]
     },
     "execution_count": 58,
     "metadata": {},
     "output_type": "execute_result"
    }
   ],
   "source": [
    "similar(\"machinelearning\", \"machine-learning\")"
   ]
  },
  {
   "cell_type": "code",
   "execution_count": 59,
   "id": "19580da7",
   "metadata": {},
   "outputs": [],
   "source": [
    "import netpixi\n",
    "from netpixi.integration.gt import Graph\n",
    "from netpixi.integration.gt import *\n",
    "import seaborn as sns\n",
    "from regression.integration.gt import *\n",
    "\n",
    "import cpnet\n",
    "\n",
    "from graph_tool import spectral"
   ]
  },
  {
   "cell_type": "markdown",
   "id": "e1957f20",
   "metadata": {},
   "source": [
    "## Criando o grafo"
   ]
  },
  {
   "cell_type": "code",
   "execution_count": 60,
   "id": "039fde2a",
   "metadata": {},
   "outputs": [],
   "source": [
    "g = Graph(directed=False) # não-dirigido\n",
    "\n",
    "t = {}\n",
    "\n",
    "with open('Github_data.txt', \"r\") as arquivo:\n",
    "    arquivo.readline()\n",
    "    for linha in arquivo:\n",
    "        try:\n",
    "            div = linha.split(',')\n",
    "            top_tag = linha.split('[')[1].split(']')[0].replace(\"'\", \"\").replace(\" \", \"\").split(\",\")\n",
    "            topic = div[2].lower()\n",
    "            repositorio = div[3]            \n",
    "            \n",
    "            if not g.has_vertex(repositorio):\n",
    "                g.add_vertex(repositorio)\n",
    "                if top_tag != ['']:\n",
    "                    t[repositorio] = top_tag\n",
    "                else:\n",
    "                    t[repositorio] = [topic]\n",
    "        except:\n",
    "            continue"
   ]
  },
  {
   "cell_type": "code",
   "execution_count": 61,
   "id": "b5b85230",
   "metadata": {},
   "outputs": [
    {
     "name": "stdout",
     "output_type": "stream",
     "text": [
      "3281\n"
     ]
    }
   ],
   "source": [
    "Lista = list(set(item for sublista in t.values() for item in sublista))\n",
    "print(len(Lista))"
   ]
  },
  {
   "cell_type": "code",
   "execution_count": null,
   "id": "7f03cfc4",
   "metadata": {},
   "outputs": [
    {
     "name": "stdout",
     "output_type": "stream",
     "text": [
      "1.0\n",
      "1.0\n",
      "0.8333333333333334\n",
      "1.0\n",
      "1.0\n",
      "0.8888888888888888\n",
      "1.0\n",
      "1.0\n",
      "1.0\n",
      "1.0\n",
      "1.0\n",
      "0.8\n",
      "1.0\n",
      "1.0\n",
      "1.0\n",
      "0.8\n",
      "1.0\n",
      "0.8571428571428571\n",
      "1.0\n",
      "1.0\n",
      "1.0\n",
      "1.0\n",
      "1.0\n",
      "0.8\n",
      "1.0\n",
      "0.8\n",
      "0.8571428571428571\n",
      "1.0\n",
      "1.0\n",
      "1.0\n",
      "1.0\n",
      "1.0\n",
      "1.0\n",
      "1.0\n",
      "0.8571428571428571\n",
      "0.9230769230769231\n",
      "0.8\n",
      "1.0\n",
      "1.0\n",
      "1.0\n",
      "1.0\n",
      "0.8\n",
      "0.8\n",
      "1.0\n",
      "1.0\n",
      "0.8823529411764706\n",
      "1.0\n",
      "1.0\n",
      "1.0\n",
      "0.8333333333333334\n",
      "0.8148148148148148\n",
      "1.0\n",
      "0.8888888888888888\n",
      "0.8717948717948718\n",
      "0.8648648648648649\n",
      "1.0\n",
      "0.875\n",
      "1.0\n",
      "1.0\n",
      "1.0\n",
      "0.8181818181818182\n",
      "1.0\n",
      "1.0\n",
      "1.0\n",
      "0.8333333333333334\n",
      "1.0\n",
      "1.0\n",
      "1.0\n",
      "0.8\n",
      "0.8571428571428571\n",
      "1.0\n",
      "0.9714285714285714\n",
      "0.8387096774193549\n",
      "1.0\n",
      "0.8888888888888888\n",
      "1.0\n",
      "0.8333333333333334\n",
      "1.0\n",
      "1.0\n",
      "0.9565217391304348\n",
      "0.8421052631578947\n",
      "1.0\n",
      "1.0\n",
      "0.8\n",
      "1.0\n",
      "1.0\n",
      "1.0\n",
      "0.8085106382978723\n",
      "0.8235294117647058\n",
      "1.0\n",
      "0.9629629629629629\n",
      "0.8\n",
      "1.0\n",
      "1.0\n",
      "0.8\n",
      "1.0\n",
      "1.0\n",
      "1.0\n",
      "0.8571428571428571\n",
      "1.0\n",
      "1.0\n",
      "1.0\n",
      "0.9090909090909091\n",
      "1.0\n",
      "1.0\n",
      "0.8571428571428571\n",
      "1.0\n",
      "1.0\n",
      "0.8571428571428571\n",
      "1.0\n",
      "0.9777777777777777\n",
      "1.0\n",
      "1.0\n",
      "1.0\n",
      "0.896551724137931\n",
      "0.8571428571428571\n",
      "1.0\n",
      "1.0\n",
      "1.0\n",
      "1.0\n",
      "0.875\n",
      "1.0\n",
      "1.0\n",
      "0.8235294117647058\n",
      "1.0\n",
      "0.8\n",
      "1.0\n",
      "1.0\n",
      "1.0\n",
      "1.0\n",
      "0.8888888888888888\n",
      "1.0\n",
      "1.0\n",
      "0.85\n",
      "0.8333333333333334\n",
      "0.8333333333333334\n",
      "1.0\n",
      "1.0\n",
      "1.0\n",
      "0.8\n",
      "1.0\n",
      "1.0\n",
      "0.8695652173913043\n",
      "1.0\n",
      "1.0\n",
      "1.0\n",
      "1.0\n",
      "1.0\n",
      "0.8275862068965517\n",
      "0.8\n",
      "1.0\n",
      "1.0\n",
      "1.0\n",
      "1.0\n",
      "0.8571428571428571\n",
      "1.0\n",
      "1.0\n",
      "1.0\n",
      "1.0\n",
      "1.0\n",
      "1.0\n",
      "1.0\n",
      "1.0\n",
      "0.9655172413793104\n",
      "1.0\n",
      "1.0\n",
      "0.8148148148148148\n",
      "0.8\n",
      "0.8\n",
      "0.8181818181818182\n",
      "0.8888888888888888\n",
      "0.8148148148148148\n",
      "0.8\n",
      "0.8148148148148148\n",
      "1.0\n",
      "1.0\n",
      "1.0\n",
      "1.0\n",
      "0.8\n",
      "1.0\n",
      "1.0\n",
      "0.8\n",
      "1.0\n",
      "1.0\n",
      "1.0\n",
      "1.0\n",
      "1.0\n",
      "1.0\n",
      "1.0\n",
      "1.0\n",
      "1.0\n",
      "1.0\n",
      "1.0\n",
      "1.0\n",
      "1.0\n",
      "0.9473684210526315\n",
      "1.0\n",
      "1.0\n",
      "1.0\n",
      "0.8235294117647058\n",
      "0.975609756097561\n",
      "1.0\n",
      "1.0\n",
      "0.8333333333333334\n",
      "1.0\n",
      "1.0\n",
      "1.0\n",
      "1.0\n",
      "1.0\n",
      "1.0\n",
      "0.967741935483871\n",
      "0.8461538461538461\n",
      "1.0\n",
      "1.0\n",
      "1.0\n",
      "1.0\n",
      "0.8\n",
      "0.8695652173913043\n",
      "1.0\n",
      "0.8181818181818182\n",
      "1.0\n",
      "1.0\n",
      "0.8\n",
      "1.0\n",
      "0.8571428571428571\n",
      "1.0\n",
      "0.9411764705882353\n",
      "0.8\n",
      "0.8\n",
      "1.0\n",
      "1.0\n",
      "0.8571428571428571\n",
      "1.0\n",
      "1.0\n",
      "0.8695652173913043\n",
      "0.8181818181818182\n",
      "0.9523809523809523\n",
      "1.0\n",
      "0.9655172413793104\n",
      "1.0\n",
      "0.8333333333333334\n",
      "0.8\n",
      "1.0\n",
      "0.8484848484848485\n",
      "0.8148148148148148\n",
      "0.8125\n",
      "0.8\n",
      "0.8275862068965517\n",
      "1.0\n",
      "1.0\n",
      "0.8\n",
      "0.8333333333333334\n",
      "1.0\n",
      "0.8235294117647058\n",
      "0.8\n",
      "1.0\n",
      "0.9523809523809523\n",
      "1.0\n",
      "0.8571428571428571\n",
      "1.0\n",
      "1.0\n",
      "0.8\n",
      "1.0\n",
      "0.8387096774193549\n",
      "1.0\n",
      "1.0\n",
      "0.8\n",
      "1.0\n",
      "1.0\n",
      "0.8\n",
      "1.0\n"
     ]
    }
   ],
   "source": [
    "teste = []\n",
    "\n",
    "for j, i in enumerate(Lista):\n",
    "    print(f\"{j}\", end = \"\\r\")\n",
    "    for b in Lista:\n",
    "        if similar(i, b) >= 0.8:\n",
    "            print(similar(i, b))\n",
    "            if i not in teste:\n",
    "                teste.append(i)\n",
    "        else:\n",
    "            if b not in teste:\n",
    "                teste.append(b)"
   ]
  },
  {
   "cell_type": "code",
   "execution_count": null,
   "id": "5a42b814",
   "metadata": {},
   "outputs": [],
   "source": [
    "print(len(teste))"
   ]
  },
  {
   "cell_type": "code",
   "execution_count": 62,
   "id": "6dd68ad3",
   "metadata": {},
   "outputs": [],
   "source": [
    "# def teste(lista, lista2):\n",
    "#     cont = 0\n",
    "#     for i in lista:\n",
    "#         for b in lista2:\n",
    "#             if similar(i, b) >= 0.95:\n",
    "#                 cont += 1\n",
    "#     return cont\n",
    "\n",
    "import itertools\n",
    "\n",
    "def teste(lista, lista2):\n",
    "    cache = {}\n",
    "    cont = 0\n",
    "    for i, b in itertools.product(lista, lista2):\n",
    "        if (i, b) in cache:\n",
    "            cont += cache[(i, b)]\n",
    "        else:\n",
    "            sim = similar(i, b)\n",
    "            if sim >= 0.95:\n",
    "                cont += 1\n",
    "            cache[(i, b)] = sim >= 0.95\n",
    "    return cont"
   ]
  },
  {
   "cell_type": "code",
   "execution_count": 63,
   "id": "92e75f0c",
   "metadata": {},
   "outputs": [
    {
     "data": {
      "text/plain": [
       "2"
      ]
     },
     "execution_count": 63,
     "metadata": {},
     "output_type": "execute_result"
    }
   ],
   "source": [
    "lista = [\"machine-lerning\", \"bola\", \"cabeca\"]\n",
    "lista2 = [\"machinelerning\", \"bola\", \"cabrito\", \"cabecalho\"]\n",
    "\n",
    "teste(lista, lista2)"
   ]
  },
  {
   "cell_type": "code",
   "execution_count": 64,
   "id": "0f71d9bc",
   "metadata": {},
   "outputs": [
    {
     "name": "stdout",
     "output_type": "stream",
     "text": [
      "1389\n"
     ]
    }
   ],
   "source": [
    "print(len(t.values()))"
   ]
  },
  {
   "cell_type": "code",
   "execution_count": null,
   "id": "c707c0f5",
   "metadata": {},
   "outputs": [
    {
     "name": "stdout",
     "output_type": "stream",
     "text": [
      "817/1388\r"
     ]
    }
   ],
   "source": [
    "# # for i in t.keys():\n",
    "# for p, b in t.items():\n",
    "#     for i in t:\n",
    "#         if p != i and not g.has_edge(p, i) and len(set(t[i]).intersection(b)) > 2:\n",
    "#             g.add_edge(p, i)\n",
    "quant = len(t.values())\n",
    "# for i in t.keys():\n",
    "lista_numeros = []\n",
    "cont = 0\n",
    "for p, b in t.items():\n",
    "    print(f\"{cont}/{quant-1}\", end = \"\\r\")\n",
    "    for i in t:\n",
    "        nummero = teste(t[i], b)\n",
    "        lista_numeros.append(nummero)\n",
    "        if p != i and not g.has_edge(p, i) and nummero >= 2:\n",
    "            g.add_edge(p, i)\n",
    "    cont += 1"
   ]
  },
  {
   "cell_type": "code",
   "execution_count": 41,
   "id": "873b4ab2",
   "metadata": {},
   "outputs": [],
   "source": [
    "lista_distinct = list(set(lista_numeros))[1:]\n",
    "lista_count = []\n",
    "for i in lista_distinct:\n",
    "    (lista_numeros.count(i))\n",
    "    lista_count.append(lista_numeros.count(i))"
   ]
  },
  {
   "cell_type": "code",
   "execution_count": 43,
   "id": "c05e955b",
   "metadata": {},
   "outputs": [
    {
     "data": {
      "image/png": "[encoded data removed]",
      "text/plain": [
       "<Figure size 640x480 with 1 Axes>"
      ]
     },
     "metadata": {},
     "output_type": "display_data"
    }
   ],
   "source": [
    "import matplotlib.pyplot as plt\n",
    "import numpy as np\n",
    "\n",
    "plt.bar(lista_distinct, lista_count)\n",
    "plt.show()"
   ]
  },
  {
   "cell_type": "code",
   "execution_count": null,
   "id": "8a5b350d",
   "metadata": {},
   "outputs": [],
   "source": [
    "g = Graph(directed=False) # não-dirigido\n",
    "\n",
    "rep = {}\n",
    "\n",
    "cont = 0\n",
    "\n",
    "with open('Github_data.txt', \"r\") as arquivo:\n",
    "    arquivo.readline()\n",
    "    for linha in arquivo:\n",
    "        try:\n",
    "            div = linha.split(',')\n",
    "            top_tag = linha.split('[')[1].split(']')[0].replace(\"'\", \"\").replace(\" \", \"\").split(\",\")\n",
    "            topic = div[2].lower()\n",
    "            repositorio = div[3]\n",
    "\n",
    "            if repositorio not in rep.keys():\n",
    "                rep[repositorio] = cont\n",
    "                cont += 1\n",
    "\n",
    "            if not g.has_vertex(rep[repositorio]):\n",
    "                g.add_vertex(rep[repositorio])\n",
    "\n",
    "            if top_tag != ['']:\n",
    "                for i in top_tag:\n",
    "                    if not g.has_vertex(i):\n",
    "                        g.add_vertex(i)\n",
    "\n",
    "                    if not g.has_edge(i, rep[repositorio]):\n",
    "                        g.add_edge(i, rep[repositorio])\n",
    "            else:                        \n",
    "                if not g.has_vertex(topic):\n",
    "                    g.add_vertex(topic)\n",
    "\n",
    "                if not g.has_edge(topic, rep[repositorio]):\n",
    "                    g.add_edge(topic, rep[repositorio])\n",
    "        except:\n",
    "            continue"
   ]
  },
  {
   "cell_type": "code",
   "execution_count": null,
   "id": "5feae23d",
   "metadata": {},
   "outputs": [],
   "source": [
    "# print(t)\n",
    "# print(len(t))\n",
    "\n",
    "# qtd = len( set( [ item for item in t if t.count( item ) > 1] ) )\n",
    "\n",
    "# for j, i in enumerate(t):\n",
    "#     if t.count(i) > 1:\n",
    "#         print(j, i, t.count(i))"
   ]
  },
  {
   "cell_type": "code",
   "execution_count": null,
   "id": "4ef33480",
   "metadata": {},
   "outputs": [],
   "source": [
    "# g = Graph(directed=False) # não-dirigido\n",
    "# g.add_vp('is_team')\n",
    "\n",
    "# with open('Github_data.txt', \"r\") as arquivo:\n",
    "#     arquivo.readline()\n",
    "#     for linha in arquivo:\n",
    "#         try:\n",
    "#             div = linha.split(',')\n",
    "#             top_tag = linha.split('[')[1].split(']')[0].replace(\"'\", \"\").replace(\" \", \"\").split(\",\")\n",
    "#             topic = div[2].lower()\n",
    "#             repositorio = div[3]\n",
    "\n",
    "#             if not g.has_vertex(repositorio):\n",
    "#                 v = g.add_vertex(repositorio)\n",
    "#                 v['is_team'] = False\n",
    "\n",
    "#             for i in top_tag:\n",
    "#                 if not g.has_vertex(i):\n",
    "#                     v = g.add_vertex(i)\n",
    "#                     v['is_team'] = True \n",
    "\n",
    "#                 if not g.has_edge(i, repositorio) and i!= repositorio:\n",
    "#                     g.add_edge(i, repositorio)\n",
    "#         except:\n",
    "#             continue"
   ]
  },
  {
   "cell_type": "markdown",
   "id": "870b61ca",
   "metadata": {},
   "source": [
    "## Salvando o grafo"
   ]
  },
  {
   "cell_type": "code",
   "execution_count": 45,
   "id": "0fb35dc8",
   "metadata": {},
   "outputs": [],
   "source": [
    "gt_save(g, 'git_hub.net.gz')"
   ]
  },
  {
   "cell_type": "markdown",
   "id": "96220586",
   "metadata": {},
   "source": [
    "## Compilando e renderizando o grafo"
   ]
  },
  {
   "cell_type": "code",
   "execution_count": 46,
   "id": "6df3db18",
   "metadata": {
    "collapsed": true
   },
   "outputs": [
    {
     "data": {
      "text/html": [
       "\n",
       "        <div id=\"EhUtLTiE4Q3wz2GWtdaVgr\"></div>\n",
       "        <script>netpixi.render('EhUtLTiE4Q3wz2GWtdaVgr', 'git_hub.net.gz', 1.7777777777777777, true, false, false);</script>\n",
       "    "
      ],
      "text/plain": [
       "<IPython.core.display.HTML object>"
      ]
     },
     "metadata": {},
     "output_type": "display_data"
    }
   ],
   "source": [
    "g = gt_load('git_hub.net.gz')\n",
    "r = netpixi.render('git_hub.net.gz')"
   ]
  },
  {
   "cell_type": "markdown",
   "id": "2a440a5d",
   "metadata": {},
   "source": [
    "## Melhorando visualmento o grafo"
   ]
  },
  {
   "cell_type": "code",
   "execution_count": 47,
   "id": "eec2b698",
   "metadata": {},
   "outputs": [
    {
     "data": {
      "text/html": [
       "\n",
       "        <div id=\"FVEaoKo7LPdtoMfMiVvMsa\"></div>\n",
       "        <script>netpixi.call('FVEaoKo7LPdtoMfMiVvMsa', 'EhUtLTiE4Q3wz2GWtdaVgr', 'changeGraph', 'eyJ0eXBlIjogInNldHRpbmdzIiwgInByb3BzIjogeyJncmFwaCI6IHsiY29sb3IiOiAxNjc3NzIxNX19fQo=');</script>\n",
       "    "
      ],
      "text/plain": [
       "<IPython.core.display.HTML object>"
      ]
     },
     "metadata": {},
     "output_type": "display_data"
    },
    {
     "data": {
      "text/html": [
       "\n",
       "        <div id=\"RzpJ8xv6fdVQw6w9ejHSro\"></div>\n",
       "        <script>netpixi.call('RzpJ8xv6fdVQw6w9ejHSro', 'EhUtLTiE4Q3wz2GWtdaVgr', 'changeGraph', 'eyJ0eXBlIjogInNldHRpbmdzIiwgInByb3BzIjogeyJ2ZXJ0ZXgiOiB7ImNvbG9yIjogMCwgInNpemUiOiAxMH19fQo=');</script>\n",
       "    "
      ],
      "text/plain": [
       "<IPython.core.display.HTML object>"
      ]
     },
     "metadata": {},
     "output_type": "display_data"
    },
    {
     "data": {
      "text/html": [
       "\n",
       "        <div id=\"5RYmZxLMxmZyUP5ip3HiZq\"></div>\n",
       "        <script>netpixi.call('5RYmZxLMxmZyUP5ip3HiZq', 'EhUtLTiE4Q3wz2GWtdaVgr', 'changeGraph', 'eyJpZCI6IDAsICJ0eXBlIjogInZlcnRleCIsICJwcm9wcyI6IHsiY29sb3IiOiAxNjcxMTY4MCwgInNpemUiOiAyMH19Cg==');</script>\n",
       "    "
      ],
      "text/plain": [
       "<IPython.core.display.HTML object>"
      ]
     },
     "metadata": {},
     "output_type": "display_data"
    },
    {
     "data": {
      "text/html": [
       "\n",
       "        <div id=\"dxcz2suhXMqihfxDR6VoBh\"></div>\n",
       "        <script>netpixi.call('dxcz2suhXMqihfxDR6VoBh', 'EhUtLTiE4Q3wz2GWtdaVgr', 'changeGraph', 'eyJpZCI6IDEsICJ0eXBlIjogInZlcnRleCIsICJwcm9wcyI6IHsiY29sb3IiOiAxNjcxMTY4MCwgInNpemUiOiAyMH19Cg==');</script>\n",
       "    "
      ],
      "text/plain": [
       "<IPython.core.display.HTML object>"
      ]
     },
     "metadata": {},
     "output_type": "display_data"
    },
    {
     "data": {
      "text/html": [
       "\n",
       "        <div id=\"RqG39BX89DTyaQ6VpwdpKk\"></div>\n",
       "        <script>netpixi.call('RqG39BX89DTyaQ6VpwdpKk', 'EhUtLTiE4Q3wz2GWtdaVgr', 'changeGraph', 'eyJ0eXBlIjogInNldHRpbmdzIiwgInByb3BzIjogeyJlZGdlIjogeyJjb2xvciI6IDAsICJ3aWR0aCI6IDEsICJjdXJ2ZTEiOiAxLCAiY3VydmUyIjogMX19fQo=');</script>\n",
       "    "
      ],
      "text/plain": [
       "<IPython.core.display.HTML object>"
      ]
     },
     "metadata": {},
     "output_type": "display_data"
    }
   ],
   "source": [
    "# mudar a cor de fundo do grafo\n",
    "r.graph(color=0xffffff)\n",
    "\n",
    "# mudar a cor e o tamanho dos vértices\n",
    "r.vertex_default(color=0x000000, size=10)\n",
    "\n",
    "# mudar um vértice específico a partir de seu id\n",
    "r.vertex(0, color=0xff0000, size=20)\n",
    "r.vertex(1, color=0xff0000, size=20)\n",
    "\n",
    "# mudar a cor, a espessura e a curvatura das arestas\n",
    "r.edge_default(color=0x000000, width=1, curve1=1, curve2=1)"
   ]
  },
  {
   "cell_type": "markdown",
   "id": "1bae4faa",
   "metadata": {},
   "source": [
    "## Análise exploratória do grafo"
   ]
  },
  {
   "cell_type": "code",
   "execution_count": 48,
   "id": "54cd26b6",
   "metadata": {},
   "outputs": [
    {
     "data": {
      "text/plain": [
       "1389"
      ]
     },
     "execution_count": 48,
     "metadata": {},
     "output_type": "execute_result"
    }
   ],
   "source": [
    "# Números de vértices\n",
    "\n",
    "n = g.num_vertices()\n",
    "n"
   ]
  },
  {
   "cell_type": "code",
   "execution_count": 49,
   "id": "8fe1561d",
   "metadata": {},
   "outputs": [
    {
     "data": {
      "text/plain": [
       "8106"
      ]
     },
     "execution_count": 49,
     "metadata": {},
     "output_type": "execute_result"
    }
   ],
   "source": [
    "# Número de arestas\n",
    "\n",
    "m = g.num_edges()\n",
    "m"
   ]
  },
  {
   "cell_type": "code",
   "execution_count": 50,
   "id": "803ae8e8",
   "metadata": {},
   "outputs": [
    {
     "data": {
      "text/plain": [
       "963966"
      ]
     },
     "execution_count": 50,
     "metadata": {},
     "output_type": "execute_result"
    }
   ],
   "source": [
    "# Número máximo possível de arestas\n",
    "\n",
    "if g.is_directed():\n",
    "    max_edges = n * (n - 1)\n",
    "else:\n",
    "    max_edges = n * (n - 1) // 2\n",
    "max_edges"
   ]
  },
  {
   "cell_type": "code",
   "execution_count": 51,
   "id": "4197d6bd",
   "metadata": {
    "scrolled": true
   },
   "outputs": [
    {
     "data": {
      "text/plain": [
       "0.008409010276296052"
      ]
     },
     "execution_count": 51,
     "metadata": {},
     "output_type": "execute_result"
    }
   ],
   "source": [
    "# Densidade\n",
    "\n",
    "d = m / max_edges\n",
    "d"
   ]
  },
  {
   "cell_type": "code",
   "execution_count": 52,
   "id": "f8ebcccc",
   "metadata": {},
   "outputs": [
    {
     "data": {
      "text/html": [
       "<div>\n",
       "<style scoped>\n",
       "    .dataframe tbody tr th:only-of-type {\n",
       "        vertical-align: middle;\n",
       "    }\n",
       "\n",
       "    .dataframe tbody tr th {\n",
       "        vertical-align: top;\n",
       "    }\n",
       "\n",
       "    .dataframe thead th {\n",
       "        text-align: right;\n",
       "    }\n",
       "</style>\n",
       "<table border=\"1\" class=\"dataframe\">\n",
       "  <thead>\n",
       "    <tr style=\"text-align: right;\">\n",
       "      <th></th>\n",
       "      <th>degree</th>\n",
       "    </tr>\n",
       "    <tr>\n",
       "      <th>id</th>\n",
       "      <th></th>\n",
       "    </tr>\n",
       "  </thead>\n",
       "  <tbody>\n",
       "    <tr>\n",
       "      <th>keras</th>\n",
       "      <td>111</td>\n",
       "    </tr>\n",
       "    <tr>\n",
       "      <th>scikit-learn</th>\n",
       "      <td>47</td>\n",
       "    </tr>\n",
       "    <tr>\n",
       "      <th>PythonDataScienceHandbook</th>\n",
       "      <td>7</td>\n",
       "    </tr>\n",
       "    <tr>\n",
       "      <th>Probabilistic-Programming-and-Bayesian-Methods-for-Hackers</th>\n",
       "      <td>6</td>\n",
       "    </tr>\n",
       "    <tr>\n",
       "      <th>Data-Science--Cheat-Sheet</th>\n",
       "      <td>0</td>\n",
       "    </tr>\n",
       "    <tr>\n",
       "      <th>...</th>\n",
       "      <td>...</td>\n",
       "    </tr>\n",
       "    <tr>\n",
       "      <th>react-native-sensor-manager</th>\n",
       "      <td>0</td>\n",
       "    </tr>\n",
       "    <tr>\n",
       "      <th>weatherstation</th>\n",
       "      <td>0</td>\n",
       "    </tr>\n",
       "    <tr>\n",
       "      <th>OctoPrint-Enclosure</th>\n",
       "      <td>1</td>\n",
       "    </tr>\n",
       "    <tr>\n",
       "      <th>SensorDashboard</th>\n",
       "      <td>0</td>\n",
       "    </tr>\n",
       "    <tr>\n",
       "      <th>BME680_driver</th>\n",
       "      <td>0</td>\n",
       "    </tr>\n",
       "  </tbody>\n",
       "</table>\n",
       "<p>1389 rows × 1 columns</p>\n",
       "</div>"
      ],
      "text/plain": [
       "                                                    degree\n",
       "id                                                        \n",
       "keras                                                  111\n",
       "scikit-learn                                            47\n",
       "PythonDataScienceHandbook                                7\n",
       "Probabilistic-Programming-and-Bayesian-Methods-...       6\n",
       "Data-Science--Cheat-Sheet                                0\n",
       "...                                                    ...\n",
       "react-native-sensor-manager                              0\n",
       "weatherstation                                           0\n",
       "OctoPrint-Enclosure                                      1\n",
       "SensorDashboard                                          0\n",
       "BME680_driver                                            0\n",
       "\n",
       "[1389 rows x 1 columns]"
      ]
     },
     "execution_count": 52,
     "metadata": {},
     "output_type": "execute_result"
    }
   ],
   "source": [
    "# Propriedades de cada vértice\n",
    "\n",
    "data = gt_data(g)\n",
    "\n",
    "# Degree\n",
    "\n",
    "degrees = []\n",
    "for v in g.all_vertices():\n",
    "    degrees.append(v.total_degree())\n",
    "    \n",
    "data['degree'] = degrees\n",
    "data"
   ]
  },
  {
   "cell_type": "code",
   "execution_count": 53,
   "id": "e8e92d96",
   "metadata": {},
   "outputs": [
    {
     "data": {
      "image/png": "[encoded data removed]",
      "text/plain": [
       "<Figure size 640x480 with 1 Axes>"
      ]
     },
     "metadata": {},
     "output_type": "display_data"
    }
   ],
   "source": [
    "# Histograma do degree\n",
    "\n",
    "sns.histplot(data['degree']);"
   ]
  },
  {
   "cell_type": "markdown",
   "id": "6dda6ccd",
   "metadata": {},
   "source": [
    "## Limpando o grafo"
   ]
  },
  {
   "cell_type": "code",
   "execution_count": 54,
   "id": "59b5656a",
   "metadata": {},
   "outputs": [
    {
     "data": {
      "text/html": [
       "\n",
       "        <div id=\"7WJxRyyn5989f7B7V4vVyN\"></div>\n",
       "        <script>netpixi.render('7WJxRyyn5989f7B7V4vVyN', 'git_hub.net.gz', 1.7777777777777777, true, true, false);</script>\n",
       "    "
      ],
      "text/plain": [
       "<IPython.core.display.HTML object>"
      ]
     },
     "metadata": {},
     "output_type": "display_data"
    }
   ],
   "source": [
    "g = gt_clean(g)\n",
    "m = gt_draw.sfdp_layout(g)\n",
    "gt_move(g, m)\n",
    "gt_save(g, 'git_hub.net.gz')\n",
    "netpixi.render('git_hub.net.gz', infinite=True);"
   ]
  },
  {
   "cell_type": "code",
   "execution_count": 55,
   "id": "d0bf3557",
   "metadata": {},
   "outputs": [
    {
     "data": {
      "text/html": [
       "\n",
       "        <div id=\"gQB2mdue5zfPDts4dTj5rQ\"></div>\n",
       "        <script>netpixi.render('gQB2mdue5zfPDts4dTj5rQ', 'exemplo.net.gz', 1.7777777777777777, true, false, false);</script>\n",
       "    "
      ],
      "text/plain": [
       "<IPython.core.display.HTML object>"
      ]
     },
     "metadata": {},
     "output_type": "display_data"
    }
   ],
   "source": [
    "gt_clean(g)\n",
    "m = gt_draw.fruchterman_reingold_layout(g)\n",
    "gt_move(g, m)\n",
    "gt_save(g, 'exemplo.net.gz')\n",
    "netpixi.render('exemplo.net.gz');"
   ]
  }
 ],
 "metadata": {
  "kernelspec": {
   "display_name": "Python 3 (ipykernel)",
   "language": "python",
   "name": "python3"
  },
  "language_info": {
   "codemirror_mode": {
    "name": "ipython",
    "version": 3
   },
   "file_extension": ".py",
   "mimetype": "text/x-python",
   "name": "python",
   "nbconvert_exporter": "python",
   "pygments_lexer": "ipython3",
   "version": "3.10.10"
  }
 },
 "nbformat": 4,
 "nbformat_minor": 5
}
